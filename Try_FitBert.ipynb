{
  "nbformat": 4,
  "nbformat_minor": 0,
  "metadata": {
    "colab": {
      "name": "Try FitBert.ipynb",
      "provenance": [],
      "include_colab_link": true
    },
    "kernelspec": {
      "name": "python3",
      "display_name": "Python 3"
    },
    "accelerator": "TPU",
    "widgets": {
      "application/vnd.jupyter.widget-state+json": {
        "ca87eddaaeb446bfbdec856d61178f2b": {
          "model_module": "@jupyter-widgets/controls",
          "model_name": "HBoxModel",
          "state": {
            "_view_name": "HBoxView",
            "_dom_classes": [],
            "_model_name": "HBoxModel",
            "_view_module": "@jupyter-widgets/controls",
            "_model_module_version": "1.5.0",
            "_view_count": null,
            "_view_module_version": "1.5.0",
            "box_style": "",
            "layout": "IPY_MODEL_8e4769c3dcda41f0befd8da960c4c4a1",
            "_model_module": "@jupyter-widgets/controls",
            "children": [
              "IPY_MODEL_f1b91d0d877f427d806074ff8151bf6e",
              "IPY_MODEL_f16c652f41a3461b98cecc460e08a4a0"
            ]
          }
        },
        "8e4769c3dcda41f0befd8da960c4c4a1": {
          "model_module": "@jupyter-widgets/base",
          "model_name": "LayoutModel",
          "state": {
            "_view_name": "LayoutView",
            "grid_template_rows": null,
            "right": null,
            "justify_content": null,
            "_view_module": "@jupyter-widgets/base",
            "overflow": null,
            "_model_module_version": "1.2.0",
            "_view_count": null,
            "flex_flow": null,
            "width": null,
            "min_width": null,
            "border": null,
            "align_items": null,
            "bottom": null,
            "_model_module": "@jupyter-widgets/base",
            "top": null,
            "grid_column": null,
            "overflow_y": null,
            "overflow_x": null,
            "grid_auto_flow": null,
            "grid_area": null,
            "grid_template_columns": null,
            "flex": null,
            "_model_name": "LayoutModel",
            "justify_items": null,
            "grid_row": null,
            "max_height": null,
            "align_content": null,
            "visibility": null,
            "align_self": null,
            "height": null,
            "min_height": null,
            "padding": null,
            "grid_auto_rows": null,
            "grid_gap": null,
            "max_width": null,
            "order": null,
            "_view_module_version": "1.2.0",
            "grid_template_areas": null,
            "object_position": null,
            "object_fit": null,
            "grid_auto_columns": null,
            "margin": null,
            "display": null,
            "left": null
          }
        },
        "f1b91d0d877f427d806074ff8151bf6e": {
          "model_module": "@jupyter-widgets/controls",
          "model_name": "IntProgressModel",
          "state": {
            "_view_name": "ProgressView",
            "style": "IPY_MODEL_4d9b6e3ba20440ef9f5911236c13f04d",
            "_dom_classes": [],
            "description": "Downloading: 100%",
            "_model_name": "IntProgressModel",
            "bar_style": "success",
            "max": 434,
            "_view_module": "@jupyter-widgets/controls",
            "_model_module_version": "1.5.0",
            "value": 434,
            "_view_count": null,
            "_view_module_version": "1.5.0",
            "orientation": "horizontal",
            "min": 0,
            "description_tooltip": null,
            "_model_module": "@jupyter-widgets/controls",
            "layout": "IPY_MODEL_d70db327978d428b9ff76556836e79a8"
          }
        },
        "f16c652f41a3461b98cecc460e08a4a0": {
          "model_module": "@jupyter-widgets/controls",
          "model_name": "HTMLModel",
          "state": {
            "_view_name": "HTMLView",
            "style": "IPY_MODEL_19406c889a8f451a8b3a9f14d800599f",
            "_dom_classes": [],
            "description": "",
            "_model_name": "HTMLModel",
            "placeholder": "​",
            "_view_module": "@jupyter-widgets/controls",
            "_model_module_version": "1.5.0",
            "value": " 434/434 [00:00&lt;00:00, 1.07kB/s]",
            "_view_count": null,
            "_view_module_version": "1.5.0",
            "description_tooltip": null,
            "_model_module": "@jupyter-widgets/controls",
            "layout": "IPY_MODEL_824fbe70323e468bb36f801a46f63487"
          }
        },
        "4d9b6e3ba20440ef9f5911236c13f04d": {
          "model_module": "@jupyter-widgets/controls",
          "model_name": "ProgressStyleModel",
          "state": {
            "_view_name": "StyleView",
            "_model_name": "ProgressStyleModel",
            "description_width": "initial",
            "_view_module": "@jupyter-widgets/base",
            "_model_module_version": "1.5.0",
            "_view_count": null,
            "_view_module_version": "1.2.0",
            "bar_color": null,
            "_model_module": "@jupyter-widgets/controls"
          }
        },
        "d70db327978d428b9ff76556836e79a8": {
          "model_module": "@jupyter-widgets/base",
          "model_name": "LayoutModel",
          "state": {
            "_view_name": "LayoutView",
            "grid_template_rows": null,
            "right": null,
            "justify_content": null,
            "_view_module": "@jupyter-widgets/base",
            "overflow": null,
            "_model_module_version": "1.2.0",
            "_view_count": null,
            "flex_flow": null,
            "width": null,
            "min_width": null,
            "border": null,
            "align_items": null,
            "bottom": null,
            "_model_module": "@jupyter-widgets/base",
            "top": null,
            "grid_column": null,
            "overflow_y": null,
            "overflow_x": null,
            "grid_auto_flow": null,
            "grid_area": null,
            "grid_template_columns": null,
            "flex": null,
            "_model_name": "LayoutModel",
            "justify_items": null,
            "grid_row": null,
            "max_height": null,
            "align_content": null,
            "visibility": null,
            "align_self": null,
            "height": null,
            "min_height": null,
            "padding": null,
            "grid_auto_rows": null,
            "grid_gap": null,
            "max_width": null,
            "order": null,
            "_view_module_version": "1.2.0",
            "grid_template_areas": null,
            "object_position": null,
            "object_fit": null,
            "grid_auto_columns": null,
            "margin": null,
            "display": null,
            "left": null
          }
        },
        "19406c889a8f451a8b3a9f14d800599f": {
          "model_module": "@jupyter-widgets/controls",
          "model_name": "DescriptionStyleModel",
          "state": {
            "_view_name": "StyleView",
            "_model_name": "DescriptionStyleModel",
            "description_width": "",
            "_view_module": "@jupyter-widgets/base",
            "_model_module_version": "1.5.0",
            "_view_count": null,
            "_view_module_version": "1.2.0",
            "_model_module": "@jupyter-widgets/controls"
          }
        },
        "824fbe70323e468bb36f801a46f63487": {
          "model_module": "@jupyter-widgets/base",
          "model_name": "LayoutModel",
          "state": {
            "_view_name": "LayoutView",
            "grid_template_rows": null,
            "right": null,
            "justify_content": null,
            "_view_module": "@jupyter-widgets/base",
            "overflow": null,
            "_model_module_version": "1.2.0",
            "_view_count": null,
            "flex_flow": null,
            "width": null,
            "min_width": null,
            "border": null,
            "align_items": null,
            "bottom": null,
            "_model_module": "@jupyter-widgets/base",
            "top": null,
            "grid_column": null,
            "overflow_y": null,
            "overflow_x": null,
            "grid_auto_flow": null,
            "grid_area": null,
            "grid_template_columns": null,
            "flex": null,
            "_model_name": "LayoutModel",
            "justify_items": null,
            "grid_row": null,
            "max_height": null,
            "align_content": null,
            "visibility": null,
            "align_self": null,
            "height": null,
            "min_height": null,
            "padding": null,
            "grid_auto_rows": null,
            "grid_gap": null,
            "max_width": null,
            "order": null,
            "_view_module_version": "1.2.0",
            "grid_template_areas": null,
            "object_position": null,
            "object_fit": null,
            "grid_auto_columns": null,
            "margin": null,
            "display": null,
            "left": null
          }
        },
        "b1a47aac5a974ef58d207e7b2c5a3f10": {
          "model_module": "@jupyter-widgets/controls",
          "model_name": "HBoxModel",
          "state": {
            "_view_name": "HBoxView",
            "_dom_classes": [],
            "_model_name": "HBoxModel",
            "_view_module": "@jupyter-widgets/controls",
            "_model_module_version": "1.5.0",
            "_view_count": null,
            "_view_module_version": "1.5.0",
            "box_style": "",
            "layout": "IPY_MODEL_920720d8c7a8456bb1b873b48cc16011",
            "_model_module": "@jupyter-widgets/controls",
            "children": [
              "IPY_MODEL_71b4d33393f24e2fbb9bae7dba46f812",
              "IPY_MODEL_47bdbdbc32c34e6b9b65b55047783fe9"
            ]
          }
        },
        "920720d8c7a8456bb1b873b48cc16011": {
          "model_module": "@jupyter-widgets/base",
          "model_name": "LayoutModel",
          "state": {
            "_view_name": "LayoutView",
            "grid_template_rows": null,
            "right": null,
            "justify_content": null,
            "_view_module": "@jupyter-widgets/base",
            "overflow": null,
            "_model_module_version": "1.2.0",
            "_view_count": null,
            "flex_flow": null,
            "width": null,
            "min_width": null,
            "border": null,
            "align_items": null,
            "bottom": null,
            "_model_module": "@jupyter-widgets/base",
            "top": null,
            "grid_column": null,
            "overflow_y": null,
            "overflow_x": null,
            "grid_auto_flow": null,
            "grid_area": null,
            "grid_template_columns": null,
            "flex": null,
            "_model_name": "LayoutModel",
            "justify_items": null,
            "grid_row": null,
            "max_height": null,
            "align_content": null,
            "visibility": null,
            "align_self": null,
            "height": null,
            "min_height": null,
            "padding": null,
            "grid_auto_rows": null,
            "grid_gap": null,
            "max_width": null,
            "order": null,
            "_view_module_version": "1.2.0",
            "grid_template_areas": null,
            "object_position": null,
            "object_fit": null,
            "grid_auto_columns": null,
            "margin": null,
            "display": null,
            "left": null
          }
        },
        "71b4d33393f24e2fbb9bae7dba46f812": {
          "model_module": "@jupyter-widgets/controls",
          "model_name": "IntProgressModel",
          "state": {
            "_view_name": "ProgressView",
            "style": "IPY_MODEL_581429982b80485bb9db70685e7caec7",
            "_dom_classes": [],
            "description": "Downloading: 100%",
            "_model_name": "IntProgressModel",
            "bar_style": "success",
            "max": 1344997306,
            "_view_module": "@jupyter-widgets/controls",
            "_model_module_version": "1.5.0",
            "value": 1344997306,
            "_view_count": null,
            "_view_module_version": "1.5.0",
            "orientation": "horizontal",
            "min": 0,
            "description_tooltip": null,
            "_model_module": "@jupyter-widgets/controls",
            "layout": "IPY_MODEL_397563bb40bf453ba07d83209ab50557"
          }
        },
        "47bdbdbc32c34e6b9b65b55047783fe9": {
          "model_module": "@jupyter-widgets/controls",
          "model_name": "HTMLModel",
          "state": {
            "_view_name": "HTMLView",
            "style": "IPY_MODEL_a229cd74ac5e4a4695ae5743a8384f80",
            "_dom_classes": [],
            "description": "",
            "_model_name": "HTMLModel",
            "placeholder": "​",
            "_view_module": "@jupyter-widgets/controls",
            "_model_module_version": "1.5.0",
            "value": " 1.34G/1.34G [00:38&lt;00:00, 34.6MB/s]",
            "_view_count": null,
            "_view_module_version": "1.5.0",
            "description_tooltip": null,
            "_model_module": "@jupyter-widgets/controls",
            "layout": "IPY_MODEL_85e3370710fe403aa39e6e3d82598292"
          }
        },
        "581429982b80485bb9db70685e7caec7": {
          "model_module": "@jupyter-widgets/controls",
          "model_name": "ProgressStyleModel",
          "state": {
            "_view_name": "StyleView",
            "_model_name": "ProgressStyleModel",
            "description_width": "initial",
            "_view_module": "@jupyter-widgets/base",
            "_model_module_version": "1.5.0",
            "_view_count": null,
            "_view_module_version": "1.2.0",
            "bar_color": null,
            "_model_module": "@jupyter-widgets/controls"
          }
        },
        "397563bb40bf453ba07d83209ab50557": {
          "model_module": "@jupyter-widgets/base",
          "model_name": "LayoutModel",
          "state": {
            "_view_name": "LayoutView",
            "grid_template_rows": null,
            "right": null,
            "justify_content": null,
            "_view_module": "@jupyter-widgets/base",
            "overflow": null,
            "_model_module_version": "1.2.0",
            "_view_count": null,
            "flex_flow": null,
            "width": null,
            "min_width": null,
            "border": null,
            "align_items": null,
            "bottom": null,
            "_model_module": "@jupyter-widgets/base",
            "top": null,
            "grid_column": null,
            "overflow_y": null,
            "overflow_x": null,
            "grid_auto_flow": null,
            "grid_area": null,
            "grid_template_columns": null,
            "flex": null,
            "_model_name": "LayoutModel",
            "justify_items": null,
            "grid_row": null,
            "max_height": null,
            "align_content": null,
            "visibility": null,
            "align_self": null,
            "height": null,
            "min_height": null,
            "padding": null,
            "grid_auto_rows": null,
            "grid_gap": null,
            "max_width": null,
            "order": null,
            "_view_module_version": "1.2.0",
            "grid_template_areas": null,
            "object_position": null,
            "object_fit": null,
            "grid_auto_columns": null,
            "margin": null,
            "display": null,
            "left": null
          }
        },
        "a229cd74ac5e4a4695ae5743a8384f80": {
          "model_module": "@jupyter-widgets/controls",
          "model_name": "DescriptionStyleModel",
          "state": {
            "_view_name": "StyleView",
            "_model_name": "DescriptionStyleModel",
            "description_width": "",
            "_view_module": "@jupyter-widgets/base",
            "_model_module_version": "1.5.0",
            "_view_count": null,
            "_view_module_version": "1.2.0",
            "_model_module": "@jupyter-widgets/controls"
          }
        },
        "85e3370710fe403aa39e6e3d82598292": {
          "model_module": "@jupyter-widgets/base",
          "model_name": "LayoutModel",
          "state": {
            "_view_name": "LayoutView",
            "grid_template_rows": null,
            "right": null,
            "justify_content": null,
            "_view_module": "@jupyter-widgets/base",
            "overflow": null,
            "_model_module_version": "1.2.0",
            "_view_count": null,
            "flex_flow": null,
            "width": null,
            "min_width": null,
            "border": null,
            "align_items": null,
            "bottom": null,
            "_model_module": "@jupyter-widgets/base",
            "top": null,
            "grid_column": null,
            "overflow_y": null,
            "overflow_x": null,
            "grid_auto_flow": null,
            "grid_area": null,
            "grid_template_columns": null,
            "flex": null,
            "_model_name": "LayoutModel",
            "justify_items": null,
            "grid_row": null,
            "max_height": null,
            "align_content": null,
            "visibility": null,
            "align_self": null,
            "height": null,
            "min_height": null,
            "padding": null,
            "grid_auto_rows": null,
            "grid_gap": null,
            "max_width": null,
            "order": null,
            "_view_module_version": "1.2.0",
            "grid_template_areas": null,
            "object_position": null,
            "object_fit": null,
            "grid_auto_columns": null,
            "margin": null,
            "display": null,
            "left": null
          }
        },
        "bb398855f9024e18b3692cf3b2f0ea22": {
          "model_module": "@jupyter-widgets/controls",
          "model_name": "HBoxModel",
          "state": {
            "_view_name": "HBoxView",
            "_dom_classes": [],
            "_model_name": "HBoxModel",
            "_view_module": "@jupyter-widgets/controls",
            "_model_module_version": "1.5.0",
            "_view_count": null,
            "_view_module_version": "1.5.0",
            "box_style": "",
            "layout": "IPY_MODEL_11f133eb99c84a688f3f28fdef901a30",
            "_model_module": "@jupyter-widgets/controls",
            "children": [
              "IPY_MODEL_98c2b77732f64b6ba05be59b120272d7",
              "IPY_MODEL_62ebc66b3ca3432fb4df57a6b320fdb7"
            ]
          }
        },
        "11f133eb99c84a688f3f28fdef901a30": {
          "model_module": "@jupyter-widgets/base",
          "model_name": "LayoutModel",
          "state": {
            "_view_name": "LayoutView",
            "grid_template_rows": null,
            "right": null,
            "justify_content": null,
            "_view_module": "@jupyter-widgets/base",
            "overflow": null,
            "_model_module_version": "1.2.0",
            "_view_count": null,
            "flex_flow": null,
            "width": null,
            "min_width": null,
            "border": null,
            "align_items": null,
            "bottom": null,
            "_model_module": "@jupyter-widgets/base",
            "top": null,
            "grid_column": null,
            "overflow_y": null,
            "overflow_x": null,
            "grid_auto_flow": null,
            "grid_area": null,
            "grid_template_columns": null,
            "flex": null,
            "_model_name": "LayoutModel",
            "justify_items": null,
            "grid_row": null,
            "max_height": null,
            "align_content": null,
            "visibility": null,
            "align_self": null,
            "height": null,
            "min_height": null,
            "padding": null,
            "grid_auto_rows": null,
            "grid_gap": null,
            "max_width": null,
            "order": null,
            "_view_module_version": "1.2.0",
            "grid_template_areas": null,
            "object_position": null,
            "object_fit": null,
            "grid_auto_columns": null,
            "margin": null,
            "display": null,
            "left": null
          }
        },
        "98c2b77732f64b6ba05be59b120272d7": {
          "model_module": "@jupyter-widgets/controls",
          "model_name": "IntProgressModel",
          "state": {
            "_view_name": "ProgressView",
            "style": "IPY_MODEL_2fc9a414b7284a75b73d4fe59b62c624",
            "_dom_classes": [],
            "description": "Downloading: 100%",
            "_model_name": "IntProgressModel",
            "bar_style": "success",
            "max": 231508,
            "_view_module": "@jupyter-widgets/controls",
            "_model_module_version": "1.5.0",
            "value": 231508,
            "_view_count": null,
            "_view_module_version": "1.5.0",
            "orientation": "horizontal",
            "min": 0,
            "description_tooltip": null,
            "_model_module": "@jupyter-widgets/controls",
            "layout": "IPY_MODEL_901d623a95f4411b9c1e691f93b62aff"
          }
        },
        "62ebc66b3ca3432fb4df57a6b320fdb7": {
          "model_module": "@jupyter-widgets/controls",
          "model_name": "HTMLModel",
          "state": {
            "_view_name": "HTMLView",
            "style": "IPY_MODEL_af30006fbcb54ba999b67e05a736f5d2",
            "_dom_classes": [],
            "description": "",
            "_model_name": "HTMLModel",
            "placeholder": "​",
            "_view_module": "@jupyter-widgets/controls",
            "_model_module_version": "1.5.0",
            "value": " 232k/232k [00:00&lt;00:00, 1.53MB/s]",
            "_view_count": null,
            "_view_module_version": "1.5.0",
            "description_tooltip": null,
            "_model_module": "@jupyter-widgets/controls",
            "layout": "IPY_MODEL_c120cbd25cfb435495e190f9dc431693"
          }
        },
        "2fc9a414b7284a75b73d4fe59b62c624": {
          "model_module": "@jupyter-widgets/controls",
          "model_name": "ProgressStyleModel",
          "state": {
            "_view_name": "StyleView",
            "_model_name": "ProgressStyleModel",
            "description_width": "initial",
            "_view_module": "@jupyter-widgets/base",
            "_model_module_version": "1.5.0",
            "_view_count": null,
            "_view_module_version": "1.2.0",
            "bar_color": null,
            "_model_module": "@jupyter-widgets/controls"
          }
        },
        "901d623a95f4411b9c1e691f93b62aff": {
          "model_module": "@jupyter-widgets/base",
          "model_name": "LayoutModel",
          "state": {
            "_view_name": "LayoutView",
            "grid_template_rows": null,
            "right": null,
            "justify_content": null,
            "_view_module": "@jupyter-widgets/base",
            "overflow": null,
            "_model_module_version": "1.2.0",
            "_view_count": null,
            "flex_flow": null,
            "width": null,
            "min_width": null,
            "border": null,
            "align_items": null,
            "bottom": null,
            "_model_module": "@jupyter-widgets/base",
            "top": null,
            "grid_column": null,
            "overflow_y": null,
            "overflow_x": null,
            "grid_auto_flow": null,
            "grid_area": null,
            "grid_template_columns": null,
            "flex": null,
            "_model_name": "LayoutModel",
            "justify_items": null,
            "grid_row": null,
            "max_height": null,
            "align_content": null,
            "visibility": null,
            "align_self": null,
            "height": null,
            "min_height": null,
            "padding": null,
            "grid_auto_rows": null,
            "grid_gap": null,
            "max_width": null,
            "order": null,
            "_view_module_version": "1.2.0",
            "grid_template_areas": null,
            "object_position": null,
            "object_fit": null,
            "grid_auto_columns": null,
            "margin": null,
            "display": null,
            "left": null
          }
        },
        "af30006fbcb54ba999b67e05a736f5d2": {
          "model_module": "@jupyter-widgets/controls",
          "model_name": "DescriptionStyleModel",
          "state": {
            "_view_name": "StyleView",
            "_model_name": "DescriptionStyleModel",
            "description_width": "",
            "_view_module": "@jupyter-widgets/base",
            "_model_module_version": "1.5.0",
            "_view_count": null,
            "_view_module_version": "1.2.0",
            "_model_module": "@jupyter-widgets/controls"
          }
        },
        "c120cbd25cfb435495e190f9dc431693": {
          "model_module": "@jupyter-widgets/base",
          "model_name": "LayoutModel",
          "state": {
            "_view_name": "LayoutView",
            "grid_template_rows": null,
            "right": null,
            "justify_content": null,
            "_view_module": "@jupyter-widgets/base",
            "overflow": null,
            "_model_module_version": "1.2.0",
            "_view_count": null,
            "flex_flow": null,
            "width": null,
            "min_width": null,
            "border": null,
            "align_items": null,
            "bottom": null,
            "_model_module": "@jupyter-widgets/base",
            "top": null,
            "grid_column": null,
            "overflow_y": null,
            "overflow_x": null,
            "grid_auto_flow": null,
            "grid_area": null,
            "grid_template_columns": null,
            "flex": null,
            "_model_name": "LayoutModel",
            "justify_items": null,
            "grid_row": null,
            "max_height": null,
            "align_content": null,
            "visibility": null,
            "align_self": null,
            "height": null,
            "min_height": null,
            "padding": null,
            "grid_auto_rows": null,
            "grid_gap": null,
            "max_width": null,
            "order": null,
            "_view_module_version": "1.2.0",
            "grid_template_areas": null,
            "object_position": null,
            "object_fit": null,
            "grid_auto_columns": null,
            "margin": null,
            "display": null,
            "left": null
          }
        },
        "3c3d1041bc224b78b91844012622af2f": {
          "model_module": "@jupyter-widgets/controls",
          "model_name": "HBoxModel",
          "state": {
            "_view_name": "HBoxView",
            "_dom_classes": [],
            "_model_name": "HBoxModel",
            "_view_module": "@jupyter-widgets/controls",
            "_model_module_version": "1.5.0",
            "_view_count": null,
            "_view_module_version": "1.5.0",
            "box_style": "",
            "layout": "IPY_MODEL_880367a8f4ef4bbf81017f983c4d1edf",
            "_model_module": "@jupyter-widgets/controls",
            "children": [
              "IPY_MODEL_bb194a049f0f472d889fc6c0346284d1",
              "IPY_MODEL_90c30f0f7789439799e1e78db25400b6"
            ]
          }
        },
        "880367a8f4ef4bbf81017f983c4d1edf": {
          "model_module": "@jupyter-widgets/base",
          "model_name": "LayoutModel",
          "state": {
            "_view_name": "LayoutView",
            "grid_template_rows": null,
            "right": null,
            "justify_content": null,
            "_view_module": "@jupyter-widgets/base",
            "overflow": null,
            "_model_module_version": "1.2.0",
            "_view_count": null,
            "flex_flow": null,
            "width": null,
            "min_width": null,
            "border": null,
            "align_items": null,
            "bottom": null,
            "_model_module": "@jupyter-widgets/base",
            "top": null,
            "grid_column": null,
            "overflow_y": null,
            "overflow_x": null,
            "grid_auto_flow": null,
            "grid_area": null,
            "grid_template_columns": null,
            "flex": null,
            "_model_name": "LayoutModel",
            "justify_items": null,
            "grid_row": null,
            "max_height": null,
            "align_content": null,
            "visibility": null,
            "align_self": null,
            "height": null,
            "min_height": null,
            "padding": null,
            "grid_auto_rows": null,
            "grid_gap": null,
            "max_width": null,
            "order": null,
            "_view_module_version": "1.2.0",
            "grid_template_areas": null,
            "object_position": null,
            "object_fit": null,
            "grid_auto_columns": null,
            "margin": null,
            "display": null,
            "left": null
          }
        },
        "bb194a049f0f472d889fc6c0346284d1": {
          "model_module": "@jupyter-widgets/controls",
          "model_name": "IntProgressModel",
          "state": {
            "_view_name": "ProgressView",
            "style": "IPY_MODEL_a40fec741de4497184358e00b0a1d6bb",
            "_dom_classes": [],
            "description": "Downloading: 100%",
            "_model_name": "IntProgressModel",
            "bar_style": "success",
            "max": 760289,
            "_view_module": "@jupyter-widgets/controls",
            "_model_module_version": "1.5.0",
            "value": 760289,
            "_view_count": null,
            "_view_module_version": "1.5.0",
            "orientation": "horizontal",
            "min": 0,
            "description_tooltip": null,
            "_model_module": "@jupyter-widgets/controls",
            "layout": "IPY_MODEL_baf427f2d87041f48064f357ce74f2b2"
          }
        },
        "90c30f0f7789439799e1e78db25400b6": {
          "model_module": "@jupyter-widgets/controls",
          "model_name": "HTMLModel",
          "state": {
            "_view_name": "HTMLView",
            "style": "IPY_MODEL_b9641aca63174bb2804223921809ee1b",
            "_dom_classes": [],
            "description": "",
            "_model_name": "HTMLModel",
            "placeholder": "​",
            "_view_module": "@jupyter-widgets/controls",
            "_model_module_version": "1.5.0",
            "value": " 760k/760k [00:23&lt;00:00, 32.1kB/s]",
            "_view_count": null,
            "_view_module_version": "1.5.0",
            "description_tooltip": null,
            "_model_module": "@jupyter-widgets/controls",
            "layout": "IPY_MODEL_3ab426c518c3414ca7a5e899f9f70664"
          }
        },
        "a40fec741de4497184358e00b0a1d6bb": {
          "model_module": "@jupyter-widgets/controls",
          "model_name": "ProgressStyleModel",
          "state": {
            "_view_name": "StyleView",
            "_model_name": "ProgressStyleModel",
            "description_width": "initial",
            "_view_module": "@jupyter-widgets/base",
            "_model_module_version": "1.5.0",
            "_view_count": null,
            "_view_module_version": "1.2.0",
            "bar_color": null,
            "_model_module": "@jupyter-widgets/controls"
          }
        },
        "baf427f2d87041f48064f357ce74f2b2": {
          "model_module": "@jupyter-widgets/base",
          "model_name": "LayoutModel",
          "state": {
            "_view_name": "LayoutView",
            "grid_template_rows": null,
            "right": null,
            "justify_content": null,
            "_view_module": "@jupyter-widgets/base",
            "overflow": null,
            "_model_module_version": "1.2.0",
            "_view_count": null,
            "flex_flow": null,
            "width": null,
            "min_width": null,
            "border": null,
            "align_items": null,
            "bottom": null,
            "_model_module": "@jupyter-widgets/base",
            "top": null,
            "grid_column": null,
            "overflow_y": null,
            "overflow_x": null,
            "grid_auto_flow": null,
            "grid_area": null,
            "grid_template_columns": null,
            "flex": null,
            "_model_name": "LayoutModel",
            "justify_items": null,
            "grid_row": null,
            "max_height": null,
            "align_content": null,
            "visibility": null,
            "align_self": null,
            "height": null,
            "min_height": null,
            "padding": null,
            "grid_auto_rows": null,
            "grid_gap": null,
            "max_width": null,
            "order": null,
            "_view_module_version": "1.2.0",
            "grid_template_areas": null,
            "object_position": null,
            "object_fit": null,
            "grid_auto_columns": null,
            "margin": null,
            "display": null,
            "left": null
          }
        },
        "b9641aca63174bb2804223921809ee1b": {
          "model_module": "@jupyter-widgets/controls",
          "model_name": "DescriptionStyleModel",
          "state": {
            "_view_name": "StyleView",
            "_model_name": "DescriptionStyleModel",
            "description_width": "",
            "_view_module": "@jupyter-widgets/base",
            "_model_module_version": "1.5.0",
            "_view_count": null,
            "_view_module_version": "1.2.0",
            "_model_module": "@jupyter-widgets/controls"
          }
        },
        "3ab426c518c3414ca7a5e899f9f70664": {
          "model_module": "@jupyter-widgets/base",
          "model_name": "LayoutModel",
          "state": {
            "_view_name": "LayoutView",
            "grid_template_rows": null,
            "right": null,
            "justify_content": null,
            "_view_module": "@jupyter-widgets/base",
            "overflow": null,
            "_model_module_version": "1.2.0",
            "_view_count": null,
            "flex_flow": null,
            "width": null,
            "min_width": null,
            "border": null,
            "align_items": null,
            "bottom": null,
            "_model_module": "@jupyter-widgets/base",
            "top": null,
            "grid_column": null,
            "overflow_y": null,
            "overflow_x": null,
            "grid_auto_flow": null,
            "grid_area": null,
            "grid_template_columns": null,
            "flex": null,
            "_model_name": "LayoutModel",
            "justify_items": null,
            "grid_row": null,
            "max_height": null,
            "align_content": null,
            "visibility": null,
            "align_self": null,
            "height": null,
            "min_height": null,
            "padding": null,
            "grid_auto_rows": null,
            "grid_gap": null,
            "max_width": null,
            "order": null,
            "_view_module_version": "1.2.0",
            "grid_template_areas": null,
            "object_position": null,
            "object_fit": null,
            "grid_auto_columns": null,
            "margin": null,
            "display": null,
            "left": null
          }
        },
        "7e6ffb4553c24ee18c634e97d75373a9": {
          "model_module": "@jupyter-widgets/controls",
          "model_name": "HBoxModel",
          "state": {
            "_view_name": "HBoxView",
            "_dom_classes": [],
            "_model_name": "HBoxModel",
            "_view_module": "@jupyter-widgets/controls",
            "_model_module_version": "1.5.0",
            "_view_count": null,
            "_view_module_version": "1.5.0",
            "box_style": "",
            "layout": "IPY_MODEL_d4e47197dd974ad188370c1f289de78c",
            "_model_module": "@jupyter-widgets/controls",
            "children": [
              "IPY_MODEL_82396aaa578544ec865b7237aa472925",
              "IPY_MODEL_0cda2cd23b15423f924a18759bcc6a5f"
            ]
          }
        },
        "d4e47197dd974ad188370c1f289de78c": {
          "model_module": "@jupyter-widgets/base",
          "model_name": "LayoutModel",
          "state": {
            "_view_name": "LayoutView",
            "grid_template_rows": null,
            "right": null,
            "justify_content": null,
            "_view_module": "@jupyter-widgets/base",
            "overflow": null,
            "_model_module_version": "1.2.0",
            "_view_count": null,
            "flex_flow": null,
            "width": null,
            "min_width": null,
            "border": null,
            "align_items": null,
            "bottom": null,
            "_model_module": "@jupyter-widgets/base",
            "top": null,
            "grid_column": null,
            "overflow_y": null,
            "overflow_x": null,
            "grid_auto_flow": null,
            "grid_area": null,
            "grid_template_columns": null,
            "flex": null,
            "_model_name": "LayoutModel",
            "justify_items": null,
            "grid_row": null,
            "max_height": null,
            "align_content": null,
            "visibility": null,
            "align_self": null,
            "height": null,
            "min_height": null,
            "padding": null,
            "grid_auto_rows": null,
            "grid_gap": null,
            "max_width": null,
            "order": null,
            "_view_module_version": "1.2.0",
            "grid_template_areas": null,
            "object_position": null,
            "object_fit": null,
            "grid_auto_columns": null,
            "margin": null,
            "display": null,
            "left": null
          }
        },
        "82396aaa578544ec865b7237aa472925": {
          "model_module": "@jupyter-widgets/controls",
          "model_name": "IntProgressModel",
          "state": {
            "_view_name": "ProgressView",
            "style": "IPY_MODEL_55e5c85b04694885b777227dcc788d85",
            "_dom_classes": [],
            "description": "Downloading: 100%",
            "_model_name": "IntProgressModel",
            "bar_style": "success",
            "max": 710,
            "_view_module": "@jupyter-widgets/controls",
            "_model_module_version": "1.5.0",
            "value": 710,
            "_view_count": null,
            "_view_module_version": "1.5.0",
            "orientation": "horizontal",
            "min": 0,
            "description_tooltip": null,
            "_model_module": "@jupyter-widgets/controls",
            "layout": "IPY_MODEL_fe3135f236a0463ab74aa577f8caec63"
          }
        },
        "0cda2cd23b15423f924a18759bcc6a5f": {
          "model_module": "@jupyter-widgets/controls",
          "model_name": "HTMLModel",
          "state": {
            "_view_name": "HTMLView",
            "style": "IPY_MODEL_e9d79a4a086d491d97f35b04e90e0bd5",
            "_dom_classes": [],
            "description": "",
            "_model_name": "HTMLModel",
            "placeholder": "​",
            "_view_module": "@jupyter-widgets/controls",
            "_model_module_version": "1.5.0",
            "value": " 710/710 [00:23&lt;00:00, 30.7B/s]",
            "_view_count": null,
            "_view_module_version": "1.5.0",
            "description_tooltip": null,
            "_model_module": "@jupyter-widgets/controls",
            "layout": "IPY_MODEL_ce4f58377f004d06acbdbc137d095d29"
          }
        },
        "55e5c85b04694885b777227dcc788d85": {
          "model_module": "@jupyter-widgets/controls",
          "model_name": "ProgressStyleModel",
          "state": {
            "_view_name": "StyleView",
            "_model_name": "ProgressStyleModel",
            "description_width": "initial",
            "_view_module": "@jupyter-widgets/base",
            "_model_module_version": "1.5.0",
            "_view_count": null,
            "_view_module_version": "1.2.0",
            "bar_color": null,
            "_model_module": "@jupyter-widgets/controls"
          }
        },
        "fe3135f236a0463ab74aa577f8caec63": {
          "model_module": "@jupyter-widgets/base",
          "model_name": "LayoutModel",
          "state": {
            "_view_name": "LayoutView",
            "grid_template_rows": null,
            "right": null,
            "justify_content": null,
            "_view_module": "@jupyter-widgets/base",
            "overflow": null,
            "_model_module_version": "1.2.0",
            "_view_count": null,
            "flex_flow": null,
            "width": null,
            "min_width": null,
            "border": null,
            "align_items": null,
            "bottom": null,
            "_model_module": "@jupyter-widgets/base",
            "top": null,
            "grid_column": null,
            "overflow_y": null,
            "overflow_x": null,
            "grid_auto_flow": null,
            "grid_area": null,
            "grid_template_columns": null,
            "flex": null,
            "_model_name": "LayoutModel",
            "justify_items": null,
            "grid_row": null,
            "max_height": null,
            "align_content": null,
            "visibility": null,
            "align_self": null,
            "height": null,
            "min_height": null,
            "padding": null,
            "grid_auto_rows": null,
            "grid_gap": null,
            "max_width": null,
            "order": null,
            "_view_module_version": "1.2.0",
            "grid_template_areas": null,
            "object_position": null,
            "object_fit": null,
            "grid_auto_columns": null,
            "margin": null,
            "display": null,
            "left": null
          }
        },
        "e9d79a4a086d491d97f35b04e90e0bd5": {
          "model_module": "@jupyter-widgets/controls",
          "model_name": "DescriptionStyleModel",
          "state": {
            "_view_name": "StyleView",
            "_model_name": "DescriptionStyleModel",
            "description_width": "",
            "_view_module": "@jupyter-widgets/base",
            "_model_module_version": "1.5.0",
            "_view_count": null,
            "_view_module_version": "1.2.0",
            "_model_module": "@jupyter-widgets/controls"
          }
        },
        "ce4f58377f004d06acbdbc137d095d29": {
          "model_module": "@jupyter-widgets/base",
          "model_name": "LayoutModel",
          "state": {
            "_view_name": "LayoutView",
            "grid_template_rows": null,
            "right": null,
            "justify_content": null,
            "_view_module": "@jupyter-widgets/base",
            "overflow": null,
            "_model_module_version": "1.2.0",
            "_view_count": null,
            "flex_flow": null,
            "width": null,
            "min_width": null,
            "border": null,
            "align_items": null,
            "bottom": null,
            "_model_module": "@jupyter-widgets/base",
            "top": null,
            "grid_column": null,
            "overflow_y": null,
            "overflow_x": null,
            "grid_auto_flow": null,
            "grid_area": null,
            "grid_template_columns": null,
            "flex": null,
            "_model_name": "LayoutModel",
            "justify_items": null,
            "grid_row": null,
            "max_height": null,
            "align_content": null,
            "visibility": null,
            "align_self": null,
            "height": null,
            "min_height": null,
            "padding": null,
            "grid_auto_rows": null,
            "grid_gap": null,
            "max_width": null,
            "order": null,
            "_view_module_version": "1.2.0",
            "grid_template_areas": null,
            "object_position": null,
            "object_fit": null,
            "grid_auto_columns": null,
            "margin": null,
            "display": null,
            "left": null
          }
        },
        "57287c16d95c496889a1c35e3cad072e": {
          "model_module": "@jupyter-widgets/controls",
          "model_name": "HBoxModel",
          "state": {
            "_view_name": "HBoxView",
            "_dom_classes": [],
            "_model_name": "HBoxModel",
            "_view_module": "@jupyter-widgets/controls",
            "_model_module_version": "1.5.0",
            "_view_count": null,
            "_view_module_version": "1.5.0",
            "box_style": "",
            "layout": "IPY_MODEL_7a3e9b9457e84057a4982ca1e51352ff",
            "_model_module": "@jupyter-widgets/controls",
            "children": [
              "IPY_MODEL_074e466bbfe343908bf4c1f0f84668b5",
              "IPY_MODEL_f3745f0f55464ae392ac730a3523c14e"
            ]
          }
        },
        "7a3e9b9457e84057a4982ca1e51352ff": {
          "model_module": "@jupyter-widgets/base",
          "model_name": "LayoutModel",
          "state": {
            "_view_name": "LayoutView",
            "grid_template_rows": null,
            "right": null,
            "justify_content": null,
            "_view_module": "@jupyter-widgets/base",
            "overflow": null,
            "_model_module_version": "1.2.0",
            "_view_count": null,
            "flex_flow": null,
            "width": null,
            "min_width": null,
            "border": null,
            "align_items": null,
            "bottom": null,
            "_model_module": "@jupyter-widgets/base",
            "top": null,
            "grid_column": null,
            "overflow_y": null,
            "overflow_x": null,
            "grid_auto_flow": null,
            "grid_area": null,
            "grid_template_columns": null,
            "flex": null,
            "_model_name": "LayoutModel",
            "justify_items": null,
            "grid_row": null,
            "max_height": null,
            "align_content": null,
            "visibility": null,
            "align_self": null,
            "height": null,
            "min_height": null,
            "padding": null,
            "grid_auto_rows": null,
            "grid_gap": null,
            "max_width": null,
            "order": null,
            "_view_module_version": "1.2.0",
            "grid_template_areas": null,
            "object_position": null,
            "object_fit": null,
            "grid_auto_columns": null,
            "margin": null,
            "display": null,
            "left": null
          }
        },
        "074e466bbfe343908bf4c1f0f84668b5": {
          "model_module": "@jupyter-widgets/controls",
          "model_name": "IntProgressModel",
          "state": {
            "_view_name": "ProgressView",
            "style": "IPY_MODEL_ef70508493834ec589002cd290d6776d",
            "_dom_classes": [],
            "description": "Downloading: 100%",
            "_model_name": "IntProgressModel",
            "bar_style": "success",
            "max": 892728632,
            "_view_module": "@jupyter-widgets/controls",
            "_model_module_version": "1.5.0",
            "value": 892728632,
            "_view_count": null,
            "_view_module_version": "1.5.0",
            "orientation": "horizontal",
            "min": 0,
            "description_tooltip": null,
            "_model_module": "@jupyter-widgets/controls",
            "layout": "IPY_MODEL_c30592a6ff4942c1be7284862570a584"
          }
        },
        "f3745f0f55464ae392ac730a3523c14e": {
          "model_module": "@jupyter-widgets/controls",
          "model_name": "HTMLModel",
          "state": {
            "_view_name": "HTMLView",
            "style": "IPY_MODEL_f66097c4f3c648c292e4f473538a0297",
            "_dom_classes": [],
            "description": "",
            "_model_name": "HTMLModel",
            "placeholder": "​",
            "_view_module": "@jupyter-widgets/controls",
            "_model_module_version": "1.5.0",
            "value": " 893M/893M [00:22&lt;00:00, 39.3MB/s]",
            "_view_count": null,
            "_view_module_version": "1.5.0",
            "description_tooltip": null,
            "_model_module": "@jupyter-widgets/controls",
            "layout": "IPY_MODEL_ab52be08fdcc405ba95b7500e3fbd4fd"
          }
        },
        "ef70508493834ec589002cd290d6776d": {
          "model_module": "@jupyter-widgets/controls",
          "model_name": "ProgressStyleModel",
          "state": {
            "_view_name": "StyleView",
            "_model_name": "ProgressStyleModel",
            "description_width": "initial",
            "_view_module": "@jupyter-widgets/base",
            "_model_module_version": "1.5.0",
            "_view_count": null,
            "_view_module_version": "1.2.0",
            "bar_color": null,
            "_model_module": "@jupyter-widgets/controls"
          }
        },
        "c30592a6ff4942c1be7284862570a584": {
          "model_module": "@jupyter-widgets/base",
          "model_name": "LayoutModel",
          "state": {
            "_view_name": "LayoutView",
            "grid_template_rows": null,
            "right": null,
            "justify_content": null,
            "_view_module": "@jupyter-widgets/base",
            "overflow": null,
            "_model_module_version": "1.2.0",
            "_view_count": null,
            "flex_flow": null,
            "width": null,
            "min_width": null,
            "border": null,
            "align_items": null,
            "bottom": null,
            "_model_module": "@jupyter-widgets/base",
            "top": null,
            "grid_column": null,
            "overflow_y": null,
            "overflow_x": null,
            "grid_auto_flow": null,
            "grid_area": null,
            "grid_template_columns": null,
            "flex": null,
            "_model_name": "LayoutModel",
            "justify_items": null,
            "grid_row": null,
            "max_height": null,
            "align_content": null,
            "visibility": null,
            "align_self": null,
            "height": null,
            "min_height": null,
            "padding": null,
            "grid_auto_rows": null,
            "grid_gap": null,
            "max_width": null,
            "order": null,
            "_view_module_version": "1.2.0",
            "grid_template_areas": null,
            "object_position": null,
            "object_fit": null,
            "grid_auto_columns": null,
            "margin": null,
            "display": null,
            "left": null
          }
        },
        "f66097c4f3c648c292e4f473538a0297": {
          "model_module": "@jupyter-widgets/controls",
          "model_name": "DescriptionStyleModel",
          "state": {
            "_view_name": "StyleView",
            "_model_name": "DescriptionStyleModel",
            "description_width": "",
            "_view_module": "@jupyter-widgets/base",
            "_model_module_version": "1.5.0",
            "_view_count": null,
            "_view_module_version": "1.2.0",
            "_model_module": "@jupyter-widgets/controls"
          }
        },
        "ab52be08fdcc405ba95b7500e3fbd4fd": {
          "model_module": "@jupyter-widgets/base",
          "model_name": "LayoutModel",
          "state": {
            "_view_name": "LayoutView",
            "grid_template_rows": null,
            "right": null,
            "justify_content": null,
            "_view_module": "@jupyter-widgets/base",
            "overflow": null,
            "_model_module_version": "1.2.0",
            "_view_count": null,
            "flex_flow": null,
            "width": null,
            "min_width": null,
            "border": null,
            "align_items": null,
            "bottom": null,
            "_model_module": "@jupyter-widgets/base",
            "top": null,
            "grid_column": null,
            "overflow_y": null,
            "overflow_x": null,
            "grid_auto_flow": null,
            "grid_area": null,
            "grid_template_columns": null,
            "flex": null,
            "_model_name": "LayoutModel",
            "justify_items": null,
            "grid_row": null,
            "max_height": null,
            "align_content": null,
            "visibility": null,
            "align_self": null,
            "height": null,
            "min_height": null,
            "padding": null,
            "grid_auto_rows": null,
            "grid_gap": null,
            "max_width": null,
            "order": null,
            "_view_module_version": "1.2.0",
            "grid_template_areas": null,
            "object_position": null,
            "object_fit": null,
            "grid_auto_columns": null,
            "margin": null,
            "display": null,
            "left": null
          }
        }
      }
    }
  },
  "cells": [
    {
      "cell_type": "markdown",
      "metadata": {
        "id": "view-in-github",
        "colab_type": "text"
      },
      "source": [
        "<a href=\"https://colab.research.google.com/github/Onamihoang/NLP-IELTS/blob/master/Try_FitBert.ipynb\" target=\"_parent\"><img src=\"https://colab.research.google.com/assets/colab-badge.svg\" alt=\"Open In Colab\"/></a>"
      ]
    },
    {
      "cell_type": "markdown",
      "metadata": {
        "id": "5kmGJXc_8CCw",
        "colab_type": "text"
      },
      "source": [
        "# FitBert\n",
        "\n",
        "[FitBert](https://github.com/Qordobacode/fitbert) ((F)ill (i)n (t)he blanks, (BERT)) is a library for using BERT to fill in the blank(s) in a section of text from a list of options.\n",
        "\n",
        "It's easy to use, just install with pip:"
      ]
    },
    {
      "cell_type": "code",
      "metadata": {
        "id": "iX-j2onbkEyr",
        "colab_type": "code",
        "outputId": "2c4927db-e21f-4d3f-d160-cb7cee383cfb",
        "colab": {
          "base_uri": "https://localhost:8080/",
          "height": 34
        }
      },
      "source": [
        "%tensorflow_version 1.x"
      ],
      "execution_count": 1,
      "outputs": [
        {
          "output_type": "stream",
          "text": [
            "TensorFlow 1.x selected.\n"
          ],
          "name": "stdout"
        }
      ]
    },
    {
      "cell_type": "code",
      "metadata": {
        "id": "ytMNc45x7_Hf",
        "colab_type": "code",
        "outputId": "6018e04e-a29d-4ca4-f780-9978f7d09557",
        "colab": {
          "base_uri": "https://localhost:8080/",
          "height": 1000
        }
      },
      "source": [
        "!pip install fitbert"
      ],
      "execution_count": 2,
      "outputs": [
        {
          "output_type": "stream",
          "text": [
            "Collecting fitbert\n",
            "\u001b[?25l  Downloading https://files.pythonhosted.org/packages/e3/07/7ac2579504308a7fb9cfe3ec9b6d92249ab2684658121b742cf76011e37c/fitbert-0.7.0.tar.gz (216kB)\n",
            "\u001b[K     |████████████████████████████████| 225kB 3.5MB/s \n",
            "\u001b[?25hRequirement already satisfied: torch>=1.1.0 in /usr/local/lib/python3.6/dist-packages (from fitbert) (1.5.0+cu101)\n",
            "Collecting transformers>=2.1.1\n",
            "\u001b[?25l  Downloading https://files.pythonhosted.org/packages/a3/78/92cedda05552398352ed9784908b834ee32a0bd071a9b32de287327370b7/transformers-2.8.0-py3-none-any.whl (563kB)\n",
            "\u001b[K     |████████████████████████████████| 573kB 11.0MB/s \n",
            "\u001b[?25hCollecting PyFunctional==1.2.0\n",
            "\u001b[?25l  Downloading https://files.pythonhosted.org/packages/96/80/8edc965035d787105a7c85f4f9c490aea000e004062205699c3b39feb7dc/PyFunctional-1.2.0-py3-none-any.whl (44kB)\n",
            "\u001b[K     |████████████████████████████████| 51kB 6.6MB/s \n",
            "\u001b[?25hRequirement already satisfied: future in /usr/local/lib/python3.6/dist-packages (from torch>=1.1.0->fitbert) (0.16.0)\n",
            "Requirement already satisfied: numpy in /usr/local/lib/python3.6/dist-packages (from torch>=1.1.0->fitbert) (1.18.3)\n",
            "Collecting sentencepiece\n",
            "\u001b[?25l  Downloading https://files.pythonhosted.org/packages/98/2c/8df20f3ac6c22ac224fff307ebc102818206c53fc454ecd37d8ac2060df5/sentencepiece-0.1.86-cp36-cp36m-manylinux1_x86_64.whl (1.0MB)\n",
            "\u001b[K     |████████████████████████████████| 1.0MB 14.0MB/s \n",
            "\u001b[?25hRequirement already satisfied: requests in /usr/local/lib/python3.6/dist-packages (from transformers>=2.1.1->fitbert) (2.23.0)\n",
            "Requirement already satisfied: boto3 in /usr/local/lib/python3.6/dist-packages (from transformers>=2.1.1->fitbert) (1.12.47)\n",
            "Requirement already satisfied: dataclasses; python_version < \"3.7\" in /usr/local/lib/python3.6/dist-packages (from transformers>=2.1.1->fitbert) (0.7)\n",
            "Requirement already satisfied: regex!=2019.12.17 in /usr/local/lib/python3.6/dist-packages (from transformers>=2.1.1->fitbert) (2019.12.20)\n",
            "Collecting sacremoses\n",
            "\u001b[?25l  Downloading https://files.pythonhosted.org/packages/7d/34/09d19aff26edcc8eb2a01bed8e98f13a1537005d31e95233fd48216eed10/sacremoses-0.0.43.tar.gz (883kB)\n",
            "\u001b[K     |████████████████████████████████| 890kB 21.8MB/s \n",
            "\u001b[?25hRequirement already satisfied: tqdm>=4.27 in /usr/local/lib/python3.6/dist-packages (from transformers>=2.1.1->fitbert) (4.38.0)\n",
            "Collecting tokenizers==0.5.2\n",
            "\u001b[?25l  Downloading https://files.pythonhosted.org/packages/d1/3f/73c881ea4723e43c1e9acf317cf407fab3a278daab3a69c98dcac511c04f/tokenizers-0.5.2-cp36-cp36m-manylinux1_x86_64.whl (3.7MB)\n",
            "\u001b[K     |████████████████████████████████| 3.7MB 31.4MB/s \n",
            "\u001b[?25hRequirement already satisfied: filelock in /usr/local/lib/python3.6/dist-packages (from transformers>=2.1.1->fitbert) (3.0.12)\n",
            "Requirement already satisfied: tabulate<=1.0.0 in /usr/local/lib/python3.6/dist-packages (from PyFunctional==1.2.0->fitbert) (0.8.7)\n",
            "Requirement already satisfied: six<=2.0.0 in /usr/local/lib/python3.6/dist-packages (from PyFunctional==1.2.0->fitbert) (1.12.0)\n",
            "Collecting dill==0.2.5\n",
            "\u001b[?25l  Downloading https://files.pythonhosted.org/packages/47/59/a72f5c3b17647031d426cd3df6874c7e2a8821b007ef4241ee4a59594cb3/dill-0.2.5.tgz (60kB)\n",
            "\u001b[K     |████████████████████████████████| 61kB 8.7MB/s \n",
            "\u001b[?25hRequirement already satisfied: urllib3!=1.25.0,!=1.25.1,<1.26,>=1.21.1 in /usr/local/lib/python3.6/dist-packages (from requests->transformers>=2.1.1->fitbert) (1.24.3)\n",
            "Requirement already satisfied: certifi>=2017.4.17 in /usr/local/lib/python3.6/dist-packages (from requests->transformers>=2.1.1->fitbert) (2020.4.5.1)\n",
            "Requirement already satisfied: idna<3,>=2.5 in /usr/local/lib/python3.6/dist-packages (from requests->transformers>=2.1.1->fitbert) (2.9)\n",
            "Requirement already satisfied: chardet<4,>=3.0.2 in /usr/local/lib/python3.6/dist-packages (from requests->transformers>=2.1.1->fitbert) (3.0.4)\n",
            "Requirement already satisfied: s3transfer<0.4.0,>=0.3.0 in /usr/local/lib/python3.6/dist-packages (from boto3->transformers>=2.1.1->fitbert) (0.3.3)\n",
            "Requirement already satisfied: botocore<1.16.0,>=1.15.47 in /usr/local/lib/python3.6/dist-packages (from boto3->transformers>=2.1.1->fitbert) (1.15.47)\n",
            "Requirement already satisfied: jmespath<1.0.0,>=0.7.1 in /usr/local/lib/python3.6/dist-packages (from boto3->transformers>=2.1.1->fitbert) (0.9.5)\n",
            "Requirement already satisfied: click in /usr/local/lib/python3.6/dist-packages (from sacremoses->transformers>=2.1.1->fitbert) (7.1.2)\n",
            "Requirement already satisfied: joblib in /usr/local/lib/python3.6/dist-packages (from sacremoses->transformers>=2.1.1->fitbert) (0.14.1)\n",
            "Requirement already satisfied: docutils<0.16,>=0.10 in /usr/local/lib/python3.6/dist-packages (from botocore<1.16.0,>=1.15.47->boto3->transformers>=2.1.1->fitbert) (0.15.2)\n",
            "Requirement already satisfied: python-dateutil<3.0.0,>=2.1 in /usr/local/lib/python3.6/dist-packages (from botocore<1.16.0,>=1.15.47->boto3->transformers>=2.1.1->fitbert) (2.8.1)\n",
            "Building wheels for collected packages: fitbert, sacremoses, dill\n",
            "  Building wheel for fitbert (setup.py) ... \u001b[?25l\u001b[?25hdone\n",
            "  Created wheel for fitbert: filename=fitbert-0.7.0-cp36-none-any.whl size=214149 sha256=bbe97e563d25feb832f5fee3619ce77839e9852e67be7797ba63997cfb76bd5c\n",
            "  Stored in directory: /root/.cache/pip/wheels/49/5e/fa/3c4789d2a679de4119357f14d28843a1262c3d5d1cf96807d7\n",
            "  Building wheel for sacremoses (setup.py) ... \u001b[?25l\u001b[?25hdone\n",
            "  Created wheel for sacremoses: filename=sacremoses-0.0.43-cp36-none-any.whl size=893260 sha256=36a2bac43dba23a7473d97a28944e2e821aca1cee6d0087978f27c4119e8636d\n",
            "  Stored in directory: /root/.cache/pip/wheels/29/3c/fd/7ce5c3f0666dab31a50123635e6fb5e19ceb42ce38d4e58f45\n",
            "  Building wheel for dill (setup.py) ... \u001b[?25l\u001b[?25hdone\n",
            "  Created wheel for dill: filename=dill-0.2.5-cp36-none-any.whl size=52421 sha256=2b4ff0699885f9fe3f5c8cd426ef7cd04d4ed47fcb526ed2aaf45e753903be1a\n",
            "  Stored in directory: /root/.cache/pip/wheels/d0/f9/bb/01e2c9bc71ab75df06848f7eb23aa58b0e24713332aee81aa2\n",
            "Successfully built fitbert sacremoses dill\n",
            "\u001b[31mERROR: multiprocess 0.70.9 has requirement dill>=0.3.1, but you'll have dill 0.2.5 which is incompatible.\u001b[0m\n",
            "Installing collected packages: sentencepiece, sacremoses, tokenizers, transformers, dill, PyFunctional, fitbert\n",
            "  Found existing installation: dill 0.3.1.1\n",
            "    Uninstalling dill-0.3.1.1:\n",
            "      Successfully uninstalled dill-0.3.1.1\n",
            "Successfully installed PyFunctional-1.2.0 dill-0.2.5 fitbert-0.7.0 sacremoses-0.0.43 sentencepiece-0.1.86 tokenizers-0.5.2 transformers-2.8.0\n"
          ],
          "name": "stdout"
        }
      ]
    },
    {
      "cell_type": "markdown",
      "metadata": {
        "id": "pBXqjMehH5EG",
        "colab_type": "text"
      },
      "source": [
        "Then import and use it (note - this requires downloading and loading into memory a pretrained BERT model and takes a minute or two):"
      ]
    },
    {
      "cell_type": "code",
      "metadata": {
        "id": "z1lwWl12H0ko",
        "colab_type": "code",
        "outputId": "70886b42-f920-4f99-a0de-de2553f193cb",
        "colab": {
          "base_uri": "https://localhost:8080/",
          "height": 215,
          "referenced_widgets": [
            "ca87eddaaeb446bfbdec856d61178f2b",
            "8e4769c3dcda41f0befd8da960c4c4a1",
            "f1b91d0d877f427d806074ff8151bf6e",
            "f16c652f41a3461b98cecc460e08a4a0",
            "4d9b6e3ba20440ef9f5911236c13f04d",
            "d70db327978d428b9ff76556836e79a8",
            "19406c889a8f451a8b3a9f14d800599f",
            "824fbe70323e468bb36f801a46f63487",
            "b1a47aac5a974ef58d207e7b2c5a3f10",
            "920720d8c7a8456bb1b873b48cc16011",
            "71b4d33393f24e2fbb9bae7dba46f812",
            "47bdbdbc32c34e6b9b65b55047783fe9",
            "581429982b80485bb9db70685e7caec7",
            "397563bb40bf453ba07d83209ab50557",
            "a229cd74ac5e4a4695ae5743a8384f80",
            "85e3370710fe403aa39e6e3d82598292",
            "bb398855f9024e18b3692cf3b2f0ea22",
            "11f133eb99c84a688f3f28fdef901a30",
            "98c2b77732f64b6ba05be59b120272d7",
            "62ebc66b3ca3432fb4df57a6b320fdb7",
            "2fc9a414b7284a75b73d4fe59b62c624",
            "901d623a95f4411b9c1e691f93b62aff",
            "af30006fbcb54ba999b67e05a736f5d2",
            "c120cbd25cfb435495e190f9dc431693"
          ]
        }
      },
      "source": [
        "from fitbert import FitBert\n",
        "\n",
        "\n",
        "# in theory you can pass a model_name and tokenizer, but currently only\n",
        "# bert-large-uncased and BertTokenizer are available\n",
        "# this takes a while and loads a whole big BERT into memory\n",
        "fb = FitBert()\n",
        "\n",
        "masked_string = \"Why Bert, you're looking ***mask*** today!\"\n",
        "options = ['buff', 'handsome', 'strong']\n",
        "\n",
        "ranked_options = fb.rank(masked_string, options=options)\n",
        "ranked_options"
      ],
      "execution_count": 3,
      "outputs": [
        {
          "output_type": "stream",
          "text": [
            "using model: bert-large-uncased\n",
            "device: cpu\n"
          ],
          "name": "stdout"
        },
        {
          "output_type": "display_data",
          "data": {
            "application/vnd.jupyter.widget-view+json": {
              "model_id": "ca87eddaaeb446bfbdec856d61178f2b",
              "version_minor": 0,
              "version_major": 2
            },
            "text/plain": [
              "HBox(children=(IntProgress(value=0, description='Downloading', max=434, style=ProgressStyle(description_width=…"
            ]
          },
          "metadata": {
            "tags": []
          }
        },
        {
          "output_type": "stream",
          "text": [
            "\n"
          ],
          "name": "stdout"
        },
        {
          "output_type": "display_data",
          "data": {
            "application/vnd.jupyter.widget-view+json": {
              "model_id": "b1a47aac5a974ef58d207e7b2c5a3f10",
              "version_minor": 0,
              "version_major": 2
            },
            "text/plain": [
              "HBox(children=(IntProgress(value=0, description='Downloading', max=1344997306, style=ProgressStyle(description…"
            ]
          },
          "metadata": {
            "tags": []
          }
        },
        {
          "output_type": "stream",
          "text": [
            "\n"
          ],
          "name": "stdout"
        },
        {
          "output_type": "display_data",
          "data": {
            "application/vnd.jupyter.widget-view+json": {
              "model_id": "bb398855f9024e18b3692cf3b2f0ea22",
              "version_minor": 0,
              "version_major": 2
            },
            "text/plain": [
              "HBox(children=(IntProgress(value=0, description='Downloading', max=231508, style=ProgressStyle(description_wid…"
            ]
          },
          "metadata": {
            "tags": []
          }
        },
        {
          "output_type": "stream",
          "text": [
            "\n"
          ],
          "name": "stdout"
        },
        {
          "output_type": "execute_result",
          "data": {
            "text/plain": [
              "['handsome', 'strong', 'buff']"
            ]
          },
          "metadata": {
            "tags": []
          },
          "execution_count": 3
        }
      ]
    },
    {
      "cell_type": "code",
      "metadata": {
        "id": "90Tjs0_kIXPC",
        "colab_type": "code",
        "outputId": "367f96b7-7ffb-489b-904f-d81732c98ec0",
        "colab": {
          "base_uri": "https://localhost:8080/",
          "height": 34
        }
      },
      "source": [
        "filled_in = fb.fitb(masked_string, options=options)\n",
        "filled_in"
      ],
      "execution_count": 4,
      "outputs": [
        {
          "output_type": "execute_result",
          "data": {
            "text/plain": [
              "\"Why Bert, you're looking handsome today!\""
            ]
          },
          "metadata": {
            "tags": []
          },
          "execution_count": 4
        }
      ]
    },
    {
      "cell_type": "markdown",
      "metadata": {
        "id": "aXrkQhyvJPAP",
        "colab_type": "text"
      },
      "source": [
        "There's a convenience method for masking a span (and filling in the suggestion, or not):"
      ]
    },
    {
      "cell_type": "code",
      "metadata": {
        "id": "NqoFqNCTJFBH",
        "colab_type": "code",
        "outputId": "39b1091e-088a-4138-dd1a-cd57e9d26291",
        "colab": {
          "base_uri": "https://localhost:8080/",
          "height": 34
        }
      },
      "source": [
        "unmasked_string = \"Why Bert, you're looks handsome today!\"\n",
        "span_to_mask = (17, 22)\n",
        "\n",
        "filled_in = fb.mask_fitb(unmasked_string, span_to_mask)\n",
        "filled_in"
      ],
      "execution_count": 5,
      "outputs": [
        {
          "output_type": "execute_result",
          "data": {
            "text/plain": [
              "\"Why Bert, you're  looking  handsome today!\""
            ]
          },
          "metadata": {
            "tags": []
          },
          "execution_count": 5
        }
      ]
    },
    {
      "cell_type": "code",
      "metadata": {
        "id": "Zmy8vk-uJUTS",
        "colab_type": "code",
        "outputId": "2865827d-c1ff-4ed4-cf14-9c59e34a333e",
        "colab": {
          "base_uri": "https://localhost:8080/",
          "height": 34
        }
      },
      "source": [
        "masked_string, masked = fb.mask(unmasked_string, span_to_mask)\n",
        "print(masked_string, masked)"
      ],
      "execution_count": 6,
      "outputs": [
        {
          "output_type": "stream",
          "text": [
            "Why Bert, you're  ***mask***  handsome today! looks\n"
          ],
          "name": "stdout"
        }
      ]
    },
    {
      "cell_type": "markdown",
      "metadata": {
        "id": "E2p_ssDQLzjP",
        "colab_type": "text"
      },
      "source": [
        "## From the \"Introducing FitBERT\" blog post"
      ]
    },
    {
      "cell_type": "markdown",
      "metadata": {
        "id": "mxQ_v2kLNlwA",
        "colab_type": "text"
      },
      "source": [
        "### SWE section"
      ]
    },
    {
      "cell_type": "code",
      "metadata": {
        "id": "2u6IFt8ckdA4",
        "colab_type": "code",
        "outputId": "662c7cf5-9356-4e74-e3f4-095ea61069f4",
        "colab": {
          "base_uri": "https://localhost:8080/",
          "height": 34
        }
      },
      "source": [
        "masked_string = \"Your 6 ***mask*** sodas are on their way !\"\n",
        "options = ['hot', 'cold', 'sweet', 'delicious', 'artisanal']\n",
        "fb.fitb(masked_string, options=options)"
      ],
      "execution_count": 7,
      "outputs": [
        {
          "output_type": "execute_result",
          "data": {
            "text/plain": [
              "'Your 6 cold sodas are on their way !'"
            ]
          },
          "metadata": {
            "tags": []
          },
          "execution_count": 7
        }
      ]
    },
    {
      "cell_type": "code",
      "metadata": {
        "id": "mFBWmulHL6Jl",
        "colab_type": "code",
        "outputId": "3ef550dd-6d28-4602-c517-29f7b8c4f32c",
        "colab": {
          "base_uri": "https://localhost:8080/",
          "height": 34
        }
      },
      "source": [
        "masked_string = \"Your 17 ***mask*** burritos are on their way !\"\n",
        "options = ['hot', 'cold', 'sweet', 'delicious', 'artisanal']\n",
        "fb.fitb(masked_string, options=options)"
      ],
      "execution_count": 8,
      "outputs": [
        {
          "output_type": "execute_result",
          "data": {
            "text/plain": [
              "'Your 17 delicious burritos are on their way !'"
            ]
          },
          "metadata": {
            "tags": []
          },
          "execution_count": 8
        }
      ]
    },
    {
      "cell_type": "markdown",
      "metadata": {
        "id": "aTjnksdnNpXh",
        "colab_type": "text"
      },
      "source": [
        "### Researcher section\n",
        "\n",
        "One use case for FitBERT is easily evaluating the syntactic capabilities of any model available through the [Transformers library](https://medium.com/r/?url=https%3A%2F%2Fgithub.com%2Fhuggingface%2Ftransformers), which includes BERT, RoBERTa, GPT2, and DistillBERT.\n",
        "\n",
        "This is very similar to Yoav GoldBerg's [Assessing BERT's Syntactic Abilities](https://arxiv.org/abs/1901.05287). AFAIK, this experiment hasn't been repeated with RoBERTa or DistillBERT, but would be interesting."
      ]
    },
    {
      "cell_type": "code",
      "metadata": {
        "id": "yjfAmIwGMwAe",
        "colab_type": "code",
        "outputId": "559a862b-f6f2-4b97-f902-93a7e7b249b3",
        "colab": {
          "base_uri": "https://localhost:8080/",
          "height": 34
        }
      },
      "source": [
        "# example from \"Targeted Syntactic Evaluation of Language Models\"\n",
        "# https://arxiv.org/abs/1808.09031\n",
        "\n",
        "masked_string = \"the author that the guard likes ***mask***\"\n",
        "options = ['laugh', 'laughs']\n",
        "fb.rank_with_prob(masked_string, options)"
      ],
      "execution_count": 9,
      "outputs": [
        {
          "output_type": "execute_result",
          "data": {
            "text/plain": [
              "(['laughs', 'laugh'], [4.141863501477827e-12, 3.3747397237826604e-13])"
            ]
          },
          "metadata": {
            "tags": []
          },
          "execution_count": 9
        }
      ]
    },
    {
      "cell_type": "code",
      "metadata": {
        "id": "adNVTDKMOr84",
        "colab_type": "code",
        "outputId": "f859f3e1-1052-48d3-a0da-52c14d10a7bd",
        "colab": {
          "base_uri": "https://localhost:8080/",
          "height": 34
        }
      },
      "source": [
        "# example from \"Assessing the Ability of LSTMs to Learn Syntax-Sensitive Dependencies\"\n",
        "# https://transacl.org/ojs/index.php/tacl/article/view/972\n",
        "\n",
        "masked_string = \"accusations of abusive sockpuppetry from a trusted source ***mask*** a serious chilling effect .\"\n",
        "options = [\"have\", \"has\"]\n",
        "fb.rank_with_prob(masked_string, options)"
      ],
      "execution_count": 10,
      "outputs": [
        {
          "output_type": "execute_result",
          "data": {
            "text/plain": [
              "(['have', 'has'], [0.8899551630020142, 0.004103293642401695])"
            ]
          },
          "metadata": {
            "tags": []
          },
          "execution_count": 10
        }
      ]
    },
    {
      "cell_type": "markdown",
      "metadata": {
        "id": "kkqpv2FYKwwL",
        "colab_type": "text"
      },
      "source": [
        "### Using FitBERT with a spell corrector\n",
        "\n",
        "Example of refining the output of a [word-vector-based spell checker](https://blog.usejournal.com/a-simple-spell-checker-built-from-word-vectors-9f28452b6f26) with BERT. This would also work with something like Hunspell."
      ]
    },
    {
      "cell_type": "code",
      "metadata": {
        "id": "-sTtRg_SLXpE",
        "colab_type": "code",
        "outputId": "adbc5877-fb48-4769-847f-dbcc5d42f137",
        "colab": {
          "base_uri": "https://localhost:8080/",
          "height": 34
        }
      },
      "source": [
        "input = \"We predict the following issues will ocur.\"\n",
        "masked_string = \"We predict the following issues will ***mask*** .\"\n",
        "# mispelling vector subtraction gives the following options for \"ocur\"\n",
        "options = ['ocur', 'occur', 'arise', 'happen', 'reliably']\n",
        "fb.fitb(masked_string, options=options)"
      ],
      "execution_count": 11,
      "outputs": [
        {
          "output_type": "execute_result",
          "data": {
            "text/plain": [
              "'We predict the following issues will arise .'"
            ]
          },
          "metadata": {
            "tags": []
          },
          "execution_count": 11
        }
      ]
    },
    {
      "cell_type": "code",
      "metadata": {
        "id": "d9Bg5yaOi5Zi",
        "colab_type": "code",
        "outputId": "455a5489-fa17-4d7e-e594-15ac15e100b7",
        "colab": {
          "base_uri": "https://localhost:8080/",
          "height": 34
        }
      },
      "source": [
        "input = \"We predict the following issues will ocur.\"\n",
        "masked_string = \"We predict the following issues will ***mask*** .\"\n",
        "# mispelling vector subtraction gives the following options for \"ocur\", but filter through Levenshtein distance threshold:\n",
        "options = ['ocur', 'occur']\n",
        "fb.fitb(masked_string, options=options)"
      ],
      "execution_count": 12,
      "outputs": [
        {
          "output_type": "execute_result",
          "data": {
            "text/plain": [
              "'We predict the following issues will occur .'"
            ]
          },
          "metadata": {
            "tags": []
          },
          "execution_count": 12
        }
      ]
    },
    {
      "cell_type": "markdown",
      "metadata": {
        "id": "5Ek0DoVsHGLa",
        "colab_type": "text"
      },
      "source": [
        "### (Work in Progress) Using FiTBERT for truecasing\n",
        "\n",
        "An efficient implementation will require:\n",
        "\n",
        "1. Fixing the bug where probabilities returned by `fb.rank(with_prob=True)` aren't in the same order as the tokens returned\n",
        "2. Tensorizing the handling of multi-token masks"
      ]
    },
    {
      "cell_type": "code",
      "metadata": {
        "id": "UQkTzRVwLiFs",
        "colab_type": "code",
        "colab": {}
      },
      "source": [
        "from transformers import *"
      ],
      "execution_count": 0,
      "outputs": []
    },
    {
      "cell_type": "code",
      "metadata": {
        "id": "O-GAL3I98v6m",
        "colab_type": "code",
        "outputId": "7fc8a174-1c1f-4ef4-e07c-c9a9c2165a96",
        "colab": {
          "base_uri": "https://localhost:8080/",
          "height": 198,
          "referenced_widgets": [
            "3c3d1041bc224b78b91844012622af2f",
            "880367a8f4ef4bbf81017f983c4d1edf",
            "bb194a049f0f472d889fc6c0346284d1",
            "90c30f0f7789439799e1e78db25400b6",
            "a40fec741de4497184358e00b0a1d6bb",
            "baf427f2d87041f48064f357ce74f2b2",
            "b9641aca63174bb2804223921809ee1b",
            "3ab426c518c3414ca7a5e899f9f70664",
            "7e6ffb4553c24ee18c634e97d75373a9",
            "d4e47197dd974ad188370c1f289de78c",
            "82396aaa578544ec865b7237aa472925",
            "0cda2cd23b15423f924a18759bcc6a5f",
            "55e5c85b04694885b777227dcc788d85",
            "fe3135f236a0463ab74aa577f8caec63",
            "e9d79a4a086d491d97f35b04e90e0bd5",
            "ce4f58377f004d06acbdbc137d095d29",
            "57287c16d95c496889a1c35e3cad072e",
            "7a3e9b9457e84057a4982ca1e51352ff",
            "074e466bbfe343908bf4c1f0f84668b5",
            "f3745f0f55464ae392ac730a3523c14e",
            "ef70508493834ec589002cd290d6776d",
            "c30592a6ff4942c1be7284862570a584",
            "f66097c4f3c648c292e4f473538a0297",
            "ab52be08fdcc405ba95b7500e3fbd4fd"
          ]
        }
      },
      "source": [
        "new_tokenizer = AlbertTokenizer.from_pretrained('albert-xxlarge-v2')\n",
        "new_bert = AlbertForMaskedLM.from_pretrained('albert-xxlarge-v2')\n",
        "\n",
        "fb2 = FitBert(model=new_bert, tokenizer=new_tokenizer, disable_gpu=False)"
      ],
      "execution_count": 14,
      "outputs": [
        {
          "output_type": "display_data",
          "data": {
            "application/vnd.jupyter.widget-view+json": {
              "model_id": "3c3d1041bc224b78b91844012622af2f",
              "version_minor": 0,
              "version_major": 2
            },
            "text/plain": [
              "HBox(children=(IntProgress(value=0, description='Downloading', max=760289, style=ProgressStyle(description_wid…"
            ]
          },
          "metadata": {
            "tags": []
          }
        },
        {
          "output_type": "stream",
          "text": [
            "\n"
          ],
          "name": "stdout"
        },
        {
          "output_type": "display_data",
          "data": {
            "application/vnd.jupyter.widget-view+json": {
              "model_id": "7e6ffb4553c24ee18c634e97d75373a9",
              "version_minor": 0,
              "version_major": 2
            },
            "text/plain": [
              "HBox(children=(IntProgress(value=0, description='Downloading', max=710, style=ProgressStyle(description_width=…"
            ]
          },
          "metadata": {
            "tags": []
          }
        },
        {
          "output_type": "stream",
          "text": [
            "\n"
          ],
          "name": "stdout"
        },
        {
          "output_type": "display_data",
          "data": {
            "application/vnd.jupyter.widget-view+json": {
              "model_id": "57287c16d95c496889a1c35e3cad072e",
              "version_minor": 0,
              "version_major": 2
            },
            "text/plain": [
              "HBox(children=(IntProgress(value=0, description='Downloading', max=892728632, style=ProgressStyle(description_…"
            ]
          },
          "metadata": {
            "tags": []
          }
        },
        {
          "output_type": "stream",
          "text": [
            "\n",
            "using model: bert-large-uncased\n",
            "device: cpu\n"
          ],
          "name": "stdout"
        }
      ]
    },
    {
      "cell_type": "code",
      "metadata": {
        "id": "F9HTQpKP-MUW",
        "colab_type": "code",
        "colab": {}
      },
      "source": [
        "def change_case(word: str):\n",
        "    if not word.isalpha():\n",
        "        return False\n",
        "\n",
        "    if word.lower() == word:\n",
        "        return word.capitalize()\n",
        "    elif word.capitalize() == word:\n",
        "        return word.lower()\n",
        "    else:\n",
        "        # camelCase, ALLUPPER, sPoNGeBoB, etc\n",
        "        return False"
      ],
      "execution_count": 0,
      "outputs": []
    },
    {
      "cell_type": "code",
      "metadata": {
        "id": "-XopjyyH9AjQ",
        "colab_type": "code",
        "outputId": "895170be-62a4-4969-e35c-54b50de43261",
        "colab": {
          "base_uri": "https://localhost:8080/",
          "height": 102
        }
      },
      "source": [
        "# Naive implementation handles some cases\n",
        "masked_string = f'{fb2.mask_token} more than 2000 minerals are known, nearly all rocks are formed from seven mineral groups.'\n",
        "'''\n",
        "#(A) Although \n",
        "(B) However \n",
        "(C) Despite \n",
        "(D) Since   \n",
        "'''\n",
        "#masked_string = f\"These {fb2.mask_token} some common grammatical mistakes .\"\n",
        "options = [\"Since\", \"Although\", \"However\", \"Despite\"]\n",
        "fb.rank_with_prob(masked_string, options=options)\n"
      ],
      "execution_count": 16,
      "outputs": [
        {
          "output_type": "execute_result",
          "data": {
            "text/plain": [
              "(['Although', 'Since', 'Despite', 'However'],\n",
              " [0.7068212032318115,\n",
              "  0.007502361666411161,\n",
              "  0.0011061098193749785,\n",
              "  0.00021216872846707702])"
            ]
          },
          "metadata": {
            "tags": []
          },
          "execution_count": 16
        }
      ]
    },
    {
      "cell_type": "code",
      "metadata": {
        "id": "HHTzrVjrnomq",
        "colab_type": "code",
        "outputId": "201b77b9-9e90-48a7-a338-80d660f3035f",
        "colab": {
          "base_uri": "https://localhost:8080/",
          "height": 153
        }
      },
      "source": [
        "masked_string = f\"Our friends are expected to assume the burden of their own defense,{fb2.mask_token} they are competent to do.\"\n",
        "options = [\"which we are certain\", \"that we are certain of \", \"of which we are sure\", \"for which we are sure\" ]\n",
        "fb.rank_with_prob(masked_string, options=options)"
      ],
      "execution_count": 17,
      "outputs": [
        {
          "output_type": "execute_result",
          "data": {
            "text/plain": [
              "(['which we are certain',\n",
              "  'of which we are sure',\n",
              "  'for which we are sure',\n",
              "  'that we are certain of'],\n",
              " [7.986510338541171e-14,\n",
              "  8.051006581587426e-15,\n",
              "  3.708401732536897e-15,\n",
              "  5.097826745128086e-21])"
            ]
          },
          "metadata": {
            "tags": []
          },
          "execution_count": 17
        }
      ]
    },
    {
      "cell_type": "code",
      "metadata": {
        "id": "_N9fr_goG9mY",
        "colab_type": "code",
        "outputId": "e84e8e3b-c444-430a-d329-58ca23061d58",
        "colab": {
          "base_uri": "https://localhost:8080/",
          "height": 34
        }
      },
      "source": [
        "# but not others\n",
        "masked_string = f\"These are some Common {fb2.mask_token} mistakes .\"\n",
        "options = [\"grammatical\", \"Grammatical\"]\n",
        "fb2.fitb(masked_string, options=options)\n"
      ],
      "execution_count": 18,
      "outputs": [
        {
          "output_type": "execute_result",
          "data": {
            "text/plain": [
              "'These are some Common grammatical mistakes .'"
            ]
          },
          "metadata": {
            "tags": []
          },
          "execution_count": 18
        }
      ]
    },
    {
      "cell_type": "code",
      "metadata": {
        "id": "SLnX-csDQYRs",
        "colab_type": "code",
        "colab": {
          "base_uri": "https://localhost:8080/",
          "height": 102
        },
        "outputId": "f0e99257-0c38-4116-bb53-d38638b956d8"
      },
      "source": [
        "'''# but not other\n",
        "He ---- a gift out of his suitcase and handed it to his son.\n",
        "A demonstrated\n",
        "B embraced\n",
        "C produced\n",
        "D exhibited\n",
        "\n",
        "Having messed around for a lengthy period of time, he eventually made up his mind to put his ___ to the wheel.\n",
        "A hand\n",
        "B shoulder\n",
        "C knee\n",
        "D foot\n",
        "'''\n",
        "\n",
        "masked_string = \"Having messed around for a lengthy period of time, he eventually made up his mind to put his ***mask*** to the wheel.\"\n",
        "options = [\"hand\", \"shoulder\", \"knee\", \"foot\"]\n",
        "fb2.fitb(masked_string, options=options)\n",
        "fb.rank_with_prob(masked_string, options=options)"
      ],
      "execution_count": 19,
      "outputs": [
        {
          "output_type": "execute_result",
          "data": {
            "text/plain": [
              "(['hand', 'shoulder', 'foot', 'knee'],\n",
              " [0.24507983028888702,\n",
              "  0.038622066378593445,\n",
              "  0.03832578286528587,\n",
              "  0.0006917749415151775])"
            ]
          },
          "metadata": {
            "tags": []
          },
          "execution_count": 19
        }
      ]
    },
    {
      "cell_type": "code",
      "metadata": {
        "id": "8NZaOw9AhqUg",
        "colab_type": "code",
        "colab": {
          "base_uri": "https://localhost:8080/",
          "height": 105
        },
        "outputId": "e9663c89-34ba-45cd-987c-afa57b5bff6d"
      },
      "source": [
        "import re\n",
        "qus, A, B, C, D, ans = [],[],[],[],[],[]\n",
        "dem = 1\n",
        "ques = open('chuan.txt', 'r')\n",
        "for line in ques :\n",
        "    line = re.sub('\\n','',line)\n",
        "    if re.search('##',line):\n",
        "        qus.append(re.sub('##','',line))\n",
        "       \n",
        "       \n",
        "    elif re.search('#\\(', line):\n",
        "        ans.append(re.sub('#\\([a-z]\\) ','',line))\n",
        "        \n",
        "    if re.search('\\(a\\)', line):\n",
        "        A.append(re.sub('#\\([a-z]\\) |\\([a-z]\\) ','',line))\n",
        "    elif re.search('\\(b\\)', line):\n",
        "        B.append(re.sub('#\\([a-z]\\) |\\([a-z]\\) ','',line))\n",
        "    elif re.search('\\(c\\)', line):\n",
        "        C.append(re.sub('#\\([a-z]\\) |\\([a-z]\\) ','',line))\n",
        "    elif re.search('\\(d\\)', line):\n",
        "        D.append(re.sub('#\\([a-z]\\) |\\([a-z]\\) ','',line))\n",
        "print(len(qus))\n",
        "print(len(A))\n",
        "ketqua,diem = [], []\n",
        "dem = 0\n",
        "for qua in qus:\n",
        "    opt = []\n",
        "    opt.append(A[dem])\n",
        "    opt.append(B[dem])\n",
        "    opt.append(C[dem])\n",
        "    opt.append(D[dem])\n",
        "    ketqua.append(fb2.fitb(qua, options=opt))\n",
        "    diem.append(fb.rank_with_prob(masked_string, options=opt))\n",
        "    dem += 1\n",
        "\n",
        "print(ketqua)\n",
        "print(diem)"
      ],
      "execution_count": 20,
      "outputs": [
        {
          "output_type": "stream",
          "text": [
            "4\n",
            "4\n",
            "[' All living things consist of one of more units of living substance called protoplasm.', \" A newspaper's political cartoons serve as capsule versions of editorial opinion.\", ' Tornadoes almost never occur west of the Rocky Mountains.', ' In the last one hundred years, the advent of the telephone, radio, and television has made rapid long-distance communication possible.']\n",
            "[(['All living things consisting of', 'All living things consist of', 'In all living things consisting of', 'Although all living things that consist of'], [6.989771905956681e-29, 2.8477447440115484e-31, 7.828787043153058e-33, 1.2733703356993763e-34]), (['serve', 'serve as', 'in serving', 'be served'], [6.19283670095504e-25, 4.80921007559468e-28, 1.4242598049912585e-28, 3.643840714136998e-35]), (['Tornadoes almost never occur', 'Tornadoes never almost occur', 'Never tornadoes almost occur', 'Tornadoes almost occur never'], [3.657903748751566e-36, 8.434503693107926e-40, 1.3707972661510393e-40, 1.2971797328457096e-40]), (['one hundred years later', 'one hundred years ago', 'the last one hundred years', 'the one hundred years since'], [3.555085143271056e-26, 3.8845017962007525e-29, 1.8932284846251216e-29, 8.385133751895368e-31])]\n"
          ],
          "name": "stdout"
        }
      ]
    },
    {
      "cell_type": "code",
      "metadata": {
        "id": "z190pUc9wXwU",
        "colab_type": "code",
        "colab": {
          "base_uri": "https://localhost:8080/",
          "height": 241
        },
        "outputId": "6a993dab-c934-4ac2-d088-6766c7839d0d"
      },
      "source": [
        "for a in ketqua:\n",
        "    print(a)\n",
        "for a in diem:\n",
        "    for b in a:\n",
        "        print(b)"
      ],
      "execution_count": 21,
      "outputs": [
        {
          "output_type": "stream",
          "text": [
            " All living things consist of one of more units of living substance called protoplasm.\n",
            " A newspaper's political cartoons serve as capsule versions of editorial opinion.\n",
            " Tornadoes almost never occur west of the Rocky Mountains.\n",
            " In the last one hundred years, the advent of the telephone, radio, and television has made rapid long-distance communication possible.\n",
            "['All living things consisting of', 'All living things consist of', 'In all living things consisting of', 'Although all living things that consist of']\n",
            "[6.989771905956681e-29, 2.8477447440115484e-31, 7.828787043153058e-33, 1.2733703356993763e-34]\n",
            "['serve', 'serve as', 'in serving', 'be served']\n",
            "[6.19283670095504e-25, 4.80921007559468e-28, 1.4242598049912585e-28, 3.643840714136998e-35]\n",
            "['Tornadoes almost never occur', 'Tornadoes never almost occur', 'Never tornadoes almost occur', 'Tornadoes almost occur never']\n",
            "[3.657903748751566e-36, 8.434503693107926e-40, 1.3707972661510393e-40, 1.2971797328457096e-40]\n",
            "['one hundred years later', 'one hundred years ago', 'the last one hundred years', 'the one hundred years since']\n",
            "[3.555085143271056e-26, 3.8845017962007525e-29, 1.8932284846251216e-29, 8.385133751895368e-31]\n"
          ],
          "name": "stdout"
        }
      ]
    },
    {
      "cell_type": "code",
      "metadata": {
        "id": "I0kQ-71xra-Y",
        "colab_type": "code",
        "colab": {}
      },
      "source": [
        ""
      ],
      "execution_count": 0,
      "outputs": []
    },
    {
      "cell_type": "code",
      "metadata": {
        "id": "qcGBJ79PCmwA",
        "colab_type": "code",
        "outputId": "29362232-d854-4da4-b504-84f55a6d1320",
        "colab": {
          "base_uri": "https://localhost:8080/",
          "height": 119
        }
      },
      "source": [
        "# we can loop through and look at each pairwise comparison to see whats going on\n",
        "# except we can't trust the probabilities order, because of a bug in fitbert\n",
        "orig = \"These are some Common Grammatical mistakes .\"\n",
        "\n",
        "tokens = orig.split(\" \")\n",
        "for i, token in enumerate(tokens):\n",
        "    masked_string = \" \".join(tokens[:i]) + fb2.mask_token + \" \".join(tokens[i:])\n",
        "    changed = change_case(token)\n",
        "    if changed:\n",
        "        options = [changed, token]\n",
        "        ranked, probs = fb2.rank(masked_string, options, with_prob=True)\n",
        "        print(ranked, probs)"
      ],
      "execution_count": 22,
      "outputs": [
        {
          "output_type": "stream",
          "text": [
            "['These', 'these'] [0.0006648972048424184, 0.0006648972048424184]\n",
            "['are', 'Are'] [0.0010659873951226473, 0.0010659873951226473]\n",
            "['Some', 'some'] [0.0003039452130906284, 0.0003039452130906284]\n",
            "['Common', 'common'] [0.005290379747748375, 0.005290379747748375]\n",
            "['grammatical', 'Grammatical'] [0.09503238648176193, 0.09503238648176193]\n",
            "['mistakes', 'Mistakes'] [0.012089312076568604, 0.012089312076568604]\n"
          ],
          "name": "stdout"
        }
      ]
    },
    {
      "cell_type": "code",
      "metadata": {
        "id": "asv7A-3hFh73",
        "colab_type": "code",
        "outputId": "abaacfbf-95b6-408f-eb14-3239280fc4da",
        "colab": {
          "base_uri": "https://localhost:8080/",
          "height": 289
        }
      },
      "source": [
        "# Using greedy decoding works pretty well\n",
        "\n",
        "orig = \"These are some Common Grammatical mistakes .\"\n",
        "\n",
        "tokens = orig.split(\" \")\n",
        "for i, token in enumerate(tokens):\n",
        "    if token.isalpha():\n",
        "        masked_string = \" \".join(tokens[0:i]) + \" \" + fb2.mask_token + \" \" + \" \".join(tokens[i + 1:])\n",
        "        print(\"the masked string is: \", masked_string)\n",
        "        changed = change_case(token)\n",
        "        if changed:\n",
        "            options = [changed, token]\n",
        "            ranked, probs = fb2.rank(masked_string, options, with_prob=True)\n",
        "            print(ranked, probs)\n",
        "            if ranked[0] == changed:\n",
        "                # should use probs, but there is a bug where it is sorted before being returned :facepalm:\n",
        "                tokens[i] = changed\n",
        "                print(\"the string is now:\", \" \".join(tokens))\n",
        "print(\"final version is\")\n",
        "print(\" \".join(tokens))"
      ],
      "execution_count": 23,
      "outputs": [
        {
          "output_type": "stream",
          "text": [
            "the masked string is:   ***mask*** are some Common Grammatical mistakes .\n",
            "['These', 'these'] [0.1498614400625229, 0.1498614400625229]\n",
            "the masked string is:  These ***mask*** some Common Grammatical mistakes .\n",
            "['are', 'Are'] [0.8028624057769775, 0.8028624057769775]\n",
            "the masked string is:  These are ***mask*** Common Grammatical mistakes .\n",
            "['Some', 'some'] [0.14430972933769226, 0.14430972933769226]\n",
            "the string is now: These are Some Common Grammatical mistakes .\n",
            "the masked string is:  These are Some ***mask*** Grammatical mistakes .\n",
            "['Common', 'common'] [0.3928169906139374, 0.3928169906139374]\n",
            "the masked string is:  These are Some Common ***mask*** mistakes .\n",
            "['grammatical', 'Grammatical'] [0.036092061549425125, 0.036092061549425125]\n",
            "the string is now: These are Some Common grammatical mistakes .\n",
            "the masked string is:  These are Some Common grammatical ***mask*** .\n",
            "['mistakes', 'Mistakes'] [0.19619633257389069, 0.19619633257389069]\n",
            "final version is\n",
            "These are Some Common grammatical mistakes .\n"
          ],
          "name": "stdout"
        }
      ]
    },
    {
      "cell_type": "code",
      "metadata": {
        "id": "2k3x9IoIJe7Q",
        "colab_type": "code",
        "outputId": "c382d86a-3100-462b-f76f-b3bd1c5e7a95",
        "colab": {
          "base_uri": "https://localhost:8080/",
          "height": 51
        }
      },
      "source": [
        "# I can't tell if this behaviour is ok\n",
        "# Wikipedia says that this correction is good\n",
        "# I thought this would be hard for the model...\n",
        "\n",
        "orig = \"I 'm really feeling Panic! At The Disco .\"\n",
        "\n",
        "tokens = orig.split(\" \")\n",
        "for i, token in enumerate(tokens):\n",
        "    if i>0:\n",
        "        if token.isalpha():\n",
        "            masked_string = \" \".join(tokens[0:i]) + \" \" + fb2.mask_token + \" \" + \" \".join(tokens[i + 1:])\n",
        "            changed = change_case(token)\n",
        "            if changed:\n",
        "                options = [changed, token]\n",
        "                ranked, probs = fb2.rank(masked_string, options, with_prob=True)\n",
        "                if ranked[0] == changed:\n",
        "                    # should use probs, but there is a bug where it is sorted before being returned :facepalm:\n",
        "                    tokens[i] = changed\n",
        "print(\"final version is\")\n",
        "print(\" \".join(tokens))"
      ],
      "execution_count": 24,
      "outputs": [
        {
          "output_type": "stream",
          "text": [
            "final version is\n",
            "I 'm Really feeling Panic! at the Disco .\n"
          ],
          "name": "stdout"
        }
      ]
    },
    {
      "cell_type": "code",
      "metadata": {
        "id": "_rCzD68cLFbP",
        "colab_type": "code",
        "outputId": "11c79f33-4c02-4cbb-dad4-5ef93e4a8ac6",
        "colab": {
          "base_uri": "https://localhost:8080/",
          "height": 71
        }
      },
      "source": [
        "# Truecasing is nearly impossible if a product name is also a common noun\n",
        "\n",
        "orig = \"Create Styleguides to standardize a writing style across all your content — or to manage distinct styles for different audiences .\"\n",
        "\n",
        "tokens = orig.split(\" \")\n",
        "for i, token in enumerate(tokens):\n",
        "    if token.isalpha() and i>0:\n",
        "        masked_string = \" \".join(tokens[0:i]) + \" \" + fb2.mask_token + \" \" + \" \".join(tokens[i + 1:])\n",
        "        changed = change_case(token)\n",
        "        if changed:\n",
        "            options = [changed, token]\n",
        "            ranked, probs = fb2.rank(masked_string, options, with_prob=True)\n",
        "            if ranked[0] == changed:\n",
        "                # should use probs, but there is a bug where it is sorted before being returned :facepalm:\n",
        "                tokens[i] = changed\n",
        "print(\"final version is\")\n",
        "print(\" \".join(tokens))"
      ],
      "execution_count": 25,
      "outputs": [
        {
          "output_type": "stream",
          "text": [
            "final version is\n",
            "Create styleguides To standardize A Writing style across All Your content — or To Manage distinct styles for Different Audiences .\n"
          ],
          "name": "stdout"
        }
      ]
    },
    {
      "cell_type": "code",
      "metadata": {
        "id": "tLxKCCrsLyV8",
        "colab_type": "code",
        "colab": {}
      },
      "source": [
        ""
      ],
      "execution_count": 0,
      "outputs": []
    }
  ]
}