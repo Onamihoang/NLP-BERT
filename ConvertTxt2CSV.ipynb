{
  "nbformat": 4,
  "nbformat_minor": 0,
  "metadata": {
    "colab": {
      "name": "ConvertTxt2CSV.ipynb",
      "provenance": [],
      "authorship_tag": "ABX9TyOLaD44uHGZeuCYccPnqq9u",
      "include_colab_link": true
    },
    "kernelspec": {
      "name": "python3",
      "display_name": "Python 3"
    }
  },
  "cells": [
    {
      "cell_type": "markdown",
      "metadata": {
        "id": "view-in-github",
        "colab_type": "text"
      },
      "source": [
        "<a href=\"https://colab.research.google.com/github/Onamihoang/NLP-IELTS/blob/master/ConvertTxt2CSV.ipynb\" target=\"_parent\"><img src=\"https://colab.research.google.com/assets/colab-badge.svg\" alt=\"Open In Colab\"/></a>"
      ]
    },
    {
      "cell_type": "code",
      "metadata": {
        "id": "nMMC-mR_PCgU",
        "colab_type": "code",
        "colab": {
          "base_uri": "https://localhost:8080/",
          "height": 238
        },
        "outputId": "8af46207-7f00-4a03-bbe5-000dfdc32b4a"
      },
      "source": [
        "import pandas as pd\n",
        "import csv\n",
        "import re\n",
        "\n",
        "\n",
        "def convertCSV(dirinput,diroutput):\n",
        "    qus,A,B,C,D = \"\",\"\",\"\",\"\",\"\"\n",
        "    dem,ans = 0,0\n",
        "    with open(diroutput, 'w', newline='') as f:\n",
        "        fieldnames = ['qus', 'A', 'B', 'C', 'D', 'ans']\n",
        "        writein = csv.DictWriter(f, fieldnames=fieldnames)\n",
        "        writein.writerow({'qus':'qus', 'A':'A','B':'B', 'C':'C', 'D':'D','ans':'ans' })\n",
        "        file1 = open(dirinput,\"r\") \n",
        "        for line in file1:\n",
        "            dem+=1\n",
        "            if \"##\" in line:\n",
        "                qus = re.sub(\"##\",'',line)\n",
        "                dem = 0\n",
        "            if '#' in line:\n",
        "                ans = dem\n",
        "            if dem%5 ==1 :\n",
        "                A = re.sub(\"#|\\(A\\)|\\n\",'',line)\n",
        "            if dem%5 ==2 :\n",
        "                B = re.sub(\"#|\\(B\\)|\\n\",'',line)\n",
        "            if dem%5 ==3 :\n",
        "                C = re.sub(\"#|\\(C\\)|\\n\",'',line)\n",
        "            if dem%5 ==4 :\n",
        "                D = re.sub(\"#|\\(D\\)|\\n\",'',line)\n",
        "            \n",
        "            if dem%5 == 4 :\n",
        "                writein.writerow({'qus':qus, 'A':A,'B':B, 'C':C, 'D':D,'ans':ans })\n",
        "        file1.close() \n",
        "    \n",
        "    df = pd.read_csv(diroutput)\n",
        "    print(df)\n",
        "convertCSV(\"demoQuestion.txt\",\"demo.csv\")"
      ],
      "execution_count": 74,
      "outputs": [
        {
          "output_type": "stream",
          "text": [
            "                                                 qus  ... ans\n",
            "0  Our company usually_______a party for the enti...  ...   2\n",
            "1  If we walk_______, we can get to the station b...  ...   3\n",
            "2  Mr. Simms was late for work because_______car ...  ...   1\n",
            "3  We expect______ this project before the end of...  ...   3\n",
            "4  Sarah won the tennis competition last week, an...  ...   2\n",
            "5  Get_______ the bus at Main Street and then wal...  ...   4\n",
            "6  W e_______ work on the project after tomorrow’...  ...   1\n",
            "7  Prices will continue to _______, and everythin...  ...   2\n",
            "8  ----------- every day is the best way to impro...  ...   3\n",
            "9  You can’t spend all day trying to make up your...  ...   1\n",
            "\n",
            "[10 rows x 6 columns]\n"
          ],
          "name": "stdout"
        }
      ]
    }
  ]
}