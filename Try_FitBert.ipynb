{
  "nbformat": 4,
  "nbformat_minor": 0,
  "metadata": {
    "colab": {
      "name": "Try FitBert.ipynb",
      "provenance": [],
      "include_colab_link": true
    },
    "kernelspec": {
      "name": "python3",
      "display_name": "Python 3"
    },
    "accelerator": "GPU",
    "widgets": {
      "application/vnd.jupyter.widget-state+json": {
        "1546748d6b764e6c947edd4812430809": {
          "model_module": "@jupyter-widgets/controls",
          "model_name": "HBoxModel",
          "state": {
            "_view_name": "HBoxView",
            "_dom_classes": [],
            "_model_name": "HBoxModel",
            "_view_module": "@jupyter-widgets/controls",
            "_model_module_version": "1.5.0",
            "_view_count": null,
            "_view_module_version": "1.5.0",
            "box_style": "",
            "layout": "IPY_MODEL_1d61f20d0a8146878771765d75401e73",
            "_model_module": "@jupyter-widgets/controls",
            "children": [
              "IPY_MODEL_9d94151793d14efb9945db0dd626d366",
              "IPY_MODEL_966180fc253d463ab07c59a0b1d67277"
            ]
          }
        },
        "1d61f20d0a8146878771765d75401e73": {
          "model_module": "@jupyter-widgets/base",
          "model_name": "LayoutModel",
          "state": {
            "_view_name": "LayoutView",
            "grid_template_rows": null,
            "right": null,
            "justify_content": null,
            "_view_module": "@jupyter-widgets/base",
            "overflow": null,
            "_model_module_version": "1.2.0",
            "_view_count": null,
            "flex_flow": null,
            "width": null,
            "min_width": null,
            "border": null,
            "align_items": null,
            "bottom": null,
            "_model_module": "@jupyter-widgets/base",
            "top": null,
            "grid_column": null,
            "overflow_y": null,
            "overflow_x": null,
            "grid_auto_flow": null,
            "grid_area": null,
            "grid_template_columns": null,
            "flex": null,
            "_model_name": "LayoutModel",
            "justify_items": null,
            "grid_row": null,
            "max_height": null,
            "align_content": null,
            "visibility": null,
            "align_self": null,
            "height": null,
            "min_height": null,
            "padding": null,
            "grid_auto_rows": null,
            "grid_gap": null,
            "max_width": null,
            "order": null,
            "_view_module_version": "1.2.0",
            "grid_template_areas": null,
            "object_position": null,
            "object_fit": null,
            "grid_auto_columns": null,
            "margin": null,
            "display": null,
            "left": null
          }
        },
        "9d94151793d14efb9945db0dd626d366": {
          "model_module": "@jupyter-widgets/controls",
          "model_name": "IntProgressModel",
          "state": {
            "_view_name": "ProgressView",
            "style": "IPY_MODEL_0be677fc43de45c388b772b731f4cdfb",
            "_dom_classes": [],
            "description": "Downloading: 100%",
            "_model_name": "IntProgressModel",
            "bar_style": "success",
            "max": 434,
            "_view_module": "@jupyter-widgets/controls",
            "_model_module_version": "1.5.0",
            "value": 434,
            "_view_count": null,
            "_view_module_version": "1.5.0",
            "orientation": "horizontal",
            "min": 0,
            "description_tooltip": null,
            "_model_module": "@jupyter-widgets/controls",
            "layout": "IPY_MODEL_96dc8e2621e54d67b097c675914438c9"
          }
        },
        "966180fc253d463ab07c59a0b1d67277": {
          "model_module": "@jupyter-widgets/controls",
          "model_name": "HTMLModel",
          "state": {
            "_view_name": "HTMLView",
            "style": "IPY_MODEL_b54dcc1ace2848cdae6f13e9dd0fa2c1",
            "_dom_classes": [],
            "description": "",
            "_model_name": "HTMLModel",
            "placeholder": "​",
            "_view_module": "@jupyter-widgets/controls",
            "_model_module_version": "1.5.0",
            "value": " 434/434 [00:00&lt;00:00, 542B/s]",
            "_view_count": null,
            "_view_module_version": "1.5.0",
            "description_tooltip": null,
            "_model_module": "@jupyter-widgets/controls",
            "layout": "IPY_MODEL_b450298150c246c1bb8d2cfadd2333c0"
          }
        },
        "0be677fc43de45c388b772b731f4cdfb": {
          "model_module": "@jupyter-widgets/controls",
          "model_name": "ProgressStyleModel",
          "state": {
            "_view_name": "StyleView",
            "_model_name": "ProgressStyleModel",
            "description_width": "initial",
            "_view_module": "@jupyter-widgets/base",
            "_model_module_version": "1.5.0",
            "_view_count": null,
            "_view_module_version": "1.2.0",
            "bar_color": null,
            "_model_module": "@jupyter-widgets/controls"
          }
        },
        "96dc8e2621e54d67b097c675914438c9": {
          "model_module": "@jupyter-widgets/base",
          "model_name": "LayoutModel",
          "state": {
            "_view_name": "LayoutView",
            "grid_template_rows": null,
            "right": null,
            "justify_content": null,
            "_view_module": "@jupyter-widgets/base",
            "overflow": null,
            "_model_module_version": "1.2.0",
            "_view_count": null,
            "flex_flow": null,
            "width": null,
            "min_width": null,
            "border": null,
            "align_items": null,
            "bottom": null,
            "_model_module": "@jupyter-widgets/base",
            "top": null,
            "grid_column": null,
            "overflow_y": null,
            "overflow_x": null,
            "grid_auto_flow": null,
            "grid_area": null,
            "grid_template_columns": null,
            "flex": null,
            "_model_name": "LayoutModel",
            "justify_items": null,
            "grid_row": null,
            "max_height": null,
            "align_content": null,
            "visibility": null,
            "align_self": null,
            "height": null,
            "min_height": null,
            "padding": null,
            "grid_auto_rows": null,
            "grid_gap": null,
            "max_width": null,
            "order": null,
            "_view_module_version": "1.2.0",
            "grid_template_areas": null,
            "object_position": null,
            "object_fit": null,
            "grid_auto_columns": null,
            "margin": null,
            "display": null,
            "left": null
          }
        },
        "b54dcc1ace2848cdae6f13e9dd0fa2c1": {
          "model_module": "@jupyter-widgets/controls",
          "model_name": "DescriptionStyleModel",
          "state": {
            "_view_name": "StyleView",
            "_model_name": "DescriptionStyleModel",
            "description_width": "",
            "_view_module": "@jupyter-widgets/base",
            "_model_module_version": "1.5.0",
            "_view_count": null,
            "_view_module_version": "1.2.0",
            "_model_module": "@jupyter-widgets/controls"
          }
        },
        "b450298150c246c1bb8d2cfadd2333c0": {
          "model_module": "@jupyter-widgets/base",
          "model_name": "LayoutModel",
          "state": {
            "_view_name": "LayoutView",
            "grid_template_rows": null,
            "right": null,
            "justify_content": null,
            "_view_module": "@jupyter-widgets/base",
            "overflow": null,
            "_model_module_version": "1.2.0",
            "_view_count": null,
            "flex_flow": null,
            "width": null,
            "min_width": null,
            "border": null,
            "align_items": null,
            "bottom": null,
            "_model_module": "@jupyter-widgets/base",
            "top": null,
            "grid_column": null,
            "overflow_y": null,
            "overflow_x": null,
            "grid_auto_flow": null,
            "grid_area": null,
            "grid_template_columns": null,
            "flex": null,
            "_model_name": "LayoutModel",
            "justify_items": null,
            "grid_row": null,
            "max_height": null,
            "align_content": null,
            "visibility": null,
            "align_self": null,
            "height": null,
            "min_height": null,
            "padding": null,
            "grid_auto_rows": null,
            "grid_gap": null,
            "max_width": null,
            "order": null,
            "_view_module_version": "1.2.0",
            "grid_template_areas": null,
            "object_position": null,
            "object_fit": null,
            "grid_auto_columns": null,
            "margin": null,
            "display": null,
            "left": null
          }
        },
        "cf13221f058b4893be81bbf61541e754": {
          "model_module": "@jupyter-widgets/controls",
          "model_name": "HBoxModel",
          "state": {
            "_view_name": "HBoxView",
            "_dom_classes": [],
            "_model_name": "HBoxModel",
            "_view_module": "@jupyter-widgets/controls",
            "_model_module_version": "1.5.0",
            "_view_count": null,
            "_view_module_version": "1.5.0",
            "box_style": "",
            "layout": "IPY_MODEL_d566baf6e3b54599a3d42566e44ec76d",
            "_model_module": "@jupyter-widgets/controls",
            "children": [
              "IPY_MODEL_6c295f83d1a74b1088a8047ae3a7b1eb",
              "IPY_MODEL_ea02983914744f64bd58b5dbdae3c2bc"
            ]
          }
        },
        "d566baf6e3b54599a3d42566e44ec76d": {
          "model_module": "@jupyter-widgets/base",
          "model_name": "LayoutModel",
          "state": {
            "_view_name": "LayoutView",
            "grid_template_rows": null,
            "right": null,
            "justify_content": null,
            "_view_module": "@jupyter-widgets/base",
            "overflow": null,
            "_model_module_version": "1.2.0",
            "_view_count": null,
            "flex_flow": null,
            "width": null,
            "min_width": null,
            "border": null,
            "align_items": null,
            "bottom": null,
            "_model_module": "@jupyter-widgets/base",
            "top": null,
            "grid_column": null,
            "overflow_y": null,
            "overflow_x": null,
            "grid_auto_flow": null,
            "grid_area": null,
            "grid_template_columns": null,
            "flex": null,
            "_model_name": "LayoutModel",
            "justify_items": null,
            "grid_row": null,
            "max_height": null,
            "align_content": null,
            "visibility": null,
            "align_self": null,
            "height": null,
            "min_height": null,
            "padding": null,
            "grid_auto_rows": null,
            "grid_gap": null,
            "max_width": null,
            "order": null,
            "_view_module_version": "1.2.0",
            "grid_template_areas": null,
            "object_position": null,
            "object_fit": null,
            "grid_auto_columns": null,
            "margin": null,
            "display": null,
            "left": null
          }
        },
        "6c295f83d1a74b1088a8047ae3a7b1eb": {
          "model_module": "@jupyter-widgets/controls",
          "model_name": "IntProgressModel",
          "state": {
            "_view_name": "ProgressView",
            "style": "IPY_MODEL_4d4527c7b67341199cbb26d769440c3f",
            "_dom_classes": [],
            "description": "Downloading: 100%",
            "_model_name": "IntProgressModel",
            "bar_style": "success",
            "max": 1344997306,
            "_view_module": "@jupyter-widgets/controls",
            "_model_module_version": "1.5.0",
            "value": 1344997306,
            "_view_count": null,
            "_view_module_version": "1.5.0",
            "orientation": "horizontal",
            "min": 0,
            "description_tooltip": null,
            "_model_module": "@jupyter-widgets/controls",
            "layout": "IPY_MODEL_a7ab3045c9c345e19775f0b31a92b092"
          }
        },
        "ea02983914744f64bd58b5dbdae3c2bc": {
          "model_module": "@jupyter-widgets/controls",
          "model_name": "HTMLModel",
          "state": {
            "_view_name": "HTMLView",
            "style": "IPY_MODEL_5b37df02fc0e4cfa8bb305cb902f7275",
            "_dom_classes": [],
            "description": "",
            "_model_name": "HTMLModel",
            "placeholder": "​",
            "_view_module": "@jupyter-widgets/controls",
            "_model_module_version": "1.5.0",
            "value": " 1.34G/1.34G [01:42&lt;00:00, 13.1MB/s]",
            "_view_count": null,
            "_view_module_version": "1.5.0",
            "description_tooltip": null,
            "_model_module": "@jupyter-widgets/controls",
            "layout": "IPY_MODEL_495a8fa9c68547e198172d76374a65ed"
          }
        },
        "4d4527c7b67341199cbb26d769440c3f": {
          "model_module": "@jupyter-widgets/controls",
          "model_name": "ProgressStyleModel",
          "state": {
            "_view_name": "StyleView",
            "_model_name": "ProgressStyleModel",
            "description_width": "initial",
            "_view_module": "@jupyter-widgets/base",
            "_model_module_version": "1.5.0",
            "_view_count": null,
            "_view_module_version": "1.2.0",
            "bar_color": null,
            "_model_module": "@jupyter-widgets/controls"
          }
        },
        "a7ab3045c9c345e19775f0b31a92b092": {
          "model_module": "@jupyter-widgets/base",
          "model_name": "LayoutModel",
          "state": {
            "_view_name": "LayoutView",
            "grid_template_rows": null,
            "right": null,
            "justify_content": null,
            "_view_module": "@jupyter-widgets/base",
            "overflow": null,
            "_model_module_version": "1.2.0",
            "_view_count": null,
            "flex_flow": null,
            "width": null,
            "min_width": null,
            "border": null,
            "align_items": null,
            "bottom": null,
            "_model_module": "@jupyter-widgets/base",
            "top": null,
            "grid_column": null,
            "overflow_y": null,
            "overflow_x": null,
            "grid_auto_flow": null,
            "grid_area": null,
            "grid_template_columns": null,
            "flex": null,
            "_model_name": "LayoutModel",
            "justify_items": null,
            "grid_row": null,
            "max_height": null,
            "align_content": null,
            "visibility": null,
            "align_self": null,
            "height": null,
            "min_height": null,
            "padding": null,
            "grid_auto_rows": null,
            "grid_gap": null,
            "max_width": null,
            "order": null,
            "_view_module_version": "1.2.0",
            "grid_template_areas": null,
            "object_position": null,
            "object_fit": null,
            "grid_auto_columns": null,
            "margin": null,
            "display": null,
            "left": null
          }
        },
        "5b37df02fc0e4cfa8bb305cb902f7275": {
          "model_module": "@jupyter-widgets/controls",
          "model_name": "DescriptionStyleModel",
          "state": {
            "_view_name": "StyleView",
            "_model_name": "DescriptionStyleModel",
            "description_width": "",
            "_view_module": "@jupyter-widgets/base",
            "_model_module_version": "1.5.0",
            "_view_count": null,
            "_view_module_version": "1.2.0",
            "_model_module": "@jupyter-widgets/controls"
          }
        },
        "495a8fa9c68547e198172d76374a65ed": {
          "model_module": "@jupyter-widgets/base",
          "model_name": "LayoutModel",
          "state": {
            "_view_name": "LayoutView",
            "grid_template_rows": null,
            "right": null,
            "justify_content": null,
            "_view_module": "@jupyter-widgets/base",
            "overflow": null,
            "_model_module_version": "1.2.0",
            "_view_count": null,
            "flex_flow": null,
            "width": null,
            "min_width": null,
            "border": null,
            "align_items": null,
            "bottom": null,
            "_model_module": "@jupyter-widgets/base",
            "top": null,
            "grid_column": null,
            "overflow_y": null,
            "overflow_x": null,
            "grid_auto_flow": null,
            "grid_area": null,
            "grid_template_columns": null,
            "flex": null,
            "_model_name": "LayoutModel",
            "justify_items": null,
            "grid_row": null,
            "max_height": null,
            "align_content": null,
            "visibility": null,
            "align_self": null,
            "height": null,
            "min_height": null,
            "padding": null,
            "grid_auto_rows": null,
            "grid_gap": null,
            "max_width": null,
            "order": null,
            "_view_module_version": "1.2.0",
            "grid_template_areas": null,
            "object_position": null,
            "object_fit": null,
            "grid_auto_columns": null,
            "margin": null,
            "display": null,
            "left": null
          }
        },
        "23211458728d4b6b98b78f748831413f": {
          "model_module": "@jupyter-widgets/controls",
          "model_name": "HBoxModel",
          "state": {
            "_view_name": "HBoxView",
            "_dom_classes": [],
            "_model_name": "HBoxModel",
            "_view_module": "@jupyter-widgets/controls",
            "_model_module_version": "1.5.0",
            "_view_count": null,
            "_view_module_version": "1.5.0",
            "box_style": "",
            "layout": "IPY_MODEL_971d83a983cc4d0ea144c1b2c248124b",
            "_model_module": "@jupyter-widgets/controls",
            "children": [
              "IPY_MODEL_4d86261891ec492f9267762365d5e123",
              "IPY_MODEL_769b6e6a5f96474aa764db19853c440d"
            ]
          }
        },
        "971d83a983cc4d0ea144c1b2c248124b": {
          "model_module": "@jupyter-widgets/base",
          "model_name": "LayoutModel",
          "state": {
            "_view_name": "LayoutView",
            "grid_template_rows": null,
            "right": null,
            "justify_content": null,
            "_view_module": "@jupyter-widgets/base",
            "overflow": null,
            "_model_module_version": "1.2.0",
            "_view_count": null,
            "flex_flow": null,
            "width": null,
            "min_width": null,
            "border": null,
            "align_items": null,
            "bottom": null,
            "_model_module": "@jupyter-widgets/base",
            "top": null,
            "grid_column": null,
            "overflow_y": null,
            "overflow_x": null,
            "grid_auto_flow": null,
            "grid_area": null,
            "grid_template_columns": null,
            "flex": null,
            "_model_name": "LayoutModel",
            "justify_items": null,
            "grid_row": null,
            "max_height": null,
            "align_content": null,
            "visibility": null,
            "align_self": null,
            "height": null,
            "min_height": null,
            "padding": null,
            "grid_auto_rows": null,
            "grid_gap": null,
            "max_width": null,
            "order": null,
            "_view_module_version": "1.2.0",
            "grid_template_areas": null,
            "object_position": null,
            "object_fit": null,
            "grid_auto_columns": null,
            "margin": null,
            "display": null,
            "left": null
          }
        },
        "4d86261891ec492f9267762365d5e123": {
          "model_module": "@jupyter-widgets/controls",
          "model_name": "IntProgressModel",
          "state": {
            "_view_name": "ProgressView",
            "style": "IPY_MODEL_7605575f4a0944d386ac5eea85cb5e17",
            "_dom_classes": [],
            "description": "Downloading: 100%",
            "_model_name": "IntProgressModel",
            "bar_style": "success",
            "max": 231508,
            "_view_module": "@jupyter-widgets/controls",
            "_model_module_version": "1.5.0",
            "value": 231508,
            "_view_count": null,
            "_view_module_version": "1.5.0",
            "orientation": "horizontal",
            "min": 0,
            "description_tooltip": null,
            "_model_module": "@jupyter-widgets/controls",
            "layout": "IPY_MODEL_c1d56fcefaf440d29adeea605198d213"
          }
        },
        "769b6e6a5f96474aa764db19853c440d": {
          "model_module": "@jupyter-widgets/controls",
          "model_name": "HTMLModel",
          "state": {
            "_view_name": "HTMLView",
            "style": "IPY_MODEL_9efa8cf73e5f43cf9c22f2b8b72edbad",
            "_dom_classes": [],
            "description": "",
            "_model_name": "HTMLModel",
            "placeholder": "​",
            "_view_module": "@jupyter-widgets/controls",
            "_model_module_version": "1.5.0",
            "value": " 232k/232k [00:00&lt;00:00, 381kB/s]",
            "_view_count": null,
            "_view_module_version": "1.5.0",
            "description_tooltip": null,
            "_model_module": "@jupyter-widgets/controls",
            "layout": "IPY_MODEL_259fb9ee65ba40a6b5e4e4dffe6060d9"
          }
        },
        "7605575f4a0944d386ac5eea85cb5e17": {
          "model_module": "@jupyter-widgets/controls",
          "model_name": "ProgressStyleModel",
          "state": {
            "_view_name": "StyleView",
            "_model_name": "ProgressStyleModel",
            "description_width": "initial",
            "_view_module": "@jupyter-widgets/base",
            "_model_module_version": "1.5.0",
            "_view_count": null,
            "_view_module_version": "1.2.0",
            "bar_color": null,
            "_model_module": "@jupyter-widgets/controls"
          }
        },
        "c1d56fcefaf440d29adeea605198d213": {
          "model_module": "@jupyter-widgets/base",
          "model_name": "LayoutModel",
          "state": {
            "_view_name": "LayoutView",
            "grid_template_rows": null,
            "right": null,
            "justify_content": null,
            "_view_module": "@jupyter-widgets/base",
            "overflow": null,
            "_model_module_version": "1.2.0",
            "_view_count": null,
            "flex_flow": null,
            "width": null,
            "min_width": null,
            "border": null,
            "align_items": null,
            "bottom": null,
            "_model_module": "@jupyter-widgets/base",
            "top": null,
            "grid_column": null,
            "overflow_y": null,
            "overflow_x": null,
            "grid_auto_flow": null,
            "grid_area": null,
            "grid_template_columns": null,
            "flex": null,
            "_model_name": "LayoutModel",
            "justify_items": null,
            "grid_row": null,
            "max_height": null,
            "align_content": null,
            "visibility": null,
            "align_self": null,
            "height": null,
            "min_height": null,
            "padding": null,
            "grid_auto_rows": null,
            "grid_gap": null,
            "max_width": null,
            "order": null,
            "_view_module_version": "1.2.0",
            "grid_template_areas": null,
            "object_position": null,
            "object_fit": null,
            "grid_auto_columns": null,
            "margin": null,
            "display": null,
            "left": null
          }
        },
        "9efa8cf73e5f43cf9c22f2b8b72edbad": {
          "model_module": "@jupyter-widgets/controls",
          "model_name": "DescriptionStyleModel",
          "state": {
            "_view_name": "StyleView",
            "_model_name": "DescriptionStyleModel",
            "description_width": "",
            "_view_module": "@jupyter-widgets/base",
            "_model_module_version": "1.5.0",
            "_view_count": null,
            "_view_module_version": "1.2.0",
            "_model_module": "@jupyter-widgets/controls"
          }
        },
        "259fb9ee65ba40a6b5e4e4dffe6060d9": {
          "model_module": "@jupyter-widgets/base",
          "model_name": "LayoutModel",
          "state": {
            "_view_name": "LayoutView",
            "grid_template_rows": null,
            "right": null,
            "justify_content": null,
            "_view_module": "@jupyter-widgets/base",
            "overflow": null,
            "_model_module_version": "1.2.0",
            "_view_count": null,
            "flex_flow": null,
            "width": null,
            "min_width": null,
            "border": null,
            "align_items": null,
            "bottom": null,
            "_model_module": "@jupyter-widgets/base",
            "top": null,
            "grid_column": null,
            "overflow_y": null,
            "overflow_x": null,
            "grid_auto_flow": null,
            "grid_area": null,
            "grid_template_columns": null,
            "flex": null,
            "_model_name": "LayoutModel",
            "justify_items": null,
            "grid_row": null,
            "max_height": null,
            "align_content": null,
            "visibility": null,
            "align_self": null,
            "height": null,
            "min_height": null,
            "padding": null,
            "grid_auto_rows": null,
            "grid_gap": null,
            "max_width": null,
            "order": null,
            "_view_module_version": "1.2.0",
            "grid_template_areas": null,
            "object_position": null,
            "object_fit": null,
            "grid_auto_columns": null,
            "margin": null,
            "display": null,
            "left": null
          }
        },
        "36594187140a4b39929934ee1fb697e8": {
          "model_module": "@jupyter-widgets/controls",
          "model_name": "HBoxModel",
          "state": {
            "_view_name": "HBoxView",
            "_dom_classes": [],
            "_model_name": "HBoxModel",
            "_view_module": "@jupyter-widgets/controls",
            "_model_module_version": "1.5.0",
            "_view_count": null,
            "_view_module_version": "1.5.0",
            "box_style": "",
            "layout": "IPY_MODEL_d04c8c085ff64cb5a0fb1135e77c5ae4",
            "_model_module": "@jupyter-widgets/controls",
            "children": [
              "IPY_MODEL_9ee1e29dc9d14956a6fe59fe8e708cd9",
              "IPY_MODEL_fd635cd8ddd74d2da6ca1f792f0ef9e2"
            ]
          }
        },
        "d04c8c085ff64cb5a0fb1135e77c5ae4": {
          "model_module": "@jupyter-widgets/base",
          "model_name": "LayoutModel",
          "state": {
            "_view_name": "LayoutView",
            "grid_template_rows": null,
            "right": null,
            "justify_content": null,
            "_view_module": "@jupyter-widgets/base",
            "overflow": null,
            "_model_module_version": "1.2.0",
            "_view_count": null,
            "flex_flow": null,
            "width": null,
            "min_width": null,
            "border": null,
            "align_items": null,
            "bottom": null,
            "_model_module": "@jupyter-widgets/base",
            "top": null,
            "grid_column": null,
            "overflow_y": null,
            "overflow_x": null,
            "grid_auto_flow": null,
            "grid_area": null,
            "grid_template_columns": null,
            "flex": null,
            "_model_name": "LayoutModel",
            "justify_items": null,
            "grid_row": null,
            "max_height": null,
            "align_content": null,
            "visibility": null,
            "align_self": null,
            "height": null,
            "min_height": null,
            "padding": null,
            "grid_auto_rows": null,
            "grid_gap": null,
            "max_width": null,
            "order": null,
            "_view_module_version": "1.2.0",
            "grid_template_areas": null,
            "object_position": null,
            "object_fit": null,
            "grid_auto_columns": null,
            "margin": null,
            "display": null,
            "left": null
          }
        },
        "9ee1e29dc9d14956a6fe59fe8e708cd9": {
          "model_module": "@jupyter-widgets/controls",
          "model_name": "IntProgressModel",
          "state": {
            "_view_name": "ProgressView",
            "style": "IPY_MODEL_7e86ebff182b41e7a907e3241cc78bbb",
            "_dom_classes": [],
            "description": "Downloading: 100%",
            "_model_name": "IntProgressModel",
            "bar_style": "success",
            "max": 213450,
            "_view_module": "@jupyter-widgets/controls",
            "_model_module_version": "1.5.0",
            "value": 213450,
            "_view_count": null,
            "_view_module_version": "1.5.0",
            "orientation": "horizontal",
            "min": 0,
            "description_tooltip": null,
            "_model_module": "@jupyter-widgets/controls",
            "layout": "IPY_MODEL_89a2abac743843379cf3f59dc08f7bb9"
          }
        },
        "fd635cd8ddd74d2da6ca1f792f0ef9e2": {
          "model_module": "@jupyter-widgets/controls",
          "model_name": "HTMLModel",
          "state": {
            "_view_name": "HTMLView",
            "style": "IPY_MODEL_07c291c4365c42f6b086031154316cec",
            "_dom_classes": [],
            "description": "",
            "_model_name": "HTMLModel",
            "placeholder": "​",
            "_view_module": "@jupyter-widgets/controls",
            "_model_module_version": "1.5.0",
            "value": " 213k/213k [00:00&lt;00:00, 282kB/s]",
            "_view_count": null,
            "_view_module_version": "1.5.0",
            "description_tooltip": null,
            "_model_module": "@jupyter-widgets/controls",
            "layout": "IPY_MODEL_b3f5573764b4417bb61f38043e18c4fc"
          }
        },
        "7e86ebff182b41e7a907e3241cc78bbb": {
          "model_module": "@jupyter-widgets/controls",
          "model_name": "ProgressStyleModel",
          "state": {
            "_view_name": "StyleView",
            "_model_name": "ProgressStyleModel",
            "description_width": "initial",
            "_view_module": "@jupyter-widgets/base",
            "_model_module_version": "1.5.0",
            "_view_count": null,
            "_view_module_version": "1.2.0",
            "bar_color": null,
            "_model_module": "@jupyter-widgets/controls"
          }
        },
        "89a2abac743843379cf3f59dc08f7bb9": {
          "model_module": "@jupyter-widgets/base",
          "model_name": "LayoutModel",
          "state": {
            "_view_name": "LayoutView",
            "grid_template_rows": null,
            "right": null,
            "justify_content": null,
            "_view_module": "@jupyter-widgets/base",
            "overflow": null,
            "_model_module_version": "1.2.0",
            "_view_count": null,
            "flex_flow": null,
            "width": null,
            "min_width": null,
            "border": null,
            "align_items": null,
            "bottom": null,
            "_model_module": "@jupyter-widgets/base",
            "top": null,
            "grid_column": null,
            "overflow_y": null,
            "overflow_x": null,
            "grid_auto_flow": null,
            "grid_area": null,
            "grid_template_columns": null,
            "flex": null,
            "_model_name": "LayoutModel",
            "justify_items": null,
            "grid_row": null,
            "max_height": null,
            "align_content": null,
            "visibility": null,
            "align_self": null,
            "height": null,
            "min_height": null,
            "padding": null,
            "grid_auto_rows": null,
            "grid_gap": null,
            "max_width": null,
            "order": null,
            "_view_module_version": "1.2.0",
            "grid_template_areas": null,
            "object_position": null,
            "object_fit": null,
            "grid_auto_columns": null,
            "margin": null,
            "display": null,
            "left": null
          }
        },
        "07c291c4365c42f6b086031154316cec": {
          "model_module": "@jupyter-widgets/controls",
          "model_name": "DescriptionStyleModel",
          "state": {
            "_view_name": "StyleView",
            "_model_name": "DescriptionStyleModel",
            "description_width": "",
            "_view_module": "@jupyter-widgets/base",
            "_model_module_version": "1.5.0",
            "_view_count": null,
            "_view_module_version": "1.2.0",
            "_model_module": "@jupyter-widgets/controls"
          }
        },
        "b3f5573764b4417bb61f38043e18c4fc": {
          "model_module": "@jupyter-widgets/base",
          "model_name": "LayoutModel",
          "state": {
            "_view_name": "LayoutView",
            "grid_template_rows": null,
            "right": null,
            "justify_content": null,
            "_view_module": "@jupyter-widgets/base",
            "overflow": null,
            "_model_module_version": "1.2.0",
            "_view_count": null,
            "flex_flow": null,
            "width": null,
            "min_width": null,
            "border": null,
            "align_items": null,
            "bottom": null,
            "_model_module": "@jupyter-widgets/base",
            "top": null,
            "grid_column": null,
            "overflow_y": null,
            "overflow_x": null,
            "grid_auto_flow": null,
            "grid_area": null,
            "grid_template_columns": null,
            "flex": null,
            "_model_name": "LayoutModel",
            "justify_items": null,
            "grid_row": null,
            "max_height": null,
            "align_content": null,
            "visibility": null,
            "align_self": null,
            "height": null,
            "min_height": null,
            "padding": null,
            "grid_auto_rows": null,
            "grid_gap": null,
            "max_width": null,
            "order": null,
            "_view_module_version": "1.2.0",
            "grid_template_areas": null,
            "object_position": null,
            "object_fit": null,
            "grid_auto_columns": null,
            "margin": null,
            "display": null,
            "left": null
          }
        },
        "7eedd94da3ae494d8359166abf650d7d": {
          "model_module": "@jupyter-widgets/controls",
          "model_name": "HBoxModel",
          "state": {
            "_view_name": "HBoxView",
            "_dom_classes": [],
            "_model_name": "HBoxModel",
            "_view_module": "@jupyter-widgets/controls",
            "_model_module_version": "1.5.0",
            "_view_count": null,
            "_view_module_version": "1.5.0",
            "box_style": "",
            "layout": "IPY_MODEL_351ab0cdd2684cedbb109d4623fea061",
            "_model_module": "@jupyter-widgets/controls",
            "children": [
              "IPY_MODEL_67adcc747b6344c88b0971972d722f02",
              "IPY_MODEL_1bfb1d1e2fd648c393281473013dd572"
            ]
          }
        },
        "351ab0cdd2684cedbb109d4623fea061": {
          "model_module": "@jupyter-widgets/base",
          "model_name": "LayoutModel",
          "state": {
            "_view_name": "LayoutView",
            "grid_template_rows": null,
            "right": null,
            "justify_content": null,
            "_view_module": "@jupyter-widgets/base",
            "overflow": null,
            "_model_module_version": "1.2.0",
            "_view_count": null,
            "flex_flow": null,
            "width": null,
            "min_width": null,
            "border": null,
            "align_items": null,
            "bottom": null,
            "_model_module": "@jupyter-widgets/base",
            "top": null,
            "grid_column": null,
            "overflow_y": null,
            "overflow_x": null,
            "grid_auto_flow": null,
            "grid_area": null,
            "grid_template_columns": null,
            "flex": null,
            "_model_name": "LayoutModel",
            "justify_items": null,
            "grid_row": null,
            "max_height": null,
            "align_content": null,
            "visibility": null,
            "align_self": null,
            "height": null,
            "min_height": null,
            "padding": null,
            "grid_auto_rows": null,
            "grid_gap": null,
            "max_width": null,
            "order": null,
            "_view_module_version": "1.2.0",
            "grid_template_areas": null,
            "object_position": null,
            "object_fit": null,
            "grid_auto_columns": null,
            "margin": null,
            "display": null,
            "left": null
          }
        },
        "67adcc747b6344c88b0971972d722f02": {
          "model_module": "@jupyter-widgets/controls",
          "model_name": "IntProgressModel",
          "state": {
            "_view_name": "ProgressView",
            "style": "IPY_MODEL_bc812f7f60b04b64af3cbe1a19ad3516",
            "_dom_classes": [],
            "description": "Downloading: 100%",
            "_model_name": "IntProgressModel",
            "bar_style": "success",
            "max": 433,
            "_view_module": "@jupyter-widgets/controls",
            "_model_module_version": "1.5.0",
            "value": 433,
            "_view_count": null,
            "_view_module_version": "1.5.0",
            "orientation": "horizontal",
            "min": 0,
            "description_tooltip": null,
            "_model_module": "@jupyter-widgets/controls",
            "layout": "IPY_MODEL_a8da73de6daa47fc98d72910609874e9"
          }
        },
        "1bfb1d1e2fd648c393281473013dd572": {
          "model_module": "@jupyter-widgets/controls",
          "model_name": "HTMLModel",
          "state": {
            "_view_name": "HTMLView",
            "style": "IPY_MODEL_0f1de4db3fe64853bd9f4c415289a9ef",
            "_dom_classes": [],
            "description": "",
            "_model_name": "HTMLModel",
            "placeholder": "​",
            "_view_module": "@jupyter-widgets/controls",
            "_model_module_version": "1.5.0",
            "value": " 433/433 [00:38&lt;00:00, 11.3B/s]",
            "_view_count": null,
            "_view_module_version": "1.5.0",
            "description_tooltip": null,
            "_model_module": "@jupyter-widgets/controls",
            "layout": "IPY_MODEL_815b5e3772b14f09ac3b8170a2d15598"
          }
        },
        "bc812f7f60b04b64af3cbe1a19ad3516": {
          "model_module": "@jupyter-widgets/controls",
          "model_name": "ProgressStyleModel",
          "state": {
            "_view_name": "StyleView",
            "_model_name": "ProgressStyleModel",
            "description_width": "initial",
            "_view_module": "@jupyter-widgets/base",
            "_model_module_version": "1.5.0",
            "_view_count": null,
            "_view_module_version": "1.2.0",
            "bar_color": null,
            "_model_module": "@jupyter-widgets/controls"
          }
        },
        "a8da73de6daa47fc98d72910609874e9": {
          "model_module": "@jupyter-widgets/base",
          "model_name": "LayoutModel",
          "state": {
            "_view_name": "LayoutView",
            "grid_template_rows": null,
            "right": null,
            "justify_content": null,
            "_view_module": "@jupyter-widgets/base",
            "overflow": null,
            "_model_module_version": "1.2.0",
            "_view_count": null,
            "flex_flow": null,
            "width": null,
            "min_width": null,
            "border": null,
            "align_items": null,
            "bottom": null,
            "_model_module": "@jupyter-widgets/base",
            "top": null,
            "grid_column": null,
            "overflow_y": null,
            "overflow_x": null,
            "grid_auto_flow": null,
            "grid_area": null,
            "grid_template_columns": null,
            "flex": null,
            "_model_name": "LayoutModel",
            "justify_items": null,
            "grid_row": null,
            "max_height": null,
            "align_content": null,
            "visibility": null,
            "align_self": null,
            "height": null,
            "min_height": null,
            "padding": null,
            "grid_auto_rows": null,
            "grid_gap": null,
            "max_width": null,
            "order": null,
            "_view_module_version": "1.2.0",
            "grid_template_areas": null,
            "object_position": null,
            "object_fit": null,
            "grid_auto_columns": null,
            "margin": null,
            "display": null,
            "left": null
          }
        },
        "0f1de4db3fe64853bd9f4c415289a9ef": {
          "model_module": "@jupyter-widgets/controls",
          "model_name": "DescriptionStyleModel",
          "state": {
            "_view_name": "StyleView",
            "_model_name": "DescriptionStyleModel",
            "description_width": "",
            "_view_module": "@jupyter-widgets/base",
            "_model_module_version": "1.5.0",
            "_view_count": null,
            "_view_module_version": "1.2.0",
            "_model_module": "@jupyter-widgets/controls"
          }
        },
        "815b5e3772b14f09ac3b8170a2d15598": {
          "model_module": "@jupyter-widgets/base",
          "model_name": "LayoutModel",
          "state": {
            "_view_name": "LayoutView",
            "grid_template_rows": null,
            "right": null,
            "justify_content": null,
            "_view_module": "@jupyter-widgets/base",
            "overflow": null,
            "_model_module_version": "1.2.0",
            "_view_count": null,
            "flex_flow": null,
            "width": null,
            "min_width": null,
            "border": null,
            "align_items": null,
            "bottom": null,
            "_model_module": "@jupyter-widgets/base",
            "top": null,
            "grid_column": null,
            "overflow_y": null,
            "overflow_x": null,
            "grid_auto_flow": null,
            "grid_area": null,
            "grid_template_columns": null,
            "flex": null,
            "_model_name": "LayoutModel",
            "justify_items": null,
            "grid_row": null,
            "max_height": null,
            "align_content": null,
            "visibility": null,
            "align_self": null,
            "height": null,
            "min_height": null,
            "padding": null,
            "grid_auto_rows": null,
            "grid_gap": null,
            "max_width": null,
            "order": null,
            "_view_module_version": "1.2.0",
            "grid_template_areas": null,
            "object_position": null,
            "object_fit": null,
            "grid_auto_columns": null,
            "margin": null,
            "display": null,
            "left": null
          }
        },
        "4898380de6b441b59e42a8ec7f5c4af1": {
          "model_module": "@jupyter-widgets/controls",
          "model_name": "HBoxModel",
          "state": {
            "_view_name": "HBoxView",
            "_dom_classes": [],
            "_model_name": "HBoxModel",
            "_view_module": "@jupyter-widgets/controls",
            "_model_module_version": "1.5.0",
            "_view_count": null,
            "_view_module_version": "1.5.0",
            "box_style": "",
            "layout": "IPY_MODEL_1f7115355d4b486aa42eb37a0ee48115",
            "_model_module": "@jupyter-widgets/controls",
            "children": [
              "IPY_MODEL_71c81431b410435e9a3b13c48ef3eae3",
              "IPY_MODEL_f2ebf2fac40f49a788bfbb502b608326"
            ]
          }
        },
        "1f7115355d4b486aa42eb37a0ee48115": {
          "model_module": "@jupyter-widgets/base",
          "model_name": "LayoutModel",
          "state": {
            "_view_name": "LayoutView",
            "grid_template_rows": null,
            "right": null,
            "justify_content": null,
            "_view_module": "@jupyter-widgets/base",
            "overflow": null,
            "_model_module_version": "1.2.0",
            "_view_count": null,
            "flex_flow": null,
            "width": null,
            "min_width": null,
            "border": null,
            "align_items": null,
            "bottom": null,
            "_model_module": "@jupyter-widgets/base",
            "top": null,
            "grid_column": null,
            "overflow_y": null,
            "overflow_x": null,
            "grid_auto_flow": null,
            "grid_area": null,
            "grid_template_columns": null,
            "flex": null,
            "_model_name": "LayoutModel",
            "justify_items": null,
            "grid_row": null,
            "max_height": null,
            "align_content": null,
            "visibility": null,
            "align_self": null,
            "height": null,
            "min_height": null,
            "padding": null,
            "grid_auto_rows": null,
            "grid_gap": null,
            "max_width": null,
            "order": null,
            "_view_module_version": "1.2.0",
            "grid_template_areas": null,
            "object_position": null,
            "object_fit": null,
            "grid_auto_columns": null,
            "margin": null,
            "display": null,
            "left": null
          }
        },
        "71c81431b410435e9a3b13c48ef3eae3": {
          "model_module": "@jupyter-widgets/controls",
          "model_name": "IntProgressModel",
          "state": {
            "_view_name": "ProgressView",
            "style": "IPY_MODEL_dd46dcd2175d418d9371ac07b0b54c5a",
            "_dom_classes": [],
            "description": "Downloading: 100%",
            "_model_name": "IntProgressModel",
            "bar_style": "success",
            "max": 435779157,
            "_view_module": "@jupyter-widgets/controls",
            "_model_module_version": "1.5.0",
            "value": 435779157,
            "_view_count": null,
            "_view_module_version": "1.5.0",
            "orientation": "horizontal",
            "min": 0,
            "description_tooltip": null,
            "_model_module": "@jupyter-widgets/controls",
            "layout": "IPY_MODEL_02001c77b83e4a4995e7d6dfa1e85da9"
          }
        },
        "f2ebf2fac40f49a788bfbb502b608326": {
          "model_module": "@jupyter-widgets/controls",
          "model_name": "HTMLModel",
          "state": {
            "_view_name": "HTMLView",
            "style": "IPY_MODEL_9181af612d8349a2900212456e484f4c",
            "_dom_classes": [],
            "description": "",
            "_model_name": "HTMLModel",
            "placeholder": "​",
            "_view_module": "@jupyter-widgets/controls",
            "_model_module_version": "1.5.0",
            "value": " 436M/436M [00:36&lt;00:00, 11.9MB/s]",
            "_view_count": null,
            "_view_module_version": "1.5.0",
            "description_tooltip": null,
            "_model_module": "@jupyter-widgets/controls",
            "layout": "IPY_MODEL_b5e40a7cf8864e49a5b805ba35e7df07"
          }
        },
        "dd46dcd2175d418d9371ac07b0b54c5a": {
          "model_module": "@jupyter-widgets/controls",
          "model_name": "ProgressStyleModel",
          "state": {
            "_view_name": "StyleView",
            "_model_name": "ProgressStyleModel",
            "description_width": "initial",
            "_view_module": "@jupyter-widgets/base",
            "_model_module_version": "1.5.0",
            "_view_count": null,
            "_view_module_version": "1.2.0",
            "bar_color": null,
            "_model_module": "@jupyter-widgets/controls"
          }
        },
        "02001c77b83e4a4995e7d6dfa1e85da9": {
          "model_module": "@jupyter-widgets/base",
          "model_name": "LayoutModel",
          "state": {
            "_view_name": "LayoutView",
            "grid_template_rows": null,
            "right": null,
            "justify_content": null,
            "_view_module": "@jupyter-widgets/base",
            "overflow": null,
            "_model_module_version": "1.2.0",
            "_view_count": null,
            "flex_flow": null,
            "width": null,
            "min_width": null,
            "border": null,
            "align_items": null,
            "bottom": null,
            "_model_module": "@jupyter-widgets/base",
            "top": null,
            "grid_column": null,
            "overflow_y": null,
            "overflow_x": null,
            "grid_auto_flow": null,
            "grid_area": null,
            "grid_template_columns": null,
            "flex": null,
            "_model_name": "LayoutModel",
            "justify_items": null,
            "grid_row": null,
            "max_height": null,
            "align_content": null,
            "visibility": null,
            "align_self": null,
            "height": null,
            "min_height": null,
            "padding": null,
            "grid_auto_rows": null,
            "grid_gap": null,
            "max_width": null,
            "order": null,
            "_view_module_version": "1.2.0",
            "grid_template_areas": null,
            "object_position": null,
            "object_fit": null,
            "grid_auto_columns": null,
            "margin": null,
            "display": null,
            "left": null
          }
        },
        "9181af612d8349a2900212456e484f4c": {
          "model_module": "@jupyter-widgets/controls",
          "model_name": "DescriptionStyleModel",
          "state": {
            "_view_name": "StyleView",
            "_model_name": "DescriptionStyleModel",
            "description_width": "",
            "_view_module": "@jupyter-widgets/base",
            "_model_module_version": "1.5.0",
            "_view_count": null,
            "_view_module_version": "1.2.0",
            "_model_module": "@jupyter-widgets/controls"
          }
        },
        "b5e40a7cf8864e49a5b805ba35e7df07": {
          "model_module": "@jupyter-widgets/base",
          "model_name": "LayoutModel",
          "state": {
            "_view_name": "LayoutView",
            "grid_template_rows": null,
            "right": null,
            "justify_content": null,
            "_view_module": "@jupyter-widgets/base",
            "overflow": null,
            "_model_module_version": "1.2.0",
            "_view_count": null,
            "flex_flow": null,
            "width": null,
            "min_width": null,
            "border": null,
            "align_items": null,
            "bottom": null,
            "_model_module": "@jupyter-widgets/base",
            "top": null,
            "grid_column": null,
            "overflow_y": null,
            "overflow_x": null,
            "grid_auto_flow": null,
            "grid_area": null,
            "grid_template_columns": null,
            "flex": null,
            "_model_name": "LayoutModel",
            "justify_items": null,
            "grid_row": null,
            "max_height": null,
            "align_content": null,
            "visibility": null,
            "align_self": null,
            "height": null,
            "min_height": null,
            "padding": null,
            "grid_auto_rows": null,
            "grid_gap": null,
            "max_width": null,
            "order": null,
            "_view_module_version": "1.2.0",
            "grid_template_areas": null,
            "object_position": null,
            "object_fit": null,
            "grid_auto_columns": null,
            "margin": null,
            "display": null,
            "left": null
          }
        }
      }
    }
  },
  "cells": [
    {
      "cell_type": "markdown",
      "metadata": {
        "id": "view-in-github",
        "colab_type": "text"
      },
      "source": [
        "<a href=\"https://colab.research.google.com/github/Onamihoang/NLP-IELTS/blob/master/Try_FitBert.ipynb\" target=\"_parent\"><img src=\"https://colab.research.google.com/assets/colab-badge.svg\" alt=\"Open In Colab\"/></a>"
      ]
    },
    {
      "cell_type": "markdown",
      "metadata": {
        "id": "5kmGJXc_8CCw",
        "colab_type": "text"
      },
      "source": [
        "# FitBert\n",
        "\n",
        "[FitBert](https://github.com/Qordobacode/fitbert) ((F)ill (i)n (t)he blanks, (BERT)) is a library for using BERT to fill in the blank(s) in a section of text from a list of options.\n",
        "\n",
        "It's easy to use, just install with pip:"
      ]
    },
    {
      "cell_type": "code",
      "metadata": {
        "id": "iX-j2onbkEyr",
        "colab_type": "code",
        "colab": {
          "base_uri": "https://localhost:8080/",
          "height": 34
        },
        "outputId": "0b2a037d-eeb7-411c-d05c-8aab9c4353b7"
      },
      "source": [
        "%tensorflow_version 1.x"
      ],
      "execution_count": 1,
      "outputs": [
        {
          "output_type": "stream",
          "text": [
            "TensorFlow 1.x selected.\n"
          ],
          "name": "stdout"
        }
      ]
    },
    {
      "cell_type": "code",
      "metadata": {
        "id": "ytMNc45x7_Hf",
        "colab_type": "code",
        "outputId": "89b6443e-1c6b-499f-d54a-8d7ab778bb0b",
        "colab": {
          "base_uri": "https://localhost:8080/",
          "height": 1000
        }
      },
      "source": [
        "!pip install fitbert"
      ],
      "execution_count": 2,
      "outputs": [
        {
          "output_type": "stream",
          "text": [
            "Collecting fitbert\n",
            "\u001b[?25l  Downloading https://files.pythonhosted.org/packages/e3/07/7ac2579504308a7fb9cfe3ec9b6d92249ab2684658121b742cf76011e37c/fitbert-0.7.0.tar.gz (216kB)\n",
            "\r\u001b[K     |█▌                              | 10kB 7.7MB/s eta 0:00:01\r\u001b[K     |███                             | 20kB 1.7MB/s eta 0:00:01\r\u001b[K     |████▌                           | 30kB 2.2MB/s eta 0:00:01\r\u001b[K     |██████                          | 40kB 2.5MB/s eta 0:00:01\r\u001b[K     |███████▋                        | 51kB 2.0MB/s eta 0:00:01\r\u001b[K     |█████████                       | 61kB 2.3MB/s eta 0:00:01\r\u001b[K     |██████████▋                     | 71kB 2.5MB/s eta 0:00:01\r\u001b[K     |████████████▏                   | 81kB 2.8MB/s eta 0:00:01\r\u001b[K     |█████████████▋                  | 92kB 2.9MB/s eta 0:00:01\r\u001b[K     |███████████████▏                | 102kB 2.8MB/s eta 0:00:01\r\u001b[K     |████████████████▋               | 112kB 2.8MB/s eta 0:00:01\r\u001b[K     |██████████████████▏             | 122kB 2.8MB/s eta 0:00:01\r\u001b[K     |███████████████████▊            | 133kB 2.8MB/s eta 0:00:01\r\u001b[K     |█████████████████████▏          | 143kB 2.8MB/s eta 0:00:01\r\u001b[K     |██████████████████████▊         | 153kB 2.8MB/s eta 0:00:01\r\u001b[K     |████████████████████████▎       | 163kB 2.8MB/s eta 0:00:01\r\u001b[K     |█████████████████████████▊      | 174kB 2.8MB/s eta 0:00:01\r\u001b[K     |███████████████████████████▎    | 184kB 2.8MB/s eta 0:00:01\r\u001b[K     |████████████████████████████▉   | 194kB 2.8MB/s eta 0:00:01\r\u001b[K     |██████████████████████████████▎ | 204kB 2.8MB/s eta 0:00:01\r\u001b[K     |███████████████████████████████▉| 215kB 2.8MB/s eta 0:00:01\r\u001b[K     |████████████████████████████████| 225kB 2.8MB/s \n",
            "\u001b[?25hRequirement already satisfied: torch>=1.1.0 in /usr/local/lib/python3.6/dist-packages (from fitbert) (1.5.0+cu101)\n",
            "Collecting transformers>=2.1.1\n",
            "\u001b[?25l  Downloading https://files.pythonhosted.org/packages/a3/78/92cedda05552398352ed9784908b834ee32a0bd071a9b32de287327370b7/transformers-2.8.0-py3-none-any.whl (563kB)\n",
            "\u001b[K     |████████████████████████████████| 573kB 8.8MB/s \n",
            "\u001b[?25hCollecting PyFunctional==1.2.0\n",
            "\u001b[?25l  Downloading https://files.pythonhosted.org/packages/96/80/8edc965035d787105a7c85f4f9c490aea000e004062205699c3b39feb7dc/PyFunctional-1.2.0-py3-none-any.whl (44kB)\n",
            "\u001b[K     |████████████████████████████████| 51kB 6.9MB/s \n",
            "\u001b[?25hRequirement already satisfied: numpy in /usr/local/lib/python3.6/dist-packages (from torch>=1.1.0->fitbert) (1.18.3)\n",
            "Requirement already satisfied: future in /usr/local/lib/python3.6/dist-packages (from torch>=1.1.0->fitbert) (0.16.0)\n",
            "Requirement already satisfied: tqdm>=4.27 in /usr/local/lib/python3.6/dist-packages (from transformers>=2.1.1->fitbert) (4.38.0)\n",
            "Collecting sacremoses\n",
            "\u001b[?25l  Downloading https://files.pythonhosted.org/packages/7d/34/09d19aff26edcc8eb2a01bed8e98f13a1537005d31e95233fd48216eed10/sacremoses-0.0.43.tar.gz (883kB)\n",
            "\u001b[K     |████████████████████████████████| 890kB 14.1MB/s \n",
            "\u001b[?25hRequirement already satisfied: boto3 in /usr/local/lib/python3.6/dist-packages (from transformers>=2.1.1->fitbert) (1.12.47)\n",
            "Collecting tokenizers==0.5.2\n",
            "\u001b[?25l  Downloading https://files.pythonhosted.org/packages/d1/3f/73c881ea4723e43c1e9acf317cf407fab3a278daab3a69c98dcac511c04f/tokenizers-0.5.2-cp36-cp36m-manylinux1_x86_64.whl (3.7MB)\n",
            "\u001b[K     |████████████████████████████████| 3.7MB 17.3MB/s \n",
            "\u001b[?25hRequirement already satisfied: filelock in /usr/local/lib/python3.6/dist-packages (from transformers>=2.1.1->fitbert) (3.0.12)\n",
            "Collecting sentencepiece\n",
            "\u001b[?25l  Downloading https://files.pythonhosted.org/packages/98/2c/8df20f3ac6c22ac224fff307ebc102818206c53fc454ecd37d8ac2060df5/sentencepiece-0.1.86-cp36-cp36m-manylinux1_x86_64.whl (1.0MB)\n",
            "\u001b[K     |████████████████████████████████| 1.0MB 37.2MB/s \n",
            "\u001b[?25hRequirement already satisfied: dataclasses; python_version < \"3.7\" in /usr/local/lib/python3.6/dist-packages (from transformers>=2.1.1->fitbert) (0.7)\n",
            "Requirement already satisfied: regex!=2019.12.17 in /usr/local/lib/python3.6/dist-packages (from transformers>=2.1.1->fitbert) (2019.12.20)\n",
            "Requirement already satisfied: requests in /usr/local/lib/python3.6/dist-packages (from transformers>=2.1.1->fitbert) (2.23.0)\n",
            "Requirement already satisfied: tabulate<=1.0.0 in /usr/local/lib/python3.6/dist-packages (from PyFunctional==1.2.0->fitbert) (0.8.7)\n",
            "Collecting dill==0.2.5\n",
            "\u001b[?25l  Downloading https://files.pythonhosted.org/packages/47/59/a72f5c3b17647031d426cd3df6874c7e2a8821b007ef4241ee4a59594cb3/dill-0.2.5.tgz (60kB)\n",
            "\u001b[K     |████████████████████████████████| 61kB 8.0MB/s \n",
            "\u001b[?25hRequirement already satisfied: six<=2.0.0 in /usr/local/lib/python3.6/dist-packages (from PyFunctional==1.2.0->fitbert) (1.12.0)\n",
            "Requirement already satisfied: click in /usr/local/lib/python3.6/dist-packages (from sacremoses->transformers>=2.1.1->fitbert) (7.1.2)\n",
            "Requirement already satisfied: joblib in /usr/local/lib/python3.6/dist-packages (from sacremoses->transformers>=2.1.1->fitbert) (0.14.1)\n",
            "Requirement already satisfied: jmespath<1.0.0,>=0.7.1 in /usr/local/lib/python3.6/dist-packages (from boto3->transformers>=2.1.1->fitbert) (0.9.5)\n",
            "Requirement already satisfied: s3transfer<0.4.0,>=0.3.0 in /usr/local/lib/python3.6/dist-packages (from boto3->transformers>=2.1.1->fitbert) (0.3.3)\n",
            "Requirement already satisfied: botocore<1.16.0,>=1.15.47 in /usr/local/lib/python3.6/dist-packages (from boto3->transformers>=2.1.1->fitbert) (1.15.47)\n",
            "Requirement already satisfied: idna<3,>=2.5 in /usr/local/lib/python3.6/dist-packages (from requests->transformers>=2.1.1->fitbert) (2.9)\n",
            "Requirement already satisfied: certifi>=2017.4.17 in /usr/local/lib/python3.6/dist-packages (from requests->transformers>=2.1.1->fitbert) (2020.4.5.1)\n",
            "Requirement already satisfied: urllib3!=1.25.0,!=1.25.1,<1.26,>=1.21.1 in /usr/local/lib/python3.6/dist-packages (from requests->transformers>=2.1.1->fitbert) (1.24.3)\n",
            "Requirement already satisfied: chardet<4,>=3.0.2 in /usr/local/lib/python3.6/dist-packages (from requests->transformers>=2.1.1->fitbert) (3.0.4)\n",
            "Requirement already satisfied: python-dateutil<3.0.0,>=2.1 in /usr/local/lib/python3.6/dist-packages (from botocore<1.16.0,>=1.15.47->boto3->transformers>=2.1.1->fitbert) (2.8.1)\n",
            "Requirement already satisfied: docutils<0.16,>=0.10 in /usr/local/lib/python3.6/dist-packages (from botocore<1.16.0,>=1.15.47->boto3->transformers>=2.1.1->fitbert) (0.15.2)\n",
            "Building wheels for collected packages: fitbert, sacremoses, dill\n",
            "  Building wheel for fitbert (setup.py) ... \u001b[?25l\u001b[?25hdone\n",
            "  Created wheel for fitbert: filename=fitbert-0.7.0-cp36-none-any.whl size=214149 sha256=b4904100e2f8d194261d713d05e3e5a4ea586db7ed2297752a2ac937ec05a777\n",
            "  Stored in directory: /root/.cache/pip/wheels/49/5e/fa/3c4789d2a679de4119357f14d28843a1262c3d5d1cf96807d7\n",
            "  Building wheel for sacremoses (setup.py) ... \u001b[?25l\u001b[?25hdone\n",
            "  Created wheel for sacremoses: filename=sacremoses-0.0.43-cp36-none-any.whl size=893260 sha256=e21a3247ae076f713d2f7cac54b9b150741ed2365a3e3045805c79ea64f4d36b\n",
            "  Stored in directory: /root/.cache/pip/wheels/29/3c/fd/7ce5c3f0666dab31a50123635e6fb5e19ceb42ce38d4e58f45\n",
            "  Building wheel for dill (setup.py) ... \u001b[?25l\u001b[?25hdone\n",
            "  Created wheel for dill: filename=dill-0.2.5-cp36-none-any.whl size=52421 sha256=37d0bee50f494b27bcfc1fb912767fe44e443a832f4abeb96ca927a5d01020ae\n",
            "  Stored in directory: /root/.cache/pip/wheels/d0/f9/bb/01e2c9bc71ab75df06848f7eb23aa58b0e24713332aee81aa2\n",
            "Successfully built fitbert sacremoses dill\n",
            "\u001b[31mERROR: multiprocess 0.70.9 has requirement dill>=0.3.1, but you'll have dill 0.2.5 which is incompatible.\u001b[0m\n",
            "Installing collected packages: sacremoses, tokenizers, sentencepiece, transformers, dill, PyFunctional, fitbert\n",
            "  Found existing installation: dill 0.3.1.1\n",
            "    Uninstalling dill-0.3.1.1:\n",
            "      Successfully uninstalled dill-0.3.1.1\n",
            "Successfully installed PyFunctional-1.2.0 dill-0.2.5 fitbert-0.7.0 sacremoses-0.0.43 sentencepiece-0.1.86 tokenizers-0.5.2 transformers-2.8.0\n"
          ],
          "name": "stdout"
        }
      ]
    },
    {
      "cell_type": "markdown",
      "metadata": {
        "id": "pBXqjMehH5EG",
        "colab_type": "text"
      },
      "source": [
        "Then import and use it (note - this requires downloading and loading into memory a pretrained BERT model and takes a minute or two):"
      ]
    },
    {
      "cell_type": "code",
      "metadata": {
        "id": "z1lwWl12H0ko",
        "colab_type": "code",
        "outputId": "8e1969b4-558d-4f6b-fcb3-1a7ec48e5b5a",
        "colab": {
          "base_uri": "https://localhost:8080/",
          "height": 215,
          "referenced_widgets": [
            "1546748d6b764e6c947edd4812430809",
            "1d61f20d0a8146878771765d75401e73",
            "9d94151793d14efb9945db0dd626d366",
            "966180fc253d463ab07c59a0b1d67277",
            "0be677fc43de45c388b772b731f4cdfb",
            "96dc8e2621e54d67b097c675914438c9",
            "b54dcc1ace2848cdae6f13e9dd0fa2c1",
            "b450298150c246c1bb8d2cfadd2333c0",
            "cf13221f058b4893be81bbf61541e754",
            "d566baf6e3b54599a3d42566e44ec76d",
            "6c295f83d1a74b1088a8047ae3a7b1eb",
            "ea02983914744f64bd58b5dbdae3c2bc",
            "4d4527c7b67341199cbb26d769440c3f",
            "a7ab3045c9c345e19775f0b31a92b092",
            "5b37df02fc0e4cfa8bb305cb902f7275",
            "495a8fa9c68547e198172d76374a65ed",
            "23211458728d4b6b98b78f748831413f",
            "971d83a983cc4d0ea144c1b2c248124b",
            "4d86261891ec492f9267762365d5e123",
            "769b6e6a5f96474aa764db19853c440d",
            "7605575f4a0944d386ac5eea85cb5e17",
            "c1d56fcefaf440d29adeea605198d213",
            "9efa8cf73e5f43cf9c22f2b8b72edbad",
            "259fb9ee65ba40a6b5e4e4dffe6060d9"
          ]
        }
      },
      "source": [
        "from fitbert import FitBert\n",
        "\n",
        "\n",
        "# in theory you can pass a model_name and tokenizer, but currently only\n",
        "# bert-large-uncased and BertTokenizer are available\n",
        "# this takes a while and loads a whole big BERT into memory\n",
        "fb = FitBert()\n",
        "\n",
        "masked_string = \"Why Bert, you're looking ***mask*** today!\"\n",
        "options = ['buff', 'handsome', 'strong']\n",
        "\n",
        "ranked_options = fb.rank(masked_string, options=options)\n",
        "ranked_options"
      ],
      "execution_count": 3,
      "outputs": [
        {
          "output_type": "stream",
          "text": [
            "using model: bert-large-uncased\n",
            "device: cuda\n"
          ],
          "name": "stdout"
        },
        {
          "output_type": "display_data",
          "data": {
            "application/vnd.jupyter.widget-view+json": {
              "model_id": "1546748d6b764e6c947edd4812430809",
              "version_minor": 0,
              "version_major": 2
            },
            "text/plain": [
              "HBox(children=(IntProgress(value=0, description='Downloading', max=434, style=ProgressStyle(description_width=…"
            ]
          },
          "metadata": {
            "tags": []
          }
        },
        {
          "output_type": "stream",
          "text": [
            "\n"
          ],
          "name": "stdout"
        },
        {
          "output_type": "display_data",
          "data": {
            "application/vnd.jupyter.widget-view+json": {
              "model_id": "cf13221f058b4893be81bbf61541e754",
              "version_minor": 0,
              "version_major": 2
            },
            "text/plain": [
              "HBox(children=(IntProgress(value=0, description='Downloading', max=1344997306, style=ProgressStyle(description…"
            ]
          },
          "metadata": {
            "tags": []
          }
        },
        {
          "output_type": "stream",
          "text": [
            "\n"
          ],
          "name": "stdout"
        },
        {
          "output_type": "display_data",
          "data": {
            "application/vnd.jupyter.widget-view+json": {
              "model_id": "23211458728d4b6b98b78f748831413f",
              "version_minor": 0,
              "version_major": 2
            },
            "text/plain": [
              "HBox(children=(IntProgress(value=0, description='Downloading', max=231508, style=ProgressStyle(description_wid…"
            ]
          },
          "metadata": {
            "tags": []
          }
        },
        {
          "output_type": "stream",
          "text": [
            "\n"
          ],
          "name": "stdout"
        },
        {
          "output_type": "execute_result",
          "data": {
            "text/plain": [
              "['handsome', 'strong', 'buff']"
            ]
          },
          "metadata": {
            "tags": []
          },
          "execution_count": 3
        }
      ]
    },
    {
      "cell_type": "code",
      "metadata": {
        "id": "90Tjs0_kIXPC",
        "colab_type": "code",
        "outputId": "a23632e9-335e-42ca-8d85-9b9d860bc117",
        "colab": {
          "base_uri": "https://localhost:8080/",
          "height": 34
        }
      },
      "source": [
        "filled_in = fb.fitb(masked_string, options=options)\n",
        "filled_in"
      ],
      "execution_count": 4,
      "outputs": [
        {
          "output_type": "execute_result",
          "data": {
            "text/plain": [
              "\"Why Bert, you're looking handsome today!\""
            ]
          },
          "metadata": {
            "tags": []
          },
          "execution_count": 4
        }
      ]
    },
    {
      "cell_type": "markdown",
      "metadata": {
        "id": "aXrkQhyvJPAP",
        "colab_type": "text"
      },
      "source": [
        "There's a convenience method for masking a span (and filling in the suggestion, or not):"
      ]
    },
    {
      "cell_type": "code",
      "metadata": {
        "id": "NqoFqNCTJFBH",
        "colab_type": "code",
        "outputId": "299ae1e8-9a97-451b-f927-a9ee8e4c188f",
        "colab": {
          "base_uri": "https://localhost:8080/",
          "height": 34
        }
      },
      "source": [
        "unmasked_string = \"Why Bert, you're looks handsome today!\"\n",
        "span_to_mask = (17, 22)\n",
        "\n",
        "filled_in = fb.mask_fitb(unmasked_string, span_to_mask)\n",
        "filled_in"
      ],
      "execution_count": 5,
      "outputs": [
        {
          "output_type": "execute_result",
          "data": {
            "text/plain": [
              "\"Why Bert, you're  looking  handsome today!\""
            ]
          },
          "metadata": {
            "tags": []
          },
          "execution_count": 5
        }
      ]
    },
    {
      "cell_type": "code",
      "metadata": {
        "id": "Zmy8vk-uJUTS",
        "colab_type": "code",
        "outputId": "99e1306c-e7c6-4edc-8879-544250867d5a",
        "colab": {
          "base_uri": "https://localhost:8080/",
          "height": 34
        }
      },
      "source": [
        "masked_string, masked = fb.mask(unmasked_string, span_to_mask)\n",
        "print(masked_string, masked)"
      ],
      "execution_count": 6,
      "outputs": [
        {
          "output_type": "stream",
          "text": [
            "Why Bert, you're  ***mask***  handsome today! looks\n"
          ],
          "name": "stdout"
        }
      ]
    },
    {
      "cell_type": "markdown",
      "metadata": {
        "id": "E2p_ssDQLzjP",
        "colab_type": "text"
      },
      "source": [
        "## From the \"Introducing FitBERT\" blog post"
      ]
    },
    {
      "cell_type": "markdown",
      "metadata": {
        "id": "mxQ_v2kLNlwA",
        "colab_type": "text"
      },
      "source": [
        "### SWE section"
      ]
    },
    {
      "cell_type": "code",
      "metadata": {
        "id": "2u6IFt8ckdA4",
        "colab_type": "code",
        "outputId": "3c203449-977e-4615-d2b1-ff83061ca9a3",
        "colab": {
          "base_uri": "https://localhost:8080/",
          "height": 34
        }
      },
      "source": [
        "masked_string = \"Your 6 ***mask*** sodas are on their way !\"\n",
        "options = ['hot', 'cold', 'sweet', 'delicious', 'artisanal']\n",
        "fb.fitb(masked_string, options=options)"
      ],
      "execution_count": 7,
      "outputs": [
        {
          "output_type": "execute_result",
          "data": {
            "text/plain": [
              "'Your 6 cold sodas are on their way !'"
            ]
          },
          "metadata": {
            "tags": []
          },
          "execution_count": 7
        }
      ]
    },
    {
      "cell_type": "code",
      "metadata": {
        "id": "mFBWmulHL6Jl",
        "colab_type": "code",
        "outputId": "341a99c5-a98c-483e-de23-77291f73eb6a",
        "colab": {
          "base_uri": "https://localhost:8080/",
          "height": 34
        }
      },
      "source": [
        "masked_string = \"Your 17 ***mask*** burritos are on their way !\"\n",
        "options = ['hot', 'cold', 'sweet', 'delicious', 'artisanal']\n",
        "fb.fitb(masked_string, options=options)"
      ],
      "execution_count": 8,
      "outputs": [
        {
          "output_type": "execute_result",
          "data": {
            "text/plain": [
              "'Your 17 delicious burritos are on their way !'"
            ]
          },
          "metadata": {
            "tags": []
          },
          "execution_count": 8
        }
      ]
    },
    {
      "cell_type": "markdown",
      "metadata": {
        "id": "aTjnksdnNpXh",
        "colab_type": "text"
      },
      "source": [
        "### Researcher section\n",
        "\n",
        "One use case for FitBERT is easily evaluating the syntactic capabilities of any model available through the [Transformers library](https://medium.com/r/?url=https%3A%2F%2Fgithub.com%2Fhuggingface%2Ftransformers), which includes BERT, RoBERTa, GPT2, and DistillBERT.\n",
        "\n",
        "This is very similar to Yoav GoldBerg's [Assessing BERT's Syntactic Abilities](https://arxiv.org/abs/1901.05287). AFAIK, this experiment hasn't been repeated with RoBERTa or DistillBERT, but would be interesting."
      ]
    },
    {
      "cell_type": "code",
      "metadata": {
        "id": "yjfAmIwGMwAe",
        "colab_type": "code",
        "outputId": "1733b63e-c838-4513-f638-0019a6c6cce4",
        "colab": {
          "base_uri": "https://localhost:8080/",
          "height": 34
        }
      },
      "source": [
        "# example from \"Targeted Syntactic Evaluation of Language Models\"\n",
        "# https://arxiv.org/abs/1808.09031\n",
        "\n",
        "masked_string = \"the author that the guard likes ***mask***\"\n",
        "options = ['laugh', 'laughs']\n",
        "fb.rank_with_prob(masked_string, options)"
      ],
      "execution_count": 9,
      "outputs": [
        {
          "output_type": "execute_result",
          "data": {
            "text/plain": [
              "(['laughs', 'laugh'], [4.141925951522962e-12, 3.37479962595269e-13])"
            ]
          },
          "metadata": {
            "tags": []
          },
          "execution_count": 9
        }
      ]
    },
    {
      "cell_type": "code",
      "metadata": {
        "id": "adNVTDKMOr84",
        "colab_type": "code",
        "outputId": "f9e2d66e-20d6-43f5-85b1-9f872d6c8482",
        "colab": {
          "base_uri": "https://localhost:8080/",
          "height": 34
        }
      },
      "source": [
        "# example from \"Assessing the Ability of LSTMs to Learn Syntax-Sensitive Dependencies\"\n",
        "# https://transacl.org/ojs/index.php/tacl/article/view/972\n",
        "\n",
        "masked_string = \"accusations of abusive sockpuppetry from a trusted source ***mask*** a serious chilling effect .\"\n",
        "options = [\"have\", \"has\"]\n",
        "fb.rank_with_prob(masked_string, options)"
      ],
      "execution_count": 10,
      "outputs": [
        {
          "output_type": "execute_result",
          "data": {
            "text/plain": [
              "(['have', 'has'], [0.889950156211853, 0.004103285726159811])"
            ]
          },
          "metadata": {
            "tags": []
          },
          "execution_count": 10
        }
      ]
    },
    {
      "cell_type": "markdown",
      "metadata": {
        "id": "kkqpv2FYKwwL",
        "colab_type": "text"
      },
      "source": [
        "### Using FitBERT with a spell corrector\n",
        "\n",
        "Example of refining the output of a [word-vector-based spell checker](https://blog.usejournal.com/a-simple-spell-checker-built-from-word-vectors-9f28452b6f26) with BERT. This would also work with something like Hunspell."
      ]
    },
    {
      "cell_type": "code",
      "metadata": {
        "id": "-sTtRg_SLXpE",
        "colab_type": "code",
        "outputId": "c377d458-4cd1-40f4-89ff-5d30065e1e9d",
        "colab": {
          "base_uri": "https://localhost:8080/",
          "height": 34
        }
      },
      "source": [
        "input = \"We predict the following issues will ocur.\"\n",
        "masked_string = \"We predict the following issues will ***mask*** .\"\n",
        "# mispelling vector subtraction gives the following options for \"ocur\"\n",
        "options = ['ocur', 'occur', 'arise', 'happen', 'reliably']\n",
        "fb.fitb(masked_string, options=options)"
      ],
      "execution_count": 11,
      "outputs": [
        {
          "output_type": "execute_result",
          "data": {
            "text/plain": [
              "'We predict the following issues will arise .'"
            ]
          },
          "metadata": {
            "tags": []
          },
          "execution_count": 11
        }
      ]
    },
    {
      "cell_type": "code",
      "metadata": {
        "id": "d9Bg5yaOi5Zi",
        "colab_type": "code",
        "outputId": "beb805ca-dcaa-4223-c571-d4447b2a4441",
        "colab": {
          "base_uri": "https://localhost:8080/",
          "height": 34
        }
      },
      "source": [
        "input = \"We predict the following issues will ocur.\"\n",
        "masked_string = \"We predict the following issues will ***mask*** .\"\n",
        "# mispelling vector subtraction gives the following options for \"ocur\", but filter through Levenshtein distance threshold:\n",
        "options = ['ocur', 'occur']\n",
        "fb.fitb(masked_string, options=options)"
      ],
      "execution_count": 12,
      "outputs": [
        {
          "output_type": "execute_result",
          "data": {
            "text/plain": [
              "'We predict the following issues will occur .'"
            ]
          },
          "metadata": {
            "tags": []
          },
          "execution_count": 12
        }
      ]
    },
    {
      "cell_type": "markdown",
      "metadata": {
        "id": "5Ek0DoVsHGLa",
        "colab_type": "text"
      },
      "source": [
        "### (Work in Progress) Using FiTBERT for truecasing\n",
        "\n",
        "An efficient implementation will require:\n",
        "\n",
        "1. Fixing the bug where probabilities returned by `fb.rank(with_prob=True)` aren't in the same order as the tokens returned\n",
        "2. Tensorizing the handling of multi-token masks"
      ]
    },
    {
      "cell_type": "code",
      "metadata": {
        "id": "UQkTzRVwLiFs",
        "colab_type": "code",
        "colab": {}
      },
      "source": [
        "from transformers import *"
      ],
      "execution_count": 0,
      "outputs": []
    },
    {
      "cell_type": "code",
      "metadata": {
        "id": "O-GAL3I98v6m",
        "colab_type": "code",
        "outputId": "7733d399-7cf6-4422-9f3e-afb06bb8a05b",
        "colab": {
          "base_uri": "https://localhost:8080/",
          "height": 198,
          "referenced_widgets": [
            "36594187140a4b39929934ee1fb697e8",
            "d04c8c085ff64cb5a0fb1135e77c5ae4",
            "9ee1e29dc9d14956a6fe59fe8e708cd9",
            "fd635cd8ddd74d2da6ca1f792f0ef9e2",
            "7e86ebff182b41e7a907e3241cc78bbb",
            "89a2abac743843379cf3f59dc08f7bb9",
            "07c291c4365c42f6b086031154316cec",
            "b3f5573764b4417bb61f38043e18c4fc",
            "7eedd94da3ae494d8359166abf650d7d",
            "351ab0cdd2684cedbb109d4623fea061",
            "67adcc747b6344c88b0971972d722f02",
            "1bfb1d1e2fd648c393281473013dd572",
            "bc812f7f60b04b64af3cbe1a19ad3516",
            "a8da73de6daa47fc98d72910609874e9",
            "0f1de4db3fe64853bd9f4c415289a9ef",
            "815b5e3772b14f09ac3b8170a2d15598",
            "4898380de6b441b59e42a8ec7f5c4af1",
            "1f7115355d4b486aa42eb37a0ee48115",
            "71c81431b410435e9a3b13c48ef3eae3",
            "f2ebf2fac40f49a788bfbb502b608326",
            "dd46dcd2175d418d9371ac07b0b54c5a",
            "02001c77b83e4a4995e7d6dfa1e85da9",
            "9181af612d8349a2900212456e484f4c",
            "b5e40a7cf8864e49a5b805ba35e7df07"
          ]
        }
      },
      "source": [
        "new_tokenizer = BertTokenizer.from_pretrained('bert-base-cased')\n",
        "new_bert = BertForMaskedLM.from_pretrained('bert-base-cased')\n",
        "\n",
        "fb2 = FitBert(model=new_bert, tokenizer=new_tokenizer, disable_gpu=True)"
      ],
      "execution_count": 14,
      "outputs": [
        {
          "output_type": "display_data",
          "data": {
            "application/vnd.jupyter.widget-view+json": {
              "model_id": "36594187140a4b39929934ee1fb697e8",
              "version_minor": 0,
              "version_major": 2
            },
            "text/plain": [
              "HBox(children=(IntProgress(value=0, description='Downloading', max=213450, style=ProgressStyle(description_wid…"
            ]
          },
          "metadata": {
            "tags": []
          }
        },
        {
          "output_type": "stream",
          "text": [
            "\n"
          ],
          "name": "stdout"
        },
        {
          "output_type": "display_data",
          "data": {
            "application/vnd.jupyter.widget-view+json": {
              "model_id": "7eedd94da3ae494d8359166abf650d7d",
              "version_minor": 0,
              "version_major": 2
            },
            "text/plain": [
              "HBox(children=(IntProgress(value=0, description='Downloading', max=433, style=ProgressStyle(description_width=…"
            ]
          },
          "metadata": {
            "tags": []
          }
        },
        {
          "output_type": "stream",
          "text": [
            "\n"
          ],
          "name": "stdout"
        },
        {
          "output_type": "display_data",
          "data": {
            "application/vnd.jupyter.widget-view+json": {
              "model_id": "4898380de6b441b59e42a8ec7f5c4af1",
              "version_minor": 0,
              "version_major": 2
            },
            "text/plain": [
              "HBox(children=(IntProgress(value=0, description='Downloading', max=435779157, style=ProgressStyle(description_…"
            ]
          },
          "metadata": {
            "tags": []
          }
        },
        {
          "output_type": "stream",
          "text": [
            "\n",
            "using model: bert-large-uncased\n",
            "device: cpu\n"
          ],
          "name": "stdout"
        }
      ]
    },
    {
      "cell_type": "code",
      "metadata": {
        "id": "F9HTQpKP-MUW",
        "colab_type": "code",
        "colab": {}
      },
      "source": [
        "def change_case(word: str):\n",
        "    if not word.isalpha():\n",
        "        return False\n",
        "\n",
        "    if word.lower() == word:\n",
        "        return word.capitalize()\n",
        "    elif word.capitalize() == word:\n",
        "        return word.lower()\n",
        "    else:\n",
        "        # camelCase, ALLUPPER, sPoNGeBoB, etc\n",
        "        return False"
      ],
      "execution_count": 0,
      "outputs": []
    },
    {
      "cell_type": "code",
      "metadata": {
        "id": "-XopjyyH9AjQ",
        "colab_type": "code",
        "outputId": "98dfb065-0853-4a52-bcab-85ac2249f8ed",
        "colab": {
          "base_uri": "https://localhost:8080/",
          "height": 102
        }
      },
      "source": [
        "# Naive implementation handles some cases\n",
        "masked_string = f'{fb2.mask_token} more than 2000 minerals are known, nearly all rocks are formed from seven mineral groups.'\n",
        "'''\n",
        "#(A) Although \n",
        "(B) However \n",
        "(C) Despite \n",
        "(D) Since   \n",
        "'''\n",
        "#masked_string = f\"These {fb2.mask_token} some common grammatical mistakes .\"\n",
        "options = [\"Although\", \"However\", \"Despite\", \"Since\" ]\n",
        "fb.rank_with_prob(masked_string, options=options)\n"
      ],
      "execution_count": 16,
      "outputs": [
        {
          "output_type": "execute_result",
          "data": {
            "text/plain": [
              "(['Although', 'Since', 'Despite', 'However'],\n",
              " [0.7068151831626892,\n",
              "  0.007502363063395023,\n",
              "  0.0011061099357903004,\n",
              "  0.00021216865570750087])"
            ]
          },
          "metadata": {
            "tags": []
          },
          "execution_count": 16
        }
      ]
    },
    {
      "cell_type": "code",
      "metadata": {
        "id": "HHTzrVjrnomq",
        "colab_type": "code",
        "colab": {
          "base_uri": "https://localhost:8080/",
          "height": 153
        },
        "outputId": "275ba0fb-7803-4cd2-c300-5af64ed2cd28"
      },
      "source": [
        "masked_string = f\"Our friends are expected to assume the burden of their own defense,{fb2.mask_token} they are competent to do.\"\n",
        "options = [\"which we are certain\", \"that we are certain of \", \"of which we are sure\", \"for which we are sure\" ]\n",
        "fb.rank_with_prob(masked_string, options=options)"
      ],
      "execution_count": 17,
      "outputs": [
        {
          "output_type": "execute_result",
          "data": {
            "text/plain": [
              "(['which we are certain',\n",
              "  'of which we are sure',\n",
              "  'for which we are sure',\n",
              "  'that we are certain of'],\n",
              " [7.986056449143198e-14,\n",
              "  8.050692507159841e-15,\n",
              "  3.7081823354854364e-15,\n",
              "  5.0975905690246776e-21])"
            ]
          },
          "metadata": {
            "tags": []
          },
          "execution_count": 17
        }
      ]
    },
    {
      "cell_type": "code",
      "metadata": {
        "id": "_N9fr_goG9mY",
        "colab_type": "code",
        "outputId": "af38e6bf-f17b-45e3-c589-f12c5c31fd14",
        "colab": {
          "base_uri": "https://localhost:8080/",
          "height": 34
        }
      },
      "source": [
        "# but not others\n",
        "masked_string = f\"These are some Common {fb2.mask_token} mistakes .\"\n",
        "options = [\"grammatical\", \"Grammatical\"]\n",
        "fb2.fitb(masked_string, options=options)\n"
      ],
      "execution_count": 18,
      "outputs": [
        {
          "output_type": "execute_result",
          "data": {
            "text/plain": [
              "'These are some Common Grammatical mistakes .'"
            ]
          },
          "metadata": {
            "tags": []
          },
          "execution_count": 18
        }
      ]
    },
    {
      "cell_type": "code",
      "metadata": {
        "id": "qcGBJ79PCmwA",
        "colab_type": "code",
        "outputId": "26e1389f-9069-4dd0-e8ef-31fd2edf759e",
        "colab": {
          "base_uri": "https://localhost:8080/",
          "height": 119
        }
      },
      "source": [
        "# we can loop through and look at each pairwise comparison to see whats going on\n",
        "# except we can't trust the probabilities order, because of a bug in fitbert\n",
        "orig = \"These are some Common Grammatical mistakes .\"\n",
        "\n",
        "tokens = orig.split(\" \")\n",
        "for i, token in enumerate(tokens):\n",
        "    masked_string = \" \".join(tokens[:i]) + fb2.mask_token + \" \".join(tokens[i:])\n",
        "    changed = change_case(token)\n",
        "    if changed:\n",
        "        options = [changed, token]\n",
        "        ranked, probs = fb2.rank(masked_string, options, with_prob=True)\n",
        "        print(ranked, probs)"
      ],
      "execution_count": 19,
      "outputs": [
        {
          "output_type": "stream",
          "text": [
            "['These', 'these'] [0.00013668806059285998, 1.906781290017534e-05]\n",
            "['are', 'Are'] [0.0012963489862158895, 1.4108933328316198e-06]\n",
            "['some', 'Some'] [0.0023925018031150103, 9.76750652625924e-06]\n",
            "['common', 'Common'] [0.05046171322464943, 0.02603953145444393]\n",
            "['Grammatical', 'grammatical'] [0.000162732059834525, 3.9787528294255026e-06]\n",
            "['mistakes', 'Mistakes'] [0.00013252747885417193, 2.397526372988068e-07]\n"
          ],
          "name": "stdout"
        }
      ]
    },
    {
      "cell_type": "code",
      "metadata": {
        "id": "asv7A-3hFh73",
        "colab_type": "code",
        "outputId": "5b514dd6-44b5-4fb5-eafc-f52ed4cf2504",
        "colab": {
          "base_uri": "https://localhost:8080/",
          "height": 289
        }
      },
      "source": [
        "# Using greedy decoding works pretty well\n",
        "\n",
        "orig = \"These are some Common Grammatical mistakes .\"\n",
        "\n",
        "tokens = orig.split(\" \")\n",
        "for i, token in enumerate(tokens):\n",
        "    if token.isalpha():\n",
        "        masked_string = \" \".join(tokens[0:i]) + \" \" + fb2.mask_token + \" \" + \" \".join(tokens[i + 1:])\n",
        "        print(\"the masked string is: \", masked_string)\n",
        "        changed = change_case(token)\n",
        "        if changed:\n",
        "            options = [changed, token]\n",
        "            ranked, probs = fb2.rank(masked_string, options, with_prob=True)\n",
        "            print(ranked, probs)\n",
        "            if ranked[0] == changed:\n",
        "                # should use probs, but there is a bug where it is sorted before being returned :facepalm:\n",
        "                tokens[i] = changed\n",
        "                print(\"the string is now:\", \" \".join(tokens))\n",
        "print(\"final version is\")\n",
        "print(\" \".join(tokens))"
      ],
      "execution_count": 20,
      "outputs": [
        {
          "output_type": "stream",
          "text": [
            "the masked string is:   ***mask*** are some Common Grammatical mistakes .\n",
            "['These', 'these'] [0.05224079638719559, 0.0011475178180262446]\n",
            "the masked string is:  These ***mask*** some Common Grammatical mistakes .\n",
            "['are', 'Are'] [0.4918549060821533, 0.00012340431567281485]\n",
            "the masked string is:  These are ***mask*** Common Grammatical mistakes .\n",
            "['some', 'Some'] [0.006553384475409985, 0.0004972806782461703]\n",
            "the masked string is:  These are some ***mask*** Grammatical mistakes .\n",
            "['common', 'Common'] [0.22821259498596191, 0.011387941427528858]\n",
            "the string is now: These are some common Grammatical mistakes .\n",
            "the masked string is:  These are some common ***mask*** mistakes .\n",
            "['grammatical', 'Grammatical'] [1.658693508943543e-05, 1.957110725925304e-06]\n",
            "the string is now: These are some common grammatical mistakes .\n",
            "the masked string is:  These are some common grammatical ***mask*** .\n",
            "['mistakes', 'Mistakes'] [0.0025533486623317003, 5.693044258237023e-09]\n",
            "final version is\n",
            "These are some common grammatical mistakes .\n"
          ],
          "name": "stdout"
        }
      ]
    },
    {
      "cell_type": "code",
      "metadata": {
        "id": "2k3x9IoIJe7Q",
        "colab_type": "code",
        "outputId": "cf9fcf38-0834-44fb-81b6-047cbd80189f",
        "colab": {
          "base_uri": "https://localhost:8080/",
          "height": 51
        }
      },
      "source": [
        "# I can't tell if this behaviour is ok\n",
        "# Wikipedia says that this correction is good\n",
        "# I thought this would be hard for the model...\n",
        "\n",
        "orig = \"I 'm really feeling Panic! At The Disco .\"\n",
        "\n",
        "tokens = orig.split(\" \")\n",
        "for i, token in enumerate(tokens):\n",
        "    if i>0:\n",
        "        if token.isalpha():\n",
        "            masked_string = \" \".join(tokens[0:i]) + \" \" + fb2.mask_token + \" \" + \" \".join(tokens[i + 1:])\n",
        "            changed = change_case(token)\n",
        "            if changed:\n",
        "                options = [changed, token]\n",
        "                ranked, probs = fb2.rank(masked_string, options, with_prob=True)\n",
        "                if ranked[0] == changed:\n",
        "                    # should use probs, but there is a bug where it is sorted before being returned :facepalm:\n",
        "                    tokens[i] = changed\n",
        "print(\"final version is\")\n",
        "print(\" \".join(tokens))"
      ],
      "execution_count": 21,
      "outputs": [
        {
          "output_type": "stream",
          "text": [
            "final version is\n",
            "I 'm really feeling Panic! at the Disco .\n"
          ],
          "name": "stdout"
        }
      ]
    },
    {
      "cell_type": "code",
      "metadata": {
        "id": "_rCzD68cLFbP",
        "colab_type": "code",
        "outputId": "eb197ed1-7b09-4748-dd41-c2ce1cd7ecbd",
        "colab": {
          "base_uri": "https://localhost:8080/",
          "height": 71
        }
      },
      "source": [
        "# Truecasing is nearly impossible if a product name is also a common noun\n",
        "\n",
        "orig = \"Create Styleguides to standardize a writing style across all your content — or to manage distinct styles for different audiences .\"\n",
        "\n",
        "tokens = orig.split(\" \")\n",
        "for i, token in enumerate(tokens):\n",
        "    if token.isalpha() and i>0:\n",
        "        masked_string = \" \".join(tokens[0:i]) + \" \" + fb2.mask_token + \" \" + \" \".join(tokens[i + 1:])\n",
        "        changed = change_case(token)\n",
        "        if changed:\n",
        "            options = [changed, token]\n",
        "            ranked, probs = fb2.rank(masked_string, options, with_prob=True)\n",
        "            if ranked[0] == changed:\n",
        "                # should use probs, but there is a bug where it is sorted before being returned :facepalm:\n",
        "                tokens[i] = changed\n",
        "print(\"final version is\")\n",
        "print(\" \".join(tokens))"
      ],
      "execution_count": 22,
      "outputs": [
        {
          "output_type": "stream",
          "text": [
            "final version is\n",
            "Create styleguides to standardize a writing style across all your content — or to manage distinct styles for different audiences .\n"
          ],
          "name": "stdout"
        }
      ]
    },
    {
      "cell_type": "code",
      "metadata": {
        "id": "tLxKCCrsLyV8",
        "colab_type": "code",
        "colab": {}
      },
      "source": [
        ""
      ],
      "execution_count": 0,
      "outputs": []
    }
  ]
}