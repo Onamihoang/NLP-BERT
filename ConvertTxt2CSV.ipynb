{
  "nbformat": 4,
  "nbformat_minor": 0,
  "metadata": {
    "colab": {
      "name": "ConvertTxt2CSV.ipynb",
      "provenance": [],
      "collapsed_sections": [],
      "authorship_tag": "ABX9TyPoNgI8GXsFdCiXRJJDeXh8",
      "include_colab_link": true
    },
    "kernelspec": {
      "name": "python3",
      "display_name": "Python 3"
    }
  },
  "cells": [
    {
      "cell_type": "markdown",
      "metadata": {
        "id": "view-in-github",
        "colab_type": "text"
      },
      "source": [
        "<a href=\"https://colab.research.google.com/github/Onamihoang/NLP-IELTS/blob/master/ConvertTxt2CSV.ipynb\" target=\"_parent\"><img src=\"https://colab.research.google.com/assets/colab-badge.svg\" alt=\"Open In Colab\"/></a>"
      ]
    },
    {
      "cell_type": "code",
      "metadata": {
        "id": "nMMC-mR_PCgU",
        "colab_type": "code",
        "colab": {}
      },
      "source": [
        "import pandas as pd\n",
        "import csv\n",
        "import re\n",
        "\n",
        "\n",
        "def convertCSV(dirinput,diroutput):\n",
        "    qus,A,B,C,D = \"\",\"\",\"\",\"\",\"\"\n",
        "    dem,ans = 0,0\n",
        "    with open(diroutput, 'w', newline='') as f:\n",
        "        fieldnames = ['qus', 'A', 'B', 'C', 'D', 'ans']\n",
        "        writein = csv.DictWriter(f, fieldnames=fieldnames)\n",
        "        writein.writerow({'qus':'qus', 'A':'A','B':'B', 'C':'C', 'D':'D','ans':'ans' })\n",
        "        file1 = open(dirinput,\"r\") \n",
        "        for line in file1:\n",
        "            dem+=1\n",
        "            if \"##\" in line:\n",
        "                qus = re.sub(\"##\",'',line)\n",
        "                dem = 0\n",
        "            if '#' in line:\n",
        "                ans = dem\n",
        "            if dem%5 ==1 :\n",
        "                A = re.sub(\"#|\\(A\\)|\\n\",'',line)\n",
        "            if dem%5 ==2 :\n",
        "                B = re.sub(\"#|\\(B\\)|\\n\",'',line)\n",
        "            if dem%5 ==3 :\n",
        "                C = re.sub(\"#|\\(C\\)|\\n\",'',line)\n",
        "            if dem%5 ==4 :\n",
        "                D = re.sub(\"#|\\(D\\)|\\n\",'',line)\n",
        "            \n",
        "            if dem%5 == 4 :\n",
        "                writein.writerow({'qus':qus, 'A':A,'B':B, 'C':C, 'D':D,'ans':ans })\n",
        "        file1.close() \n",
        "    \n",
        "    df = pd.read_csv(diroutput)\n",
        "    print(df)\n",
        "#convertCSV(\"demoQuestion.txt\",\"demo.csv\")"
      ],
      "execution_count": 0,
      "outputs": []
    },
    {
      "cell_type": "code",
      "metadata": {
        "id": "514Z7z0hpxC2",
        "colab_type": "code",
        "colab": {}
      },
      "source": [
        "dem2 = 0\n",
        "file_error = open('100Ques.txt','r')\n",
        "#data = file_error.read()\n",
        "#print(data)\n",
        "#print(len(data))\n",
        "newdata = open(\"newdata.txt\", 'a')\n",
        "for line in file_error:\n",
        "    if \"(a)\" in line:\n",
        "        line = \"\\n\"+ line\n",
        "        newdata.write(line)\n",
        "    elif \"(b)\" in line or \"(c)\" in line or \"(d)\" in line:\n",
        "        newdata.write(line)\n",
        "\n",
        "    else:\n",
        "        #wi = re.search('Q(\\d+)', line)\n",
        "        #if wi:\n",
        "            #print(line)\n",
        "        line = re.sub('(?<=#)',\"#\", line)\n",
        "        print(line)\n",
        "        newdata.write(re.sub(\"\\n\",\"\",line))\n"
      ],
      "execution_count": 0,
      "outputs": []
    },
    {
      "cell_type": "code",
      "metadata": {
        "id": "RBXLugulogPT",
        "colab_type": "code",
        "colab": {}
      },
      "source": [
        "data = open('newdata.txt','r')\n",
        "for line in data:\n",
        "    print(line)"
      ],
      "execution_count": 0,
      "outputs": []
    },
    {
      "cell_type": "code",
      "metadata": {
        "id": "NLqRiZV4qK66",
        "colab_type": "code",
        "outputId": "20a4d263-0e07-4277-9b31-58ea1ff76e3c",
        "colab": {
          "base_uri": "https://localhost:8080/",
          "height": 105
        }
      },
      "source": [
        "ans = open(\"100ToeicAns.txt\", 'r')\n",
        "newans = open('ans.txt','a')\n",
        "a = []\n",
        "for line in ans:\n",
        "    line = re.sub(r' ',\"\", line)\n",
        "\n",
        "    #line = re.sub(r'(.*?#)',\"#\", line)\n",
        "\n",
        "    if re.search('\\([a-z]\\)', line):\n",
        "        ketqua = re.findall(\"\\([a-z]\\)(.*?)\\n\",line,flags=0)\n",
        "        newans.writelines(ketqua[0] + '\\n')\n",
        "        a.append(ketqua[0])\n",
        "print(newans)\n",
        "print(a)\n",
        "print(len(a))\n",
        "if \"up\" in a:\n",
        "    print(\"c\")\n",
        "#line = re.sub('##(.*?)Q[0-9]','',line)\n",
        "                #line = re.sub('Q[0-9]|Q[0-9][0-9]|Q [0-9][0-9][0-9]','',line)"
      ],
      "execution_count": 94,
      "outputs": [
        {
          "output_type": "stream",
          "text": [
            "<_io.TextIOWrapper name='ans.txt' mode='a' encoding='UTF-8'>\n",
            "['up', 'down', 'mind', 'fruit', 'crosses', 'grin', 'with', 'out', 'on', 'comparison', 'attained', 'continue', 'influence', 'entertainment', 'represent', 'disperse', 'releasing', 'continuation', 'separate', 'description', '7', 'Absolutely', 'address', 'around', 'awesome', 'ballpark', 'basically', 'basis', 'bear', 'hard', 'appliedforthisjob', 'theopenair', 'airconditioning', 'onabout', 'prettyobvious', \"itisn't\", \"takeityou'reMrJohnson\", 'mistakenidentity', 'Ipresume', \"ifyoudon'tmind\", 'standing', 'delay', 'failure', 'expected', 'offering', 'waterlogged', 'false', 'concourse', 'extinguished', 'breakdown', 'move', 'preventing', 'owner', 'announcement', 'bunch', 'request', 'time', 'remind', 'purchases', 'message', 'appreciation', 'applause', 'clapped', 'overcome', 'temporary', 'speech', 'sobbing', 'reason', 'current', 'comedy', 'reporter', \"bird's\", 'perched', 'brass', 'staring', 'performers', 'wheelchairs', 'notebook', 'soaked', 'arrest', \"I'veleftmywalletathome\", 'allowmetopaylater', 'leavemywatchasadeposit', \"youdon'treallyliketheidea\", 'bringmethemoney', \"I'mholdingupyourtrade\", \"you'rebeingveryunreasonable\", 'callthemanager', 'sympathise', \"ofcourseI'llwashthedishesinthekitchen\", 'itemized', 'expense', 'credit', 'open', 'settle', 'keeping', 'publish', 'joint', 'deposit', 'for', 'comparison', 'satisfy', 'inspire', 'current', 'convince', 'competitive', 'consumption', 'attract', 'persuades', 'product', 'abide', 'specified', 'resolve', 'parties', 'cancel', 'engage', 'established', 'assurance', 'provision', 'determine', 'applying', 'stand', 'fed', 'strike', 'heart', 'target', 'boughtup', 'running', 'hand', 'retirement', 'spree', 'overhauled', 'disclosed', 'stepdown', 'stepup', 'culture', 'revealed', 'haul', 'clashes', 'fears', 'access', 'allocate', 'shutdown', 'searching', 'figureout', \"'delete'\", 'display', 'compatible', 'warning', \"'ignore'\", 'affordable', 'provider', 'recur', 'reduction', 'stock', 'top', 'needed', 'charge', 'capacity', 'initiative', 'appreciation', 'reinforce', 'code', 'practice', 'verbal', 'casual', 'glimpse', 'outof', 'exposed', 'outdated', 'bargains', 'bear', 'checkouts', 'expanded', 'items', 'explore', 'trend', 'strict', 'mandatory', 'merchandise', 'clarification', 'published', 'findings', 'tolerated', 'refrain', 'agenda', 'business', 'halt', 'minute', 'postpone', 'do', 'set', 'into', 'made', 'none', 'usual', 'funny', 'get', 'about', 'went', 'no', 'in', 'like', 'mean', 'mind', 'on', 'card', 'end', 'park', 'show', 'practice', 'prime', 'up', 'subscribers', 'blue-collar', 'key', 'likely', 'endangered', 'reluctant', 'sacrifice', 'disc', 'networking', 'replaced', 'popular', 'sharp', 'storage', 'technical', 'revolution', 'facilitate', 'processing', 'lows', 'enquiry', 'launched', 'unaware', 'risen', 'stumpup', 'export', 'reduce', 'collect', 'turnedout', 'generating', 'mentor', 'reject', 'training', 'update', 'setup', 'success', 'keepupwith', 'conduct', 'ontrack', 'desired', 'forecast', 'realistic', 'targeting', 'yielded', 'Overall', 'levels', 'typical', 'perspective', 'detailed', 'recession', 'investing', 'withdraw', 'yield', 'cut', 'deal', 'takeoff', 'merge', 'assets', 'fixed', 'bid', 'takeover', 'Trading', 'funded', 'slowdown', 'upturn', 'order', 'stake', 'valued', 'redundant', 'unemployed', 'quibble', 'shortfall', 'lump', 'Investors', 'capital', 'charge', 'benefit', 'balance', 'rates', 'consequence', 'implied', 'expired', 'promise', 'reputation', 'require', 'frequently', 'protect', 'consider', 'vary', 'side', 'rely', 'coincide', 'hymn', 'looking', 'voice', 'raise', 'with', 'endorse', 'hand', 'forgive', 'sorry', 'apologies', 'excuse', 'regret', 'beg', 'back', 'amends', 'indulgence', 'repent', 'direction', 'get', 'point', 'direct', 'far', 'need', 'making', 'turning', 'According', 'right', 'handled', 'action', 'further', 'insist', 'lack', 'senior', 'treated', 'grounds', 'forced', 'temper', 'much', 'honest', 'point', 'issue', 'footing', 'list', 'acceptable', 'lying', 'elsewhere', 'tired', 'share', 'part', 'opposed', 'beg', 'home', 'common', 'meet', 'mind', 'principle', 'face', 'done', 'Keep', 'make', 'stand', 'persevere', 'talent', 'believe', 'reason', 'give', 'put', 'on', 'left', 'complaining', 'tail', 'way', 'wrong', 'job', 'passed', 'actually', 'least', 'policy', 'premiums', 'beneficiary', 'cover', 'actuary', 'return', 'examination', 'expectancy', 'grace', 'hazards', 'interact', 'effective', 'down', 'inter', 'global', 'communication', 'recap', 'access', 'motivation', 'term', 'goal', 'filtering', 'wheel', 'enhancement', 'portals', 'tapping', 'generate', 'dimension', 'venture', 'lead', 'ability', 'up', 'hesitate', 'expert', 'constantly', 'calledin', 'background', 'confidence', 'weaknesses', 'present', 'charge', 'terms', 'efficient', 'estimate', 'prompt', 'mistake', 'rectified', 'discount', 'customer', 'imposed', 'background', 'application', 'period', 'yourself', 'strengths', 'time', 'deal', 'handed', 'honour', 'put', 'breaking', 'hands', 'against', 'arm', 'jungle', 'unto', 'lay', 'letter', 'above', 'order', 'resort', 'appointment', 'very', 'cash', 'arrangements', 'purpose', 'would', 'vain', 'eventually', 'promised', 'reputable', 'Apparently', 'situation', 'greeted', 'offensive', 'kicking', 'through', 'off', 'little', 'off', 'recovered', 'defective', 'brought', 'unsure', 'place', 'rid', 'refund', 'raised', 'question', 'near', 'pay', 'all', 'Admittedly', 'facility', 'launderette', 'during', 'up', 'tether', 'insist', 'seek', 'hand', 'hard', 'petty', 'flow', 'in', 'making', 'easy', 'order', 'spinner', 'back', 'balance', 'takeout', 'mortgage', 'down', 'transactions', 'signature', 'accept', 'restriction', 'cautious', 'borrow', 'accounting', 'debt', 'clients', 'budget', 'assets', 'reconcile', 'audit', 'outstanding', 'borrowers', 'accumulate', 'commitment', 'funds', 'conservative', 'long-term', 'portfolio', 'return', 'wise', 'resource', 'aggression', 'attitude', 'deadline', 'fillout', 'refund', 'withholds', 'owe', 'file', 'penalty', 'calculate', 'joint', 'giveup', 'loads', 'come', 'favourites', 'referring', 'appeals', 'rhymes', 'decadent', 'meaning', 'hides', 'embarrassed', 'either', 'of', 'extremely', 'accept', 'profit', 'found', 'instead', 'careful', 'reputation', 'significant', 'basis', 'delicate', 'negotiate', 'flexible', 'eligible', 'raise', 'compensation', 'benefit', 'wage', 'retire', 'avoid', 'risk', 'strong', 'substitute', 'primary', 'evaluate', 'gathering', 'demonstrate', 'addressed', 'developed', 'ascertain', 'research', 'responsibility', 'solve', 'organizer', 'systematic', 'logical', 'decade', 'examine', 'experiment', 'brands', 'inspected', 'perceive', 'takeitback', 'wrinkles', 'uniform', 'garment', 'repel', 'enhanced', 'defect', 'stance', 'target', 'dismay', 'splits', 'plagued', 'nerveracking', 'speededup', 'shambles', 'merger', 'dilemma', 'calculate', 'owed', 'joint', 'penalty', 'deadline', 'refund', 'fillout', 'spouse', 'withhold', 'file', 'prior', 'necessity', 'arguing', 'consequence', 'difficult', 'inside', 'sympathy', 'partake', 'sympathized', 'as', 'rubbish', 'cardboard', 'room', 'plain', 'away', 'yawning', 'open', 'like', 'desired', 'life', 'part', 'accept', 'differ', 'board', 'persuasive', 'cows', 'closed', 'hand', 'convinced', 'leg', 'leaving', 'against', 'habit', 'behaviour', 'down', 'along', 'mind', 'obstacle', 'chance', 'way', 'for', 'comfortable', 'before', 'hiding', 'stay', 'table', 'admit', 'bit', 'meet', 'journey', 'stomach', 'bite', 'screaming', 'dare', 'repeat', 'laughing', 'no', 'out', 'final', 'less', 'perfect', 'tried', 'scent', 'fail', 'safely', 'got', 'some', 'dreaming', 'promise', 'bliss', 'express', 'appreciate', 'forget', 'sum', 'bottom', 'token', 'possibly', 'in', 'enclose', 'sort', 'told', 'chance', 'clear', 'improve', 'head', 'own', 'wait', 'overlook', 'need', 'ear', 'achieve', 'productive', 'loyal', 'promote', 'merit', 'valued', 'recognition', 'contribute', 'forward', 'obvious', 'flush', 'tempered', 'landing', 'rumblings', 'surfeit', 'roof', 'lastlaugh', 'offing', 'rideout', 'recipe', 'archaeologists', 'eye-catching', 'excavated', 'criers', 'praises', 'headway', 'set', 'extentthatadvertiserswereproducingmanyoftheirownprograms.', 'extent', 'ushered', 'embraced', 'anequivalent', 'aconcentration', 'internship', 'timely', 'broadening', 'Public', 'forensic', 'expert', 'Management', 'sector', 'vital', 'prepackaged', 'interfacing', 'support', 'unwanted', 'aged', 'transactions', 'captures', 'check', 'placed', 'precondition', 'access', 'periodic', 'nodes', 'Terminal', \"farmers'\", 'emergence', 'demographic', 'instruments', 'account', 'submitted', 'fiscal', 'currency', 'recovered', 'apeak', 'bankruptcy', 'frozen', 'line', 'kept', 'performance', 'basics', 'fall', 'spread', 'outstanding', 'behave', 'favor', 'counterparts', 'volatile', 'turn', 'Diversification', 'reliability', 'report', 'preparation', 'materially', 'validity', 'completeness', 'accuracy', 'credibility', 'misstated', 'control', 'concept', 'residual', 'makes', 'Suggested', 'capitalized', 'down', 'tyingup', 'decimal', 'thumb', 'aspotless', 'devices', 'practical', 'branch', 'conversion', 'fields', 'earnest', 'set', 'fed', 'extract', 'visible', 'residual', 'insolvency', 'conversion', 'default', 'face', 'denomination', 'paper', 'prospectus', 'Closed-end', 'put', 'factors', 'monitor', 'prompt', 'stick', 'justified', 'inflation', 'potential', 'projected', 'cashflowforecastrequiresestimatingtheexpectedmonthlyexpendituresandmatchingthoseagainstthelikelymonthlyincome.', 'cashflow', 'rolling', 'civil', 'amply', 'assignment', 'practicing', 'interests', 'softlaw', 'materialised', 'advance', 'cross', 'integrated', 'attention', 'principle', 'weighing', 'effortless', 'tone', 'conversational', 'padding', 'patronizing', 'businesslike', 'impact', 'shape', 'inexorably', 'play', 'fierce', 'swallowed', 'flagging', 'oligopolyinwhichSAPandOraclesharemarketleadershipintheworldofbusinessapplicationsoftware.', 'oligopoly', 'making', 'spree', 'striving', 'around', 'held', 'popular', 'way', 'up', 'nearby', 'through', 'functions', 'detects', 'back', 'theoretical', 'exist', 'transparency', 'consistency', 'facilitates', 'diverge', 'soldoff', 'inplace', 'proponents', 'health', 'package', 'prospective', 'overall', 'group', 'treatment', 'childcare', 'limits', 'retirees', 'shares', 'Telecommuting', 'paper', 'sense', 'visibility', 'vendor', 'plugged', 'done', 'otherwise', 'exchange', 'spotlight', 'suit', 'disposal', 'tangible', 'positioned', 'receptive', 'repercussions', 'afloat', 'subsequent', 'premium', 'bias', 'Physiological', 'binding', 'paid', 'Signing', 'certain', 'enters', 'accepts', 'value', 'consideration', 'illegal', 'capacity', 'defensible', 'inthestreet', 'sole', 'brackets', 'relocate', 'enacted', 'individual', 'curtailed', 'people', 'progenitors', 'nose', 'gamut', 'brought', 'channels', 'confidential', 'do', 'diligence', 'potent', 'scrutinize', 'witnessing', 'spans', 'brick-and-mortar', 'augment', 'bolster', 'sorely', 'traffic', 'proposition', 'kiosk', 'shop', 'bet', 'acclaim', 'mechanisms', 'augment', 'sidelines', 'mortar', 'riseto', 'tothisday', 'underpin', 'advent', 'rise', 'unparalleled', 'pitfalls', 'defensiveness', 'wronged', 'ticks', 'inflection', 'damage', 'telegraphs', 'but', 'politically', 'standards', 'authoritative', 'process', 'departures', 'Crash', 'consistently', 'Exchange', 'inventory', \"auditor's\", 'matching', 'integrated', 'stakeholders', 'segmented', 'relative', 'engaging', 'outperform', 'best', 'call', 'brief', 'board']\n",
            "1003\n",
            "c\n"
          ],
          "name": "stdout"
        }
      ]
    },
    {
      "cell_type": "code",
      "metadata": {
        "id": "N2XPwUuptpRd",
        "colab_type": "code",
        "colab": {}
      },
      "source": [
        "def cleanans(line):\n",
        "    ketqua = re.sub(\"\\([a-z]\\) |\\n\",'',line,)\n",
        "    return ketqua\n",
        "def convertQues(dapan,dirinput, diroutput): \n",
        "    qus,A,B,C,D = \"\",\"\",\"\",\"\",\"\"\n",
        "    dem,ans, socau = 0,0,0\n",
        "    with open(diroutput, 'w', newline='') as f:\n",
        "        fieldnames = ['qus', 'A', 'B', 'C', 'D', 'ans']\n",
        "        writein = csv.DictWriter(f, fieldnames=fieldnames)\n",
        "        writein.writerow({'qus':'qus', 'A':'A','B':'B', 'C':'C', 'D':'D','ans':'ans' })\n",
        "        file1 = open(dirinput,\"r\") \n",
        "        for line in file1:\n",
        "            dem+=1\n",
        "            if not re.search('\\([a-z]\\)',line):\n",
        "                line = re.sub('##(.*?)Q[0-9]','',line)\n",
        "                line = re.sub('Q[0-9]|Q[0-9][0-9]|Q [0-9][0-9][0-9]','',line)\n",
        "                \n",
        "                qus = line\n",
        "                dem = 0\n",
        "            elif re.search('\\(a\\)', line):\n",
        "                \n",
        "                A = cleanans(line)\n",
        "                \n",
        "                if A in dapan:\n",
        "                    ans = 1\n",
        "                    dapan.remove(A)\n",
        "                    \n",
        "            elif re.search('\\(b\\)', line):\n",
        "                B = cleanans(line)\n",
        "                if B in dapan:\n",
        "                    ans = 2\n",
        "                    dapan.remove(B)\n",
        "            elif re.search('\\(c\\)', line):\n",
        "                C = cleanans(line)\n",
        "                if C in dapan:\n",
        "                    ans = 3\n",
        "                    dapan.remove(C)\n",
        "            elif re.search('\\(d\\)', line):\n",
        "                D = cleanans(line)\n",
        "                if D in dapan:\n",
        "                    ans = 4\n",
        "                    dapan.remove(D)\n",
        "            #print(ans)\n",
        "            if dem%5 == 4 :\n",
        "                writein.writerow({'qus':qus, 'A':A,'B':B, 'C':C, 'D':D,'ans':ans })\n",
        "        file1.close() \n",
        "\n",
        "    df = pd.read_csv(diroutput)\n",
        "    print(df)\n",
        "\n",
        "convertQues(a,\"newdata.txt\", \"newdata.csv\")"
      ],
      "execution_count": 0,
      "outputs": []
    },
    {
      "cell_type": "code",
      "metadata": {
        "id": "bJ7AA6Su65LL",
        "colab_type": "code",
        "colab": {}
      },
      "source": [
        ""
      ],
      "execution_count": 0,
      "outputs": []
    }
  ]
}