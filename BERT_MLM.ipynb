{
  "nbformat": 4,
  "nbformat_minor": 0,
  "metadata": {
    "colab": {
      "name": "BERT MLM.ipynb",
      "provenance": [],
      "collapsed_sections": [],
      "include_colab_link": true
    },
    "kernelspec": {
      "name": "python3",
      "display_name": "Python 3"
    },
    "accelerator": "GPU"
  },
  "cells": [
    {
      "cell_type": "markdown",
      "metadata": {
        "id": "view-in-github",
        "colab_type": "text"
      },
      "source": [
        "<a href=\"https://colab.research.google.com/github/Onamihoang/NLP-BERT/blob/master/BERT_MLM.ipynb\" target=\"_parent\"><img src=\"https://colab.research.google.com/assets/colab-badge.svg\" alt=\"Open In Colab\"/></a>"
      ]
    },
    {
      "cell_type": "code",
      "metadata": {
        "id": "6OYMDBCMWoEF",
        "colab_type": "code",
        "colab": {}
      },
      "source": [
        "pip install pytorch_transformers"
      ],
      "execution_count": 0,
      "outputs": []
    },
    {
      "cell_type": "markdown",
      "metadata": {
        "id": "x9bADOAB5LSv",
        "colab_type": "text"
      },
      "source": [
        "#MLM\n",
        "This is a demo for BERT's MLM task\n",
        "\n",
        "This tutorial is based on Eyal Gruss's own [tutorial](https://github.com/eyaler/workshop/blob/master/bert.ipynb)\n"
      ]
    },
    {
      "cell_type": "code",
      "metadata": {
        "id": "0jlDgiz_5fc2",
        "colab_type": "code",
        "colab": {}
      },
      "source": [
        "import torch\n",
        "from pytorch_transformers import BertTokenizer, BertModel, BertForMaskedLM"
      ],
      "execution_count": 0,
      "outputs": []
    },
    {
      "cell_type": "code",
      "metadata": {
        "id": "B0inMxhp5nUE",
        "colab_type": "code",
        "colab": {}
      },
      "source": [
        "#Init tokenizer, BERT uses its own word part tokenizer\n",
        "tokenizer = BertTokenizer.from_pretrained('bert-base-uncased')\n",
        "\n",
        "# Load pre-trained model (weights)\n",
        "model = BertModel.from_pretrained('bert-base-uncased')\n",
        "\n",
        "# Set the model in evaluation mode to desactivate the DropOut modules\n",
        "# This is IMPORTANT to have reproductible results during evaluation!\n",
        "model = BertForMaskedLM.from_pretrained('bert-base-uncased')\n",
        "model.eval()\n",
        "\n",
        "model = model.to('cuda')\n"
      ],
      "execution_count": 0,
      "outputs": []
    },
    {
      "cell_type": "markdown",
      "metadata": {
        "id": "qjaLRHVu_kOi",
        "colab_type": "text"
      },
      "source": [
        "In this function we will run masked language modeling.\n",
        "\n",
        "This function will preprocess the text.\n",
        "It will add the mandatory BERT tokens of **[CLS]** and **[SEP]**\n",
        "It will then convert those tokens into their respective ID's in the vocab.\n",
        "\n",
        "For every token fed into the model we will get a #vocab size dimension softmax vector indicating which words better fit this position in the sentence.\n",
        "\n",
        "We then take the tokens corrseponding to these top indexes\n",
        "\n",
        "<img src='http://jalammar.github.io/images/BERT-language-modeling-masked-lm.png' width=\"600px\"/>\n",
        "\n",
        "\n",
        "(image source: [The Illustrated BERT](http://jalammar.github.io/illustrated-bert/))\n",
        "\n",
        "\n",
        "\n",
        "\n"
      ]
    },
    {
      "cell_type": "code",
      "metadata": {
        "id": "KyuTQ1VZbtaY",
        "colab_type": "code",
        "colab": {}
      },
      "source": [
        "\"\"\"\n",
        "Find the best matching guesses for the masked word\n",
        "text: a sentence much include exactly one [MASK] token to predict.\n",
        "      For example:\n",
        "      'Alex likes to have [MASK] with his best friend'\n",
        "model: a BertForMaskedLM\n",
        "tokenizer: a Bert tokenizer\n",
        "topn: Number of candidates for mask\n",
        "\n",
        "Returns candidates and their probs\n",
        "\"\"\"\n",
        "def predict_word(text, model, tokenizer, topn=10):\n",
        "  # Prepare tex\n",
        "  text = '[CLS] '+ text.lstrip('[CLS] ').rstrip(' [SEP]')+' [SEP]'\n",
        "  # Tokenize input\n",
        "  tokenized_text = tokenizer.tokenize(text)\n",
        "\n",
        "  # Mask a token that we will try to predict back with `BertForMaskedLM`\n",
        "  masked_index = -1\n",
        "  for i, token in enumerate(tokenized_text):\n",
        "    if token=='[MASK]':\n",
        "      masked_index = i\n",
        "      break\n",
        "  assert i>=0\n",
        "\n",
        "  # Convert token to vocabulary indices\n",
        "  indexed_tokens = tokenizer.convert_tokens_to_ids(tokenized_text)\n",
        "  # Define sentence A and B indices associated to 1st and 2nd sentences (see paper)\n",
        "  segments_ids = [0]*len(tokenized_text)\n",
        "\n",
        "  # Convert inputs to PyTorch tensors\n",
        "  tokens_tensor = torch.tensor([indexed_tokens])\n",
        "  segments_tensors = torch.tensor([segments_ids])  \n",
        "\n",
        "  # If you have a GPU, put everything on cuda\n",
        "  tokens_tensor = tokens_tensor.to('cuda')\n",
        "  segments_tensors = segments_tensors.to('cuda')  \n",
        "\n",
        "  # Predict all tokens\n",
        "  with torch.no_grad():\n",
        "      outputs = model(tokens_tensor, token_type_ids=segments_tensors)\n",
        "      predictions = outputs[0]\n",
        "  print(\"Predictions shape: \" + str(predictions[0].shape))\n",
        "  predicted_inds = torch.argsort(-predictions[0, masked_index])\n",
        "  predicted_probs = [round(p.item(),4) for p in torch.softmax(predictions[0, masked_index], 0)[predicted_inds]]\n",
        "  predicted_tokens = tokenizer.convert_ids_to_tokens([ind.item() for ind in predicted_inds])\n",
        "  \n",
        "  return list(zip(predicted_tokens, predicted_probs))[:topn]\n",
        "\n"
      ],
      "execution_count": 0,
      "outputs": []
    },
    {
      "cell_type": "code",
      "metadata": {
        "id": "3X_j9L7hbxt2",
        "colab_type": "code",
        "colab": {}
      },
      "source": [
        "predict_word('The boy [MASK] to the school', model, tokenizer)"
      ],
      "execution_count": 0,
      "outputs": []
    },
    {
      "cell_type": "code",
      "metadata": {
        "id": "3ZQWt5nHpHuQ",
        "colab_type": "code",
        "colab": {}
      },
      "source": [
        "predict_word('My friend [MASK] is a mother', model, tokenizer)"
      ],
      "execution_count": 0,
      "outputs": []
    },
    {
      "cell_type": "code",
      "metadata": {
        "id": "Wxz1yC4iuO5a",
        "colab_type": "code",
        "colab": {}
      },
      "source": [
        "predict_word('My friend [MASK] is a programmer', model, tokenizer)"
      ],
      "execution_count": 0,
      "outputs": []
    },
    {
      "cell_type": "code",
      "metadata": {
        "id": "VQBnd7nKuQaB",
        "colab_type": "code",
        "colab": {}
      },
      "source": [
        "predict_word('My friend [MASK] is a doctor', model, tokenizer)"
      ],
      "execution_count": 0,
      "outputs": []
    },
    {
      "cell_type": "code",
      "metadata": {
        "id": "Xpk-Jv4K_Fgw",
        "colab_type": "code",
        "colab": {}
      },
      "source": [
        ""
      ],
      "execution_count": 0,
      "outputs": []
    }
  ]
}